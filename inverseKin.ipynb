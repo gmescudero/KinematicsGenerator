{
 "cells": [
  {
   "cell_type": "code",
   "execution_count": 1,
   "metadata": {},
   "outputs": [],
   "source": [
    "import sympy\n",
    "from sympy.abc import x,y,z\n",
    "from cmath import pi\n",
    "from kinematicBuilder import *"
   ]
  },
  {
   "cell_type": "markdown",
   "metadata": {},
   "source": [
    "# Two-Link Planar "
   ]
  },
  {
   "cell_type": "markdown",
   "metadata": {},
   "source": [
    "## Examples"
   ]
  },
  {
   "cell_type": "code",
   "execution_count": 2,
   "metadata": {},
   "outputs": [
    {
     "data": {
      "text/latex": [
       "$\\displaystyle \\left[\\begin{matrix}2 \\cos{\\left(q_{1} \\right)} + 3 \\cos{\\left(q_{1} + q_{2} \\right)}\\\\2 \\sin{\\left(q_{1} \\right)} + 3 \\sin{\\left(q_{1} + q_{2} \\right)}\\\\0\\\\q_{1} + q_{2}\\\\0\\\\0\\end{matrix}\\right]$"
      ],
      "text/plain": [
       "Matrix([\n",
       "[2*cos(q_1) + 3*cos(q_1 + q_2)],\n",
       "[2*sin(q_1) + 3*sin(q_1 + q_2)],\n",
       "[                            0],\n",
       "[                    q_1 + q_2],\n",
       "[                            0],\n",
       "[                            0]])"
      ]
     },
     "execution_count": 2,
     "metadata": {},
     "output_type": "execute_result"
    }
   ],
   "source": [
    "twp = TwoLinkPlanar(2,3)\n",
    "twp.directKinSymbols()"
   ]
  },
  {
   "cell_type": "code",
   "execution_count": 3,
   "metadata": {},
   "outputs": [
    {
     "data": {
      "text/plain": [
       "array([[-1.0000000e+00, -1.2246468e-16,  0.0000000e+00, -3.0000000e+00],\n",
       "       [ 1.2246468e-16, -1.0000000e+00,  0.0000000e+00,  2.0000000e+00],\n",
       "       [ 0.0000000e+00,  0.0000000e+00,  1.0000000e+00,  0.0000000e+00],\n",
       "       [ 0.0000000e+00,  0.0000000e+00,  0.0000000e+00,  1.0000000e+00]])"
      ]
     },
     "execution_count": 3,
     "metadata": {},
     "output_type": "execute_result"
    }
   ],
   "source": [
    "twp.directLambda(pi/2,pi/2)"
   ]
  },
  {
   "cell_type": "code",
   "execution_count": 4,
   "metadata": {},
   "outputs": [
    {
     "data": {
      "text/plain": [
       "array([[0.46364761],\n",
       "       [2.30052398]])"
      ]
     },
     "execution_count": 4,
     "metadata": {},
     "output_type": "execute_result"
    }
   ],
   "source": [
    "twp.inverseLambda(-1,2)"
   ]
  },
  {
   "cell_type": "markdown",
   "metadata": {},
   "source": [
    "# Two-Link Planar on rotatory base"
   ]
  },
  {
   "cell_type": "markdown",
   "metadata": {},
   "source": [
    "## Examples"
   ]
  },
  {
   "cell_type": "code",
   "execution_count": 5,
   "metadata": {},
   "outputs": [
    {
     "data": {
      "text/latex": [
       "$\\displaystyle \\left[\\begin{matrix}\\cos{\\left(q_{1} \\right)} \\cos{\\left(q_{2} + q_{3} \\right)} & - \\sin{\\left(q_{1} \\right)} & - \\sin{\\left(q_{2} + q_{3} \\right)} \\cos{\\left(q_{1} \\right)} & \\left(50 \\cos{\\left(q_{2} \\right)} + 50 \\cos{\\left(q_{2} + q_{3} \\right)}\\right) \\cos{\\left(q_{1} \\right)}\\\\\\sin{\\left(q_{1} \\right)} \\cos{\\left(q_{2} + q_{3} \\right)} & \\cos{\\left(q_{1} \\right)} & - \\sin{\\left(q_{1} \\right)} \\sin{\\left(q_{2} + q_{3} \\right)} & \\left(50 \\cos{\\left(q_{2} \\right)} + 50 \\cos{\\left(q_{2} + q_{3} \\right)}\\right) \\sin{\\left(q_{1} \\right)}\\\\\\sin{\\left(q_{2} + q_{3} \\right)} & 0 & \\cos{\\left(q_{2} + q_{3} \\right)} & 50 \\sin{\\left(q_{2} \\right)} + 50 \\sin{\\left(q_{2} + q_{3} \\right)}\\\\0 & 0 & 0 & 1\\end{matrix}\\right]$"
      ],
      "text/plain": [
       "Matrix([\n",
       "[cos(q_1)*cos(q_2 + q_3), -sin(q_1), -sin(q_2 + q_3)*cos(q_1), (50*cos(q_2) + 50*cos(q_2 + q_3))*cos(q_1)],\n",
       "[sin(q_1)*cos(q_2 + q_3),  cos(q_1), -sin(q_1)*sin(q_2 + q_3), (50*cos(q_2) + 50*cos(q_2 + q_3))*sin(q_1)],\n",
       "[         sin(q_2 + q_3),         0,           cos(q_2 + q_3),            50*sin(q_2) + 50*sin(q_2 + q_3)],\n",
       "[                      0,         0,                        0,                                          1]])"
      ]
     },
     "execution_count": 5,
     "metadata": {},
     "output_type": "execute_result"
    }
   ],
   "source": [
    "tlb = TwoLinkAndBase(50,50)\n",
    "tlb.directKinHomoTSymbols()"
   ]
  },
  {
   "cell_type": "code",
   "execution_count": 6,
   "metadata": {},
   "outputs": [
    {
     "data": {
      "text/latex": [
       "$\\displaystyle \\left[\\begin{matrix}\\operatorname{atan_{2}}{\\left(y,x \\right)}\\\\\\operatorname{atan_{2}}{\\left(z,\\sqrt{x^{2} + y^{2}} \\right)} - \\operatorname{atan_{2}}{\\left(50 \\sqrt{1 - \\left(\\frac{x^{2}}{5000} + \\frac{y^{2}}{5000} + \\frac{z^{2}}{5000} - 1\\right)^{2}},\\frac{x^{2}}{100} + \\frac{y^{2}}{100} + \\frac{z^{2}}{100} \\right)}\\\\\\operatorname{acos}{\\left(\\frac{x^{2}}{5000} + \\frac{y^{2}}{5000} + \\frac{z^{2}}{5000} - 1 \\right)}\\end{matrix}\\right]$"
      ],
      "text/plain": [
       "Matrix([\n",
       "[                                                                                                                 atan2(y, x)],\n",
       "[atan2(z, sqrt(x**2 + y**2)) - atan2(50*sqrt(1 - (x**2/5000 + y**2/5000 + z**2/5000 - 1)**2), x**2/100 + y**2/100 + z**2/100)],\n",
       "[                                                                                 acos(x**2/5000 + y**2/5000 + z**2/5000 - 1)]])"
      ]
     },
     "execution_count": 6,
     "metadata": {},
     "output_type": "execute_result"
    }
   ],
   "source": [
    "tlb.inverseKinSymbols()"
   ]
  },
  {
   "cell_type": "code",
   "execution_count": 7,
   "metadata": {},
   "outputs": [
    {
     "data": {
      "text/plain": [
       "array([[ 6.12323400e-17, -0.00000000e+00, -1.00000000e+00,\n",
       "         3.53553391e+01],\n",
       "       [ 0.00000000e+00,  1.00000000e+00, -0.00000000e+00,\n",
       "         0.00000000e+00],\n",
       "       [ 1.00000000e+00,  0.00000000e+00,  6.12323400e-17,\n",
       "         8.53553391e+01],\n",
       "       [ 0.00000000e+00,  0.00000000e+00,  0.00000000e+00,\n",
       "         1.00000000e+00]])"
      ]
     },
     "execution_count": 7,
     "metadata": {},
     "output_type": "execute_result"
    }
   ],
   "source": [
    "tlb.directLambda(0,pi/4,pi/4)"
   ]
  },
  {
   "cell_type": "code",
   "execution_count": 8,
   "metadata": {},
   "outputs": [
    {
     "data": {
      "text/plain": [
       "array([[ 0.        ],\n",
       "       [-0.72879941],\n",
       "       [ 3.02839514]])"
      ]
     },
     "execution_count": 8,
     "metadata": {},
     "output_type": "execute_result"
    }
   ],
   "source": [
    "tlb.inverseLambda(4,0,4)"
   ]
  },
  {
   "cell_type": "markdown",
   "metadata": {},
   "source": [
    "# 3DOF Spherical wrist "
   ]
  },
  {
   "cell_type": "markdown",
   "metadata": {},
   "source": [
    "## Examples"
   ]
  },
  {
   "cell_type": "code",
   "execution_count": 9,
   "metadata": {},
   "outputs": [
    {
     "name": "stdout",
     "output_type": "stream",
     "text": [
      "Singularities in {beta: 0}\n"
     ]
    }
   ],
   "source": [
    "rw = SphericalWrist(\"xyx\")"
   ]
  },
  {
   "cell_type": "code",
   "execution_count": 10,
   "metadata": {},
   "outputs": [
    {
     "data": {
      "text/latex": [
       "$\\displaystyle \\left[\\begin{matrix}\\cos{\\left(q_{2} \\right)} & - \\sin{\\left(q_{2} \\right)} \\sin{\\left(q_{3} \\right)} & - \\sin{\\left(q_{2} \\right)} \\cos{\\left(q_{3} \\right)} & 0\\\\- \\sin{\\left(q_{1} \\right)} \\sin{\\left(q_{2} \\right)} & - \\sin{\\left(q_{1} \\right)} \\sin{\\left(q_{3} \\right)} \\cos{\\left(q_{2} \\right)} + \\cos{\\left(q_{1} \\right)} \\cos{\\left(q_{3} \\right)} & - \\sin{\\left(q_{1} \\right)} \\cos{\\left(q_{2} \\right)} \\cos{\\left(q_{3} \\right)} - \\sin{\\left(q_{3} \\right)} \\cos{\\left(q_{1} \\right)} & 0\\\\\\sin{\\left(q_{2} \\right)} \\cos{\\left(q_{1} \\right)} & \\sin{\\left(q_{1} \\right)} \\cos{\\left(q_{3} \\right)} + \\sin{\\left(q_{3} \\right)} \\cos{\\left(q_{1} \\right)} \\cos{\\left(q_{2} \\right)} & - \\sin{\\left(q_{1} \\right)} \\sin{\\left(q_{3} \\right)} + \\cos{\\left(q_{1} \\right)} \\cos{\\left(q_{2} \\right)} \\cos{\\left(q_{3} \\right)} & 0\\\\0 & 0 & 0 & 1\\end{matrix}\\right]$"
      ],
      "text/plain": [
       "Matrix([\n",
       "[          cos(q_2),                              -sin(q_2)*sin(q_3),                              -sin(q_2)*cos(q_3), 0],\n",
       "[-sin(q_1)*sin(q_2), -sin(q_1)*sin(q_3)*cos(q_2) + cos(q_1)*cos(q_3), -sin(q_1)*cos(q_2)*cos(q_3) - sin(q_3)*cos(q_1), 0],\n",
       "[ sin(q_2)*cos(q_1),  sin(q_1)*cos(q_3) + sin(q_3)*cos(q_1)*cos(q_2), -sin(q_1)*sin(q_3) + cos(q_1)*cos(q_2)*cos(q_3), 0],\n",
       "[                 0,                                               0,                                               0, 1]])"
      ]
     },
     "execution_count": 10,
     "metadata": {},
     "output_type": "execute_result"
    }
   ],
   "source": [
    "rw.directKinHomoTSymbols()"
   ]
  },
  {
   "cell_type": "code",
   "execution_count": 11,
   "metadata": {},
   "outputs": [
    {
     "data": {
      "text/latex": [
       "$\\displaystyle \\left[\\begin{matrix}\\operatorname{atan_{2}}{\\left(\\sin{\\left(\\beta \\right)} \\sin{\\left(\\gamma \\right)},\\sin{\\left(\\beta \\right)} \\cos{\\left(\\gamma \\right)} \\right)}\\\\\\operatorname{acos}{\\left(\\cos{\\left(\\beta \\right)} \\right)}\\\\\\operatorname{atan_{2}}{\\left(- \\sin{\\left(\\alpha \\right)} \\sin{\\left(\\beta \\right)},- \\sin{\\left(\\beta \\right)} \\cos{\\left(\\alpha \\right)} \\right)}\\end{matrix}\\right]$"
      ],
      "text/plain": [
       "Matrix([\n",
       "[  atan2(sin(beta)*sin(gamma), sin(beta)*cos(gamma))],\n",
       "[                                    acos(cos(beta))],\n",
       "[atan2(-sin(alpha)*sin(beta), -sin(beta)*cos(alpha))]])"
      ]
     },
     "execution_count": 11,
     "metadata": {},
     "output_type": "execute_result"
    }
   ],
   "source": [
    "rw.inverseKinSymbols()"
   ]
  },
  {
   "cell_type": "code",
   "execution_count": 12,
   "metadata": {},
   "outputs": [
    {
     "data": {
      "text/plain": [
       "array([[ 0.        ],\n",
       "       [ 0.        ],\n",
       "       [-3.14159265]])"
      ]
     },
     "execution_count": 12,
     "metadata": {},
     "output_type": "execute_result"
    }
   ],
   "source": [
    "rw.inverse(0,0,0)"
   ]
  },
  {
   "cell_type": "markdown",
   "metadata": {},
   "source": [
    "# Decoupled kinematics 6DOF"
   ]
  },
  {
   "cell_type": "markdown",
   "metadata": {},
   "source": [
    "## Examples"
   ]
  },
  {
   "cell_type": "code",
   "execution_count": 13,
   "metadata": {},
   "outputs": [
    {
     "name": "stdout",
     "output_type": "stream",
     "text": [
      "Singularities in {beta: 0}\n",
      "Singularities in {beta: 0}\n",
      "Singularities in {beta: 0}\n"
     ]
    },
    {
     "data": {
      "text/latex": [
       "$\\displaystyle \\left[\\begin{matrix}- \\sin{\\left(q_{1} \\right)} \\sin{\\left(q_{5} \\right)} \\sin{\\left(q_{6} \\right)} \\cos{\\left(q_{2} + q_{3} \\right)} - \\sin{\\left(q_{5} \\right)} \\sin{\\left(q_{2} + q_{3} \\right)} \\cos{\\left(q_{6} \\right)} + \\cos{\\left(q_{1} \\right)} \\cos{\\left(q_{5} \\right)} \\cos{\\left(q_{2} + q_{3} \\right)} & - \\sin{\\left(q_{1} \\right)} \\cos{\\left(q_{5} \\right)} - \\sin{\\left(q_{5} \\right)} \\sin{\\left(q_{6} \\right)} \\cos{\\left(q_{1} \\right)} & \\sin{\\left(q_{1} \\right)} \\sin{\\left(q_{5} \\right)} \\sin{\\left(q_{6} \\right)} \\sin{\\left(q_{2} + q_{3} \\right)} - \\sin{\\left(q_{5} \\right)} \\cos{\\left(q_{6} \\right)} \\cos{\\left(q_{2} + q_{3} \\right)} - \\sin{\\left(q_{2} + q_{3} \\right)} \\cos{\\left(q_{1} \\right)} \\cos{\\left(q_{5} \\right)} & - \\left(2 \\sin{\\left(q_{2} \\right)} + 3 \\sin{\\left(q_{2} + q_{3} \\right)}\\right) \\sin{\\left(q_{5} \\right)} \\cos{\\left(q_{6} \\right)} - \\left(2 \\cos{\\left(q_{2} \\right)} + 3 \\cos{\\left(q_{2} + q_{3} \\right)}\\right) \\sin{\\left(q_{1} \\right)} \\sin{\\left(q_{5} \\right)} \\sin{\\left(q_{6} \\right)} + \\left(2 \\cos{\\left(q_{2} \\right)} + 3 \\cos{\\left(q_{2} + q_{3} \\right)}\\right) \\cos{\\left(q_{1} \\right)} \\cos{\\left(q_{5} \\right)}\\\\\\left(- \\sin{\\left(q_{4} \\right)} \\sin{\\left(q_{6} \\right)} \\cos{\\left(q_{5} \\right)} + \\cos{\\left(q_{4} \\right)} \\cos{\\left(q_{6} \\right)}\\right) \\sin{\\left(q_{1} \\right)} \\cos{\\left(q_{2} + q_{3} \\right)} + \\left(- \\sin{\\left(q_{4} \\right)} \\cos{\\left(q_{5} \\right)} \\cos{\\left(q_{6} \\right)} - \\sin{\\left(q_{6} \\right)} \\cos{\\left(q_{4} \\right)}\\right) \\sin{\\left(q_{2} + q_{3} \\right)} - \\sin{\\left(q_{4} \\right)} \\sin{\\left(q_{5} \\right)} \\cos{\\left(q_{1} \\right)} \\cos{\\left(q_{2} + q_{3} \\right)} & \\left(- \\sin{\\left(q_{4} \\right)} \\sin{\\left(q_{6} \\right)} \\cos{\\left(q_{5} \\right)} + \\cos{\\left(q_{4} \\right)} \\cos{\\left(q_{6} \\right)}\\right) \\cos{\\left(q_{1} \\right)} + \\sin{\\left(q_{1} \\right)} \\sin{\\left(q_{4} \\right)} \\sin{\\left(q_{5} \\right)} & - \\left(- \\sin{\\left(q_{4} \\right)} \\sin{\\left(q_{6} \\right)} \\cos{\\left(q_{5} \\right)} + \\cos{\\left(q_{4} \\right)} \\cos{\\left(q_{6} \\right)}\\right) \\sin{\\left(q_{1} \\right)} \\sin{\\left(q_{2} + q_{3} \\right)} + \\left(- \\sin{\\left(q_{4} \\right)} \\cos{\\left(q_{5} \\right)} \\cos{\\left(q_{6} \\right)} - \\sin{\\left(q_{6} \\right)} \\cos{\\left(q_{4} \\right)}\\right) \\cos{\\left(q_{2} + q_{3} \\right)} + \\sin{\\left(q_{4} \\right)} \\sin{\\left(q_{5} \\right)} \\sin{\\left(q_{2} + q_{3} \\right)} \\cos{\\left(q_{1} \\right)} & \\left(- \\sin{\\left(q_{4} \\right)} \\sin{\\left(q_{6} \\right)} \\cos{\\left(q_{5} \\right)} + \\cos{\\left(q_{4} \\right)} \\cos{\\left(q_{6} \\right)}\\right) \\left(2 \\cos{\\left(q_{2} \\right)} + 3 \\cos{\\left(q_{2} + q_{3} \\right)}\\right) \\sin{\\left(q_{1} \\right)} + \\left(- \\sin{\\left(q_{4} \\right)} \\cos{\\left(q_{5} \\right)} \\cos{\\left(q_{6} \\right)} - \\sin{\\left(q_{6} \\right)} \\cos{\\left(q_{4} \\right)}\\right) \\left(2 \\sin{\\left(q_{2} \\right)} + 3 \\sin{\\left(q_{2} + q_{3} \\right)}\\right) - \\left(2 \\cos{\\left(q_{2} \\right)} + 3 \\cos{\\left(q_{2} + q_{3} \\right)}\\right) \\sin{\\left(q_{4} \\right)} \\sin{\\left(q_{5} \\right)} \\cos{\\left(q_{1} \\right)}\\\\\\left(- \\sin{\\left(q_{4} \\right)} \\sin{\\left(q_{6} \\right)} + \\cos{\\left(q_{4} \\right)} \\cos{\\left(q_{5} \\right)} \\cos{\\left(q_{6} \\right)}\\right) \\sin{\\left(q_{2} + q_{3} \\right)} + \\left(\\sin{\\left(q_{4} \\right)} \\cos{\\left(q_{6} \\right)} + \\sin{\\left(q_{6} \\right)} \\cos{\\left(q_{4} \\right)} \\cos{\\left(q_{5} \\right)}\\right) \\sin{\\left(q_{1} \\right)} \\cos{\\left(q_{2} + q_{3} \\right)} + \\sin{\\left(q_{5} \\right)} \\cos{\\left(q_{1} \\right)} \\cos{\\left(q_{4} \\right)} \\cos{\\left(q_{2} + q_{3} \\right)} & \\left(\\sin{\\left(q_{4} \\right)} \\cos{\\left(q_{6} \\right)} + \\sin{\\left(q_{6} \\right)} \\cos{\\left(q_{4} \\right)} \\cos{\\left(q_{5} \\right)}\\right) \\cos{\\left(q_{1} \\right)} - \\sin{\\left(q_{1} \\right)} \\sin{\\left(q_{5} \\right)} \\cos{\\left(q_{4} \\right)} & \\left(- \\sin{\\left(q_{4} \\right)} \\sin{\\left(q_{6} \\right)} + \\cos{\\left(q_{4} \\right)} \\cos{\\left(q_{5} \\right)} \\cos{\\left(q_{6} \\right)}\\right) \\cos{\\left(q_{2} + q_{3} \\right)} - \\left(\\sin{\\left(q_{4} \\right)} \\cos{\\left(q_{6} \\right)} + \\sin{\\left(q_{6} \\right)} \\cos{\\left(q_{4} \\right)} \\cos{\\left(q_{5} \\right)}\\right) \\sin{\\left(q_{1} \\right)} \\sin{\\left(q_{2} + q_{3} \\right)} - \\sin{\\left(q_{5} \\right)} \\sin{\\left(q_{2} + q_{3} \\right)} \\cos{\\left(q_{1} \\right)} \\cos{\\left(q_{4} \\right)} & \\left(- \\sin{\\left(q_{4} \\right)} \\sin{\\left(q_{6} \\right)} + \\cos{\\left(q_{4} \\right)} \\cos{\\left(q_{5} \\right)} \\cos{\\left(q_{6} \\right)}\\right) \\left(2 \\sin{\\left(q_{2} \\right)} + 3 \\sin{\\left(q_{2} + q_{3} \\right)}\\right) + \\left(\\sin{\\left(q_{4} \\right)} \\cos{\\left(q_{6} \\right)} + \\sin{\\left(q_{6} \\right)} \\cos{\\left(q_{4} \\right)} \\cos{\\left(q_{5} \\right)}\\right) \\left(2 \\cos{\\left(q_{2} \\right)} + 3 \\cos{\\left(q_{2} + q_{3} \\right)}\\right) \\sin{\\left(q_{1} \\right)} + \\left(2 \\cos{\\left(q_{2} \\right)} + 3 \\cos{\\left(q_{2} + q_{3} \\right)}\\right) \\sin{\\left(q_{5} \\right)} \\cos{\\left(q_{1} \\right)} \\cos{\\left(q_{4} \\right)}\\\\0 & 0 & 0 & 1\\end{matrix}\\right]$"
      ],
      "text/plain": [
       "Matrix([\n",
       "[                                                                        -sin(q_1)*sin(q_5)*sin(q_6)*cos(q_2 + q_3) - sin(q_5)*sin(q_2 + q_3)*cos(q_6) + cos(q_1)*cos(q_5)*cos(q_2 + q_3),                                         -sin(q_1)*cos(q_5) - sin(q_5)*sin(q_6)*cos(q_1),                                                                           sin(q_1)*sin(q_5)*sin(q_6)*sin(q_2 + q_3) - sin(q_5)*cos(q_6)*cos(q_2 + q_3) - sin(q_2 + q_3)*cos(q_1)*cos(q_5),                                                                         -(2*sin(q_2) + 3*sin(q_2 + q_3))*sin(q_5)*cos(q_6) - (2*cos(q_2) + 3*cos(q_2 + q_3))*sin(q_1)*sin(q_5)*sin(q_6) + (2*cos(q_2) + 3*cos(q_2 + q_3))*cos(q_1)*cos(q_5)],\n",
       "[(-sin(q_4)*sin(q_6)*cos(q_5) + cos(q_4)*cos(q_6))*sin(q_1)*cos(q_2 + q_3) + (-sin(q_4)*cos(q_5)*cos(q_6) - sin(q_6)*cos(q_4))*sin(q_2 + q_3) - sin(q_4)*sin(q_5)*cos(q_1)*cos(q_2 + q_3), (-sin(q_4)*sin(q_6)*cos(q_5) + cos(q_4)*cos(q_6))*cos(q_1) + sin(q_1)*sin(q_4)*sin(q_5), -(-sin(q_4)*sin(q_6)*cos(q_5) + cos(q_4)*cos(q_6))*sin(q_1)*sin(q_2 + q_3) + (-sin(q_4)*cos(q_5)*cos(q_6) - sin(q_6)*cos(q_4))*cos(q_2 + q_3) + sin(q_4)*sin(q_5)*sin(q_2 + q_3)*cos(q_1), (-sin(q_4)*sin(q_6)*cos(q_5) + cos(q_4)*cos(q_6))*(2*cos(q_2) + 3*cos(q_2 + q_3))*sin(q_1) + (-sin(q_4)*cos(q_5)*cos(q_6) - sin(q_6)*cos(q_4))*(2*sin(q_2) + 3*sin(q_2 + q_3)) - (2*cos(q_2) + 3*cos(q_2 + q_3))*sin(q_4)*sin(q_5)*cos(q_1)],\n",
       "[ (-sin(q_4)*sin(q_6) + cos(q_4)*cos(q_5)*cos(q_6))*sin(q_2 + q_3) + (sin(q_4)*cos(q_6) + sin(q_6)*cos(q_4)*cos(q_5))*sin(q_1)*cos(q_2 + q_3) + sin(q_5)*cos(q_1)*cos(q_4)*cos(q_2 + q_3),  (sin(q_4)*cos(q_6) + sin(q_6)*cos(q_4)*cos(q_5))*cos(q_1) - sin(q_1)*sin(q_5)*cos(q_4),   (-sin(q_4)*sin(q_6) + cos(q_4)*cos(q_5)*cos(q_6))*cos(q_2 + q_3) - (sin(q_4)*cos(q_6) + sin(q_6)*cos(q_4)*cos(q_5))*sin(q_1)*sin(q_2 + q_3) - sin(q_5)*sin(q_2 + q_3)*cos(q_1)*cos(q_4),  (-sin(q_4)*sin(q_6) + cos(q_4)*cos(q_5)*cos(q_6))*(2*sin(q_2) + 3*sin(q_2 + q_3)) + (sin(q_4)*cos(q_6) + sin(q_6)*cos(q_4)*cos(q_5))*(2*cos(q_2) + 3*cos(q_2 + q_3))*sin(q_1) + (2*cos(q_2) + 3*cos(q_2 + q_3))*sin(q_5)*cos(q_1)*cos(q_4)],\n",
       "[                                                                                                                                                                                       0,                                                                                       0,                                                                                                                                                                                         0,                                                                                                                                                                                                                                           1]])"
      ]
     },
     "execution_count": 13,
     "metadata": {},
     "output_type": "execute_result"
    }
   ],
   "source": [
    "d6d = Decoupled6DOF(2,3)\n",
    "d6d.directKinHomoTSymbols()"
   ]
  },
  {
   "cell_type": "code",
   "execution_count": 14,
   "metadata": {},
   "outputs": [
    {
     "data": {
      "text/latex": [
       "$\\displaystyle \\left[\\begin{matrix}\\operatorname{atan_{2}}{\\left(y,x \\right)}\\\\\\operatorname{atan_{2}}{\\left(z,\\sqrt{x^{2} + y^{2}} \\right)} - \\operatorname{atan_{2}}{\\left(3 \\sqrt{1 - \\left(\\frac{x^{2}}{12} + \\frac{y^{2}}{12} + \\frac{z^{2}}{12} - \\frac{13}{12}\\right)^{2}},\\frac{x^{2}}{4} + \\frac{y^{2}}{4} + \\frac{z^{2}}{4} - \\frac{5}{4} \\right)}\\\\\\operatorname{acos}{\\left(\\frac{x^{2}}{12} + \\frac{y^{2}}{12} + \\frac{z^{2}}{12} - \\frac{13}{12} \\right)}\\\\- \\operatorname{atan_{2}}{\\left(y,x \\right)} + \\operatorname{atan_{2}}{\\left(\\sin{\\left(\\beta \\right)} \\sin{\\left(\\gamma \\right)},\\sin{\\left(\\beta \\right)} \\cos{\\left(\\gamma \\right)} \\right)}\\\\- \\operatorname{acos}{\\left(\\frac{x^{2}}{12} + \\frac{y^{2}}{12} + \\frac{z^{2}}{12} - \\frac{13}{12} \\right)} + \\operatorname{acos}{\\left(\\cos{\\left(\\beta \\right)} \\right)} - \\operatorname{atan_{2}}{\\left(z,\\sqrt{x^{2} + y^{2}} \\right)} + \\operatorname{atan_{2}}{\\left(3 \\sqrt{1 - \\left(\\frac{x^{2}}{12} + \\frac{y^{2}}{12} + \\frac{z^{2}}{12} - \\frac{13}{12}\\right)^{2}},\\frac{x^{2}}{4} + \\frac{y^{2}}{4} + \\frac{z^{2}}{4} - \\frac{5}{4} \\right)}\\\\\\operatorname{atan_{2}}{\\left(- \\sin{\\left(\\alpha \\right)} \\sin{\\left(\\beta \\right)},- \\sin{\\left(\\beta \\right)} \\cos{\\left(\\alpha \\right)} \\right)}\\end{matrix}\\right]$"
      ],
      "text/plain": [
       "Matrix([\n",
       "[                                                                                                                                                                             atan2(y, x)],\n",
       "[                                                               atan2(z, sqrt(x**2 + y**2)) - atan2(3*sqrt(1 - (x**2/12 + y**2/12 + z**2/12 - 13/12)**2), x**2/4 + y**2/4 + z**2/4 - 5/4)],\n",
       "[                                                                                                                                               acos(x**2/12 + y**2/12 + z**2/12 - 13/12)],\n",
       "[                                                                                                                        -atan2(y, x) + atan2(sin(beta)*sin(gamma), sin(beta)*cos(gamma))],\n",
       "[-acos(x**2/12 + y**2/12 + z**2/12 - 13/12) + acos(cos(beta)) - atan2(z, sqrt(x**2 + y**2)) + atan2(3*sqrt(1 - (x**2/12 + y**2/12 + z**2/12 - 13/12)**2), x**2/4 + y**2/4 + z**2/4 - 5/4)],\n",
       "[                                                                                                                                     atan2(-sin(alpha)*sin(beta), -sin(beta)*cos(alpha))]])"
      ]
     },
     "execution_count": 14,
     "metadata": {},
     "output_type": "execute_result"
    }
   ],
   "source": [
    "d6d.inverseKinSymbols()"
   ]
  },
  {
   "cell_type": "code",
   "execution_count": 15,
   "metadata": {},
   "outputs": [
    {
     "data": {
      "text/plain": [
       "array([[ 0.78539816],\n",
       "       [-1.62975605],\n",
       "       [ 2.3579306 ],\n",
       "       [-0.78539816],\n",
       "       [ 0.84262177],\n",
       "       [-3.14159265]])"
      ]
     },
     "execution_count": 15,
     "metadata": {},
     "output_type": "execute_result"
    }
   ],
   "source": [
    "d6d.inverse(1.5,1.5,0,0,pi/2,0)"
   ]
  }
 ],
 "metadata": {
  "kernelspec": {
   "display_name": "Python 3.7.4 64-bit",
   "language": "python",
   "name": "python3"
  },
  "language_info": {
   "codemirror_mode": {
    "name": "ipython",
    "version": 3
   },
   "file_extension": ".py",
   "mimetype": "text/x-python",
   "name": "python",
   "nbconvert_exporter": "python",
   "pygments_lexer": "ipython3",
   "version": "3.7.4"
  },
  "orig_nbformat": 4,
  "vscode": {
   "interpreter": {
    "hash": "1fe14b4add03ae38573eb06091088804124a960722df5dd1669e7e782fa9e5a9"
   }
  }
 },
 "nbformat": 4,
 "nbformat_minor": 2
}
