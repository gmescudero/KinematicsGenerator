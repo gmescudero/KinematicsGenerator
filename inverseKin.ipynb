{
 "cells": [
  {
   "cell_type": "code",
   "execution_count": 1,
   "metadata": {},
   "outputs": [],
   "source": [
    "import sympy\n",
    "from sympy.abc import x,y,z\n",
    "from cmath import pi"
   ]
  },
  {
   "cell_type": "markdown",
   "metadata": {},
   "source": [
    "# Rotations tools"
   ]
  },
  {
   "cell_type": "code",
   "execution_count": 2,
   "metadata": {},
   "outputs": [],
   "source": [
    "class Rotations:\n",
    "    def __init__(self):\n",
    "        self.alpha  = sympy.Symbol('alpha')\n",
    "        self.beta  = sympy.Symbol('beta')\n",
    "        self.gamma = sympy.Symbol('gamma')\n",
    "        self.theta = sympy.Symbol('theta')\n",
    "        self.zRotM = sympy.Matrix([\n",
    "            [sympy.cos(self.theta),-sympy.sin(self.theta), 0],\n",
    "            [sympy.sin(self.theta), sympy.cos(self.theta), 0],\n",
    "            [0                    , 0                    , 1]\n",
    "        ])\n",
    "        self.yRotM = sympy.Matrix([\n",
    "            [sympy.cos(self.theta), 0,-sympy.sin(self.theta)],\n",
    "            [0                    , 1, 0                    ],\n",
    "            [sympy.sin(self.theta), 0, sympy.cos(self.theta)]\n",
    "        ])\n",
    "        self.xRotM = sympy.Matrix([\n",
    "            [1, 0                    , 0                    ],\n",
    "            [0, sympy.cos(self.theta),-sympy.sin(self.theta)],\n",
    "            [0, sympy.sin(self.theta), sympy.cos(self.theta)]\n",
    "        ])\n",
    "    \n",
    "    def eulerToRotMSequence(self,sequence:str, a,b,c):\n",
    "        if len(sequence) != 3: return None\n",
    "        rotSymbols = [a,b,c]\n",
    "        rotM = sympy.eye(3)\n",
    "        for axis,symbol in zip(list(sequence),rotSymbols):\n",
    "            if axis is \"x\":\n",
    "                rotM = rotM*self.xRotM.subs(self.theta,symbol)\n",
    "            elif axis is \"y\":\n",
    "                rotM = rotM*self.yRotM.subs(self.theta,symbol)\n",
    "            elif axis is \"z\":\n",
    "                rotM = rotM*self.zRotM.subs(self.theta,symbol)\n",
    "        return rotM\n",
    "    \n",
    "    def zyxToRotM(self,z,y,x):\n",
    "        return self.eulerToRotMSequence(\"zyx\",z,y,x)"
   ]
  },
  {
   "cell_type": "markdown",
   "metadata": {},
   "source": [
    "# Two-Link Planar "
   ]
  },
  {
   "cell_type": "code",
   "execution_count": 3,
   "metadata": {},
   "outputs": [],
   "source": [
    "class TwoLinkPlanar:\n",
    "\n",
    "    def __init__(self, a1=None, a2=None) -> None:\n",
    "        self.a1 = sympy.Symbol('a_1') if a1 is None else a1\n",
    "        self.a2 = sympy.Symbol('a_2') if a2 is None else a2\n",
    "        self.q1 = sympy.Symbol('q_1')\n",
    "        self.q2 = sympy.Symbol('q_2')\n",
    "        self.x  = x\n",
    "        self.y  = y\n",
    "        self.theta = sympy.Symbol('theta')\n",
    "        self.directLambda  = lambda q1,q2: None\n",
    "        self.inverseLambda = lambda x,y: None\n",
    "        self._resetSymbolsAndLambdas()\n",
    "\n",
    "    def directKinSymbols(self):\n",
    "        x_dk     = self.a1*sympy.cos(self.q1) + self.a2*sympy.cos(self.q1+self.q2)\n",
    "        y_dk     = self.a1*sympy.sin(self.q1) + self.a2*sympy.sin(self.q1+self.q2)\n",
    "        theta_dk = self.q1 + self.q2\n",
    "        return sympy.Matrix((x_dk,y_dk,theta_dk))\n",
    "\n",
    "    def inverseKinSymbols(self):\n",
    "        q2_ik = sympy.acos((self.x**2 + self.y**2 - self.a1**2 - self.a2**2)/(2*self.a1*self.a2))\n",
    "        q1_ik = sympy.atan2(self.y,self.x) - sympy.atan2(self.a2*sympy.sin(q2_ik), self.a1 + self.a2*sympy.cos(q2_ik))\n",
    "        return sympy.Matrix((q1_ik,q2_ik))\n",
    "\n",
    "    def setLengths(self,a1,a2):\n",
    "        self.a1 = a1\n",
    "        self.a2 = a2\n",
    "        self._resetSymbolsAndLambdas()\n",
    "    \n",
    "    def setJointCoordinates(self,joint1,joint2):\n",
    "        self.q1 = joint1\n",
    "        self.q2 = joint2\n",
    "        self._resetSymbolsAndLambdas()\n",
    "\n",
    "    def setCartesianCoordinates(self,coord1,coord2):\n",
    "        self.x = coord1\n",
    "        self.y = coord2\n",
    "        self._resetSymbolsAndLambdas()\n",
    "    \n",
    "    def _resetSymbolsAndLambdas(self):\n",
    "        # Compute simbolic kinematics\n",
    "        self.directSym  = self.directKinSymbols()\n",
    "        self.inverseSym = self.inverseKinSymbols()\n",
    "        # Compute lambda kinematic functions \n",
    "        try:\n",
    "            self.directLambda  = sympy.lambdify((self.q1,self.q2),self.directSym)\n",
    "            self.inverseLambda = sympy.lambdify((self.x,self.y),self.inverseSym)\n",
    "        except SyntaxError:\n",
    "            self.directLambda  = lambda q1,q2: None\n",
    "            self.inverseLambda = lambda x,y: None"
   ]
  },
  {
   "cell_type": "markdown",
   "metadata": {},
   "source": [
    "## Examples"
   ]
  },
  {
   "cell_type": "code",
   "execution_count": 4,
   "metadata": {},
   "outputs": [
    {
     "data": {
      "text/latex": [
       "$\\displaystyle \\left[\\begin{matrix}2 \\cos{\\left(q_{1} \\right)} + 3 \\cos{\\left(q_{1} + q_{2} \\right)}\\\\2 \\sin{\\left(q_{1} \\right)} + 3 \\sin{\\left(q_{1} + q_{2} \\right)}\\\\q_{1} + q_{2}\\end{matrix}\\right]$"
      ],
      "text/plain": [
       "Matrix([\n",
       "[2*cos(q_1) + 3*cos(q_1 + q_2)],\n",
       "[2*sin(q_1) + 3*sin(q_1 + q_2)],\n",
       "[                    q_1 + q_2]])"
      ]
     },
     "execution_count": 4,
     "metadata": {},
     "output_type": "execute_result"
    }
   ],
   "source": [
    "twp = TwoLinkPlanar(2,3)\n",
    "twp.directKinSymbols()"
   ]
  },
  {
   "cell_type": "code",
   "execution_count": 5,
   "metadata": {},
   "outputs": [
    {
     "data": {
      "text/plain": [
       "array([[-3.        ],\n",
       "       [ 2.        ],\n",
       "       [ 3.14159265]])"
      ]
     },
     "execution_count": 5,
     "metadata": {},
     "output_type": "execute_result"
    }
   ],
   "source": [
    "twp.directLambda(pi/2,pi/2)"
   ]
  },
  {
   "cell_type": "code",
   "execution_count": 6,
   "metadata": {},
   "outputs": [
    {
     "data": {
      "text/plain": [
       "array([[0.46364761],\n",
       "       [2.30052398]])"
      ]
     },
     "execution_count": 6,
     "metadata": {},
     "output_type": "execute_result"
    }
   ],
   "source": [
    "twp.inverseLambda(-1,2)"
   ]
  },
  {
   "cell_type": "markdown",
   "metadata": {},
   "source": [
    "# Two-Link Planar on rotatory base"
   ]
  },
  {
   "cell_type": "code",
   "execution_count": 7,
   "metadata": {},
   "outputs": [],
   "source": [
    "class TwoLinkAndBase():\n",
    "\n",
    "    def __init__(self, a1=None, a2=None) -> None:\n",
    "        self.a1 = sympy.Symbol('a_1') if a1 is None else a1\n",
    "        self.a2 = sympy.Symbol('a_2') if a2 is None else a2\n",
    "        self.q1 = sympy.Symbol('q_1')\n",
    "        self.q2 = sympy.Symbol('q_2')\n",
    "        self.q3 = sympy.Symbol('q_3')\n",
    "        self.x = x\n",
    "        self.y = y\n",
    "        self.z = z\n",
    "        self._r = sympy.sqrt(self.x**2 + self.y**2)\n",
    "        self.twoLink = TwoLinkPlanar(a1,a2)\n",
    "        self.twoLink.setCartesianCoordinates(self._r, self.z)\n",
    "        self.twoLink.setJointCoordinates(self.q2,self.q3)\n",
    "        # Initialize symbolic kinematics\n",
    "        self.directSym  = self.directKinSymbols()\n",
    "        self.inverseSym = self.inverseKinSymbols()   \n",
    "        # Initialize lambdas\n",
    "        self.directLambda  = lambda q1,q2,q3: None\n",
    "        self.inverseLambda = lambda x, y, z : None\n",
    "        # Compute symbolic kinematics and lambda functions\n",
    "        self._resetSymbolsAndLambdas()\n",
    "\n",
    "    def setLengths(self,a1,a2):\n",
    "        self.a1 = a1\n",
    "        self.a2 = a2\n",
    "        self._resetSymbolsAndLambdas()\n",
    "    \n",
    "    def setJointCoordinates(self,joint1,joint2,joint3):\n",
    "        self.q1 = joint1\n",
    "        self.q2 = joint2\n",
    "        self.q3 = joint3\n",
    "        self._resetSymbolsAndLambdas()\n",
    "\n",
    "    def setCartesianCoordinates(self,coord1,coord2,coord3):\n",
    "        self.x = coord1\n",
    "        self.y = coord2\n",
    "        self.z = coord3\n",
    "        self._resetSymbolsAndLambdas()\n",
    "        \n",
    "    def directKinSymbols(self):\n",
    "        r_dk,z_dk,pitch_dk = self.twoLink.directKinSymbols()\n",
    "        x_dk = r_dk*sympy.cos(self.q1)\n",
    "        y_dk = r_dk*sympy.sin(self.q1)\n",
    "        yaw_dk = self.q1\n",
    "        roll_dk = 0\n",
    "        return sympy.Matrix((x_dk,y_dk,z_dk,yaw_dk,pitch_dk,roll_dk))\n",
    "\n",
    "    def directKinHomoTSymbols(self):\n",
    "        x_dk,y_dk,z_dk,yaw_dk,pitch_dk,roll_dk = self.directKinSymbols()\n",
    "        rotM = Rotations().zyxToRotM(yaw_dk,pitch_dk,roll_dk)\n",
    "        translation = sympy.Matrix((x_dk,y_dk,z_dk))\n",
    "        return sympy.Matrix((\n",
    "            (rotM            , translation    ),\n",
    "            (sympy.zeros(1,3), sympy.ones(1,1))\n",
    "        ))\n",
    "\n",
    "    def inverseKinSymbols(self):\n",
    "        q1_ik = sympy.atan2(self.y,self.x)\n",
    "        q2_ik,q3_ik = self.twoLink.inverseKinSymbols()\n",
    "        return sympy.Matrix((q1_ik,q2_ik,q3_ik))\n",
    "        \n",
    "    def _resetSymbolsAndLambdas(self):\n",
    "        # Compute simbolic kinematics\n",
    "        self.directSym  = self.directKinSymbols()\n",
    "        self.inverseSym = self.inverseKinSymbols()\n",
    "        # Compute lambda kinematic functions \n",
    "        try:\n",
    "            self.directLambda  = sympy.lambdify((self.q1,self.q2,self.q3),self.directSym)\n",
    "            self.inverseLambda = sympy.lambdify((self.x, self.y, self.z), self.inverseSym)\n",
    "        except SyntaxError:\n",
    "            self.directLambda  = lambda q1,q2,q3: None\n",
    "            self.inverseLambda = lambda x, y, z : None"
   ]
  },
  {
   "cell_type": "markdown",
   "metadata": {},
   "source": [
    "## Examples"
   ]
  },
  {
   "cell_type": "code",
   "execution_count": 8,
   "metadata": {},
   "outputs": [
    {
     "data": {
      "text/latex": [
       "$\\displaystyle \\left[\\begin{matrix}\\cos{\\left(q_{1} \\right)} \\cos{\\left(q_{2} + q_{3} \\right)} & - \\sin{\\left(q_{1} \\right)} & - \\sin{\\left(q_{2} + q_{3} \\right)} \\cos{\\left(q_{1} \\right)} & \\left(4 \\cos{\\left(q_{2} \\right)} + 3 \\cos{\\left(q_{2} + q_{3} \\right)}\\right) \\cos{\\left(q_{1} \\right)}\\\\\\sin{\\left(q_{1} \\right)} \\cos{\\left(q_{2} + q_{3} \\right)} & \\cos{\\left(q_{1} \\right)} & - \\sin{\\left(q_{1} \\right)} \\sin{\\left(q_{2} + q_{3} \\right)} & \\left(4 \\cos{\\left(q_{2} \\right)} + 3 \\cos{\\left(q_{2} + q_{3} \\right)}\\right) \\sin{\\left(q_{1} \\right)}\\\\\\sin{\\left(q_{2} + q_{3} \\right)} & 0 & \\cos{\\left(q_{2} + q_{3} \\right)} & 4 \\sin{\\left(q_{2} \\right)} + 3 \\sin{\\left(q_{2} + q_{3} \\right)}\\\\0 & 0 & 0 & 1\\end{matrix}\\right]$"
      ],
      "text/plain": [
       "Matrix([\n",
       "[cos(q_1)*cos(q_2 + q_3), -sin(q_1), -sin(q_2 + q_3)*cos(q_1), (4*cos(q_2) + 3*cos(q_2 + q_3))*cos(q_1)],\n",
       "[sin(q_1)*cos(q_2 + q_3),  cos(q_1), -sin(q_1)*sin(q_2 + q_3), (4*cos(q_2) + 3*cos(q_2 + q_3))*sin(q_1)],\n",
       "[         sin(q_2 + q_3),         0,           cos(q_2 + q_3),            4*sin(q_2) + 3*sin(q_2 + q_3)],\n",
       "[                      0,         0,                        0,                                        1]])"
      ]
     },
     "execution_count": 8,
     "metadata": {},
     "output_type": "execute_result"
    }
   ],
   "source": [
    "tlb = TwoLinkAndBase(4,3)\n",
    "tlb.directKinHomoTSymbols()"
   ]
  },
  {
   "cell_type": "code",
   "execution_count": 9,
   "metadata": {},
   "outputs": [
    {
     "data": {
      "text/latex": [
       "$\\displaystyle \\left[\\begin{matrix}\\operatorname{atan_{2}}{\\left(y,x \\right)}\\\\\\operatorname{atan_{2}}{\\left(z,\\sqrt{x^{2} + y^{2}} \\right)} - \\operatorname{atan_{2}}{\\left(3 \\sqrt{1 - \\left(\\frac{x^{2}}{24} + \\frac{y^{2}}{24} + \\frac{z^{2}}{24} - \\frac{25}{24}\\right)^{2}},\\frac{x^{2}}{8} + \\frac{y^{2}}{8} + \\frac{z^{2}}{8} + \\frac{7}{8} \\right)}\\\\\\operatorname{acos}{\\left(\\frac{x^{2}}{24} + \\frac{y^{2}}{24} + \\frac{z^{2}}{24} - \\frac{25}{24} \\right)}\\end{matrix}\\right]$"
      ],
      "text/plain": [
       "Matrix([\n",
       "[                                                                                                              atan2(y, x)],\n",
       "[atan2(z, sqrt(x**2 + y**2)) - atan2(3*sqrt(1 - (x**2/24 + y**2/24 + z**2/24 - 25/24)**2), x**2/8 + y**2/8 + z**2/8 + 7/8)],\n",
       "[                                                                                acos(x**2/24 + y**2/24 + z**2/24 - 25/24)]])"
      ]
     },
     "execution_count": 9,
     "metadata": {},
     "output_type": "execute_result"
    }
   ],
   "source": [
    "tlb.inverseKinSymbols()"
   ]
  },
  {
   "cell_type": "code",
   "execution_count": 10,
   "metadata": {},
   "outputs": [
    {
     "data": {
      "text/plain": [
       "array([[2.82842712],\n",
       "       [0.        ],\n",
       "       [5.82842712],\n",
       "       [0.        ],\n",
       "       [1.57079633],\n",
       "       [0.        ]])"
      ]
     },
     "execution_count": 10,
     "metadata": {},
     "output_type": "execute_result"
    }
   ],
   "source": [
    "tlb.directLambda(0,pi/4,pi/4)"
   ]
  },
  {
   "cell_type": "code",
   "execution_count": 11,
   "metadata": {},
   "outputs": [
    {
     "data": {
      "text/plain": [
       "array([[0.        ],\n",
       "       [0.25338261],\n",
       "       [1.27482752]])"
      ]
     },
     "execution_count": 11,
     "metadata": {},
     "output_type": "execute_result"
    }
   ],
   "source": [
    "tlb.inverseLambda(4,0,4)"
   ]
  },
  {
   "cell_type": "markdown",
   "metadata": {},
   "source": [
    "# 3DOF Rotational wrist "
   ]
  },
  {
   "cell_type": "code",
   "execution_count": 30,
   "metadata": {},
   "outputs": [],
   "source": [
    "import symbol\n",
    "\n",
    "\n",
    "class RotationalWrist:\n",
    "    def __init__(self, sequence:str) -> None:\n",
    "        self.q1 = sympy.Symbol('q_1')\n",
    "        self.q2 = sympy.Symbol('q_2')\n",
    "        self.q3 = sympy.Symbol('q_3')\n",
    "        self.yaw   = sympy.Symbol('gamma')\n",
    "        self.pitch = sympy.Symbol('beta')\n",
    "        self.roll  = sympy.Symbol('alpha')\n",
    "        self.sequence = sequence\n",
    "        self.singularities = {}\n",
    "        # Initialize symbolic kinematics\n",
    "        self.directSym  = self.directKinHomoTSymbols()\n",
    "        self.inverseSym = self.inverseKinSymbols()   \n",
    "        # Initialize lambdas\n",
    "        self.directLambda  = lambda q1,q2,q3: None\n",
    "        self.inverseLambda = lambda x, y, z : None\n",
    "        # Cmpute symbolic kinematics and lambda functions\n",
    "        self._resetSymbolsAndLambdas()\n",
    "\n",
    "    def setJointCoordinates(self,joint1,joint2,joint3):\n",
    "        self.q1 = joint1\n",
    "        self.q2 = joint2\n",
    "        self.q3 = joint3\n",
    "        self._resetSymbolsAndLambdas()\n",
    "\n",
    "    def setCartesianCoordinates(self,coord1,coord2,coord3):\n",
    "        self.yaw   = coord1\n",
    "        self.pitch = coord2\n",
    "        self.roll  = coord3\n",
    "        self._resetSymbolsAndLambdas()\n",
    "\n",
    "    def directKinHomoTSymbols(self):\n",
    "        self.rotM = Rotations().eulerToRotMSequence(self.sequence,self.q1,self.q2,self.q3)\n",
    "        return sympy.Matrix((\n",
    "            (self.rotM       , sympy.zeros(3,1) ),\n",
    "            (sympy.zeros(1,3), sympy.ones(1,1)  )\n",
    "        ))\n",
    "\n",
    "    def inverseKinSymbols(self):\n",
    "        rotM = Rotations().eulerToRotMSequence(self.sequence,self.yaw,self.pitch,self.roll)\n",
    "        if self.sequence is \"xyx\":\n",
    "            q1_dk = sympy.atan2(-rotM[1,0], rotM[2,0])\n",
    "            q2_dk = sympy.acos(  rotM[0,0])\n",
    "            q3_dk = sympy.atan2( rotM[0,1], rotM[0,2])\n",
    "            self.singularities.update({self.pitch:0})\n",
    "        else:\n",
    "            return None\n",
    "\n",
    "        return sympy.Matrix((q1_dk,q2_dk,q3_dk))\n",
    "\n",
    "    def direct(self,q1,q2,q3):\n",
    "        return self.directLambda(q1,q2,q3)\n",
    "    \n",
    "    def inverse(self,y,p,r):\n",
    "        return self.inverseLambda(y,p,r)\n",
    "\n",
    "    def _resetSymbolsAndLambdas(self):\n",
    "        # Compute simbolic kinematics\n",
    "        self.directSym  = self.directKinHomoTSymbols()\n",
    "        self.inverseSym = self.inverseKinSymbols()\n",
    "        print(f\"Singularities in {self.singularities}\")\n",
    "        # Compute direct kinematic symbols\n",
    "        dkSymbols = self._orderedSymbolsFromExpr(self.directSym)\n",
    "        # Compute lambda kinematic functions \n",
    "        try:\n",
    "            self.directLambda  = sympy.lambdify(dkSymbols,self.directSym)\n",
    "            self.inverseLambda = sympy.lambdify((self.yaw, self.pitch, self.roll), self.inverseSym)\n",
    "        except SyntaxError:\n",
    "            self.directLambda  = lambda q1,q2,q3: None\n",
    "            self.inverseLambda = lambda x, y, z : None\n",
    "    \n",
    "    def _orderedSymbolsFromExpr(self,expression):\n",
    "        names = [sym.name for sym in expression.free_symbols]\n",
    "        names.sort()\n",
    "        return [sympy.Symbol(n) for n in names]"
   ]
  },
  {
   "cell_type": "markdown",
   "metadata": {},
   "source": [
    "## Examples"
   ]
  },
  {
   "cell_type": "code",
   "execution_count": 31,
   "metadata": {},
   "outputs": [
    {
     "name": "stdout",
     "output_type": "stream",
     "text": [
      "Singularities in {beta: 0}\n"
     ]
    }
   ],
   "source": [
    "rw = RotationalWrist(\"xyx\")"
   ]
  },
  {
   "cell_type": "code",
   "execution_count": 32,
   "metadata": {},
   "outputs": [
    {
     "data": {
      "text/latex": [
       "$\\displaystyle \\left[\\begin{matrix}\\cos{\\left(q_{2} \\right)} & - \\sin{\\left(q_{2} \\right)} \\sin{\\left(q_{3} \\right)} & - \\sin{\\left(q_{2} \\right)} \\cos{\\left(q_{3} \\right)} & 0\\\\- \\sin{\\left(q_{1} \\right)} \\sin{\\left(q_{2} \\right)} & - \\sin{\\left(q_{1} \\right)} \\sin{\\left(q_{3} \\right)} \\cos{\\left(q_{2} \\right)} + \\cos{\\left(q_{1} \\right)} \\cos{\\left(q_{3} \\right)} & - \\sin{\\left(q_{1} \\right)} \\cos{\\left(q_{2} \\right)} \\cos{\\left(q_{3} \\right)} - \\sin{\\left(q_{3} \\right)} \\cos{\\left(q_{1} \\right)} & 0\\\\\\sin{\\left(q_{2} \\right)} \\cos{\\left(q_{1} \\right)} & \\sin{\\left(q_{1} \\right)} \\cos{\\left(q_{3} \\right)} + \\sin{\\left(q_{3} \\right)} \\cos{\\left(q_{1} \\right)} \\cos{\\left(q_{2} \\right)} & - \\sin{\\left(q_{1} \\right)} \\sin{\\left(q_{3} \\right)} + \\cos{\\left(q_{1} \\right)} \\cos{\\left(q_{2} \\right)} \\cos{\\left(q_{3} \\right)} & 0\\\\0 & 0 & 0 & 1\\end{matrix}\\right]$"
      ],
      "text/plain": [
       "Matrix([\n",
       "[          cos(q_2),                              -sin(q_2)*sin(q_3),                              -sin(q_2)*cos(q_3), 0],\n",
       "[-sin(q_1)*sin(q_2), -sin(q_1)*sin(q_3)*cos(q_2) + cos(q_1)*cos(q_3), -sin(q_1)*cos(q_2)*cos(q_3) - sin(q_3)*cos(q_1), 0],\n",
       "[ sin(q_2)*cos(q_1),  sin(q_1)*cos(q_3) + sin(q_3)*cos(q_1)*cos(q_2), -sin(q_1)*sin(q_3) + cos(q_1)*cos(q_2)*cos(q_3), 0],\n",
       "[                 0,                                               0,                                               0, 1]])"
      ]
     },
     "execution_count": 32,
     "metadata": {},
     "output_type": "execute_result"
    }
   ],
   "source": [
    "rw.directKinHomoTSymbols()"
   ]
  },
  {
   "cell_type": "code",
   "execution_count": 33,
   "metadata": {},
   "outputs": [
    {
     "data": {
      "text/latex": [
       "$\\displaystyle \\left[\\begin{matrix}\\operatorname{atan_{2}}{\\left(\\sin{\\left(\\beta \\right)} \\sin{\\left(\\gamma \\right)},\\sin{\\left(\\beta \\right)} \\cos{\\left(\\gamma \\right)} \\right)}\\\\\\operatorname{acos}{\\left(\\cos{\\left(\\beta \\right)} \\right)}\\\\\\operatorname{atan_{2}}{\\left(- \\sin{\\left(\\alpha \\right)} \\sin{\\left(\\beta \\right)},- \\sin{\\left(\\beta \\right)} \\cos{\\left(\\alpha \\right)} \\right)}\\end{matrix}\\right]$"
      ],
      "text/plain": [
       "Matrix([\n",
       "[  atan2(sin(beta)*sin(gamma), sin(beta)*cos(gamma))],\n",
       "[                                    acos(cos(beta))],\n",
       "[atan2(-sin(alpha)*sin(beta), -sin(beta)*cos(alpha))]])"
      ]
     },
     "execution_count": 33,
     "metadata": {},
     "output_type": "execute_result"
    }
   ],
   "source": [
    "rw.inverseKinSymbols()"
   ]
  },
  {
   "cell_type": "code",
   "execution_count": 34,
   "metadata": {},
   "outputs": [
    {
     "data": {
      "text/plain": [
       "array([[ 0.        ],\n",
       "       [ 0.        ],\n",
       "       [-3.14159265]])"
      ]
     },
     "execution_count": 34,
     "metadata": {},
     "output_type": "execute_result"
    }
   ],
   "source": [
    "rw.inverse(0,0,0)"
   ]
  },
  {
   "cell_type": "markdown",
   "metadata": {},
   "source": [
    "# Decoupled kinematics 6DOF"
   ]
  },
  {
   "cell_type": "code",
   "execution_count": 35,
   "metadata": {},
   "outputs": [],
   "source": [
    "class Decoupled6DOF:\n",
    "    def __init__(self,a1=None,a2=None) -> None:\n",
    "        self.a1 = sympy.Symbol('a_1') if a1 is None else a1\n",
    "        self.a2 = sympy.Symbol('a_2') if a2 is None else a2\n",
    "        self.q1 = sympy.Symbol('q_1')\n",
    "        self.q2 = sympy.Symbol('q_2')\n",
    "        self.q3 = sympy.Symbol('q_3')\n",
    "        self.q4 = sympy.Symbol('q_4')\n",
    "        self.q5 = sympy.Symbol('q_5')\n",
    "        self.q6 = sympy.Symbol('q_6')\n",
    "        self.x = x\n",
    "        self.y = y\n",
    "        self.z = z\n",
    "        self.yaw   = sympy.Symbol('gamma')\n",
    "        self.pitch = sympy.Symbol('beta')\n",
    "        self.roll  = sympy.Symbol('alpha')\n",
    "        self.positionSide    = TwoLinkAndBase(a1,a2)\n",
    "        self.positionSide.setCartesianCoordinates(self.x,self.y,self.z)\n",
    "        self.positionSide.setJointCoordinates(self.q1,self.q2,self.q3)\n",
    "        self.orientationSide = RotationalWrist(\"xyx\")\n",
    "        self.orientationSide.setCartesianCoordinates(self.yaw,self.pitch,self.roll)\n",
    "        self.orientationSide.setJointCoordinates(self.q4,self.q5,self.q6)\n",
    "        # Initialize symbolic kinematics\n",
    "        self.directSym  = self.directKinHomoTSymbols()\n",
    "        self.inverseSym = self.inverseKinSymbols()   \n",
    "        # Initialize lambdas\n",
    "        self.directLambda  = lambda q1,q2,q3: None\n",
    "        self.inverseLambda = lambda x, y, z : None\n",
    "        # Compute symbolic kinematics and lambda functions\n",
    "        self._resetSymbolsAndLambdas()\n",
    "\n",
    "    def directKinHomoTSymbols(self):\n",
    "        return self.orientationSide.directKinHomoTSymbols() * self.positionSide.directKinHomoTSymbols()\n",
    "\n",
    "    def inverseKinSymbols(self):\n",
    "        positionKin    = self.positionSide.inverseKinSymbols()\n",
    "        orientationFromPositon = sympy.Matrix(self.positionSide.directKinSymbols()[3:])\n",
    "        orientationKin = self.orientationSide.inverseKinSymbols()\n",
    "        orientationFromPositon = orientationFromPositon.subs(self.q1,-positionKin[0])\n",
    "        orientationFromPositon = orientationFromPositon.subs(self.q2,-positionKin[1])\n",
    "        orientationFromPositon = orientationFromPositon.subs(self.q3,-positionKin[2])\n",
    "        \n",
    "        return sympy.Matrix((positionKin,orientationFromPositon+orientationKin))\n",
    "        \n",
    "    def direct(self,q1,q2,q3,q4,q5,q6):\n",
    "        return self.directLambda(q1,q2,q3,q4,q5,q6)\n",
    "\n",
    "    def inverse(self,x,y,z,yaw,pitch,roll):\n",
    "        return self.inverseLambda(x,y,z,yaw,pitch,roll)\n",
    "\n",
    "    def _resetSymbolsAndLambdas(self):\n",
    "        # Compute simbolic kinematics\n",
    "        self.directSym  = self.directKinHomoTSymbols()\n",
    "        # self.inverseSym = self.inverseKinSymbols()\n",
    "        # Compute direct kinematic symbols\n",
    "        dkSymbols = self._orderedSymbolsFromExpr(self.directSym)\n",
    "        # Compute lambda kinematic functions \n",
    "        try:\n",
    "            self.directLambda  = sympy.lambdify(dkSymbols,self.directSym)\n",
    "            self.inverseLambda = sympy.lambdify((self.x, self.y, self.z, self.yaw, self.pitch, self.roll), self.inverseSym)\n",
    "        except SyntaxError:\n",
    "            self.directLambda  = lambda q1,q2,q3,q4,q5,q6: None\n",
    "            self.inverseLambda = lambda x, y, z, yaw,pch,rol: None\n",
    "\n",
    "    def _orderedSymbolsFromExpr(self,expression):\n",
    "        names = [sym.name for sym in expression.free_symbols]\n",
    "        names.sort()\n",
    "        return [sympy.Symbol(n) for n in names]"
   ]
  },
  {
   "cell_type": "markdown",
   "metadata": {},
   "source": [
    "## Examples"
   ]
  },
  {
   "cell_type": "code",
   "execution_count": 36,
   "metadata": {},
   "outputs": [
    {
     "name": "stdout",
     "output_type": "stream",
     "text": [
      "Singularities in {beta: 0}\n",
      "Singularities in {beta: 0}\n",
      "Singularities in {beta: 0}\n"
     ]
    },
    {
     "data": {
      "text/latex": [
       "$\\displaystyle \\left[\\begin{matrix}- \\sin{\\left(q_{1} \\right)} \\sin{\\left(q_{5} \\right)} \\sin{\\left(q_{6} \\right)} \\cos{\\left(q_{2} + q_{3} \\right)} - \\sin{\\left(q_{5} \\right)} \\sin{\\left(q_{2} + q_{3} \\right)} \\cos{\\left(q_{6} \\right)} + \\cos{\\left(q_{1} \\right)} \\cos{\\left(q_{5} \\right)} \\cos{\\left(q_{2} + q_{3} \\right)} & - \\sin{\\left(q_{1} \\right)} \\cos{\\left(q_{5} \\right)} - \\sin{\\left(q_{5} \\right)} \\sin{\\left(q_{6} \\right)} \\cos{\\left(q_{1} \\right)} & \\sin{\\left(q_{1} \\right)} \\sin{\\left(q_{5} \\right)} \\sin{\\left(q_{6} \\right)} \\sin{\\left(q_{2} + q_{3} \\right)} - \\sin{\\left(q_{5} \\right)} \\cos{\\left(q_{6} \\right)} \\cos{\\left(q_{2} + q_{3} \\right)} - \\sin{\\left(q_{2} + q_{3} \\right)} \\cos{\\left(q_{1} \\right)} \\cos{\\left(q_{5} \\right)} & - \\left(2 \\sin{\\left(q_{2} \\right)} + 3 \\sin{\\left(q_{2} + q_{3} \\right)}\\right) \\sin{\\left(q_{5} \\right)} \\cos{\\left(q_{6} \\right)} - \\left(2 \\cos{\\left(q_{2} \\right)} + 3 \\cos{\\left(q_{2} + q_{3} \\right)}\\right) \\sin{\\left(q_{1} \\right)} \\sin{\\left(q_{5} \\right)} \\sin{\\left(q_{6} \\right)} + \\left(2 \\cos{\\left(q_{2} \\right)} + 3 \\cos{\\left(q_{2} + q_{3} \\right)}\\right) \\cos{\\left(q_{1} \\right)} \\cos{\\left(q_{5} \\right)}\\\\\\left(- \\sin{\\left(q_{4} \\right)} \\sin{\\left(q_{6} \\right)} \\cos{\\left(q_{5} \\right)} + \\cos{\\left(q_{4} \\right)} \\cos{\\left(q_{6} \\right)}\\right) \\sin{\\left(q_{1} \\right)} \\cos{\\left(q_{2} + q_{3} \\right)} + \\left(- \\sin{\\left(q_{4} \\right)} \\cos{\\left(q_{5} \\right)} \\cos{\\left(q_{6} \\right)} - \\sin{\\left(q_{6} \\right)} \\cos{\\left(q_{4} \\right)}\\right) \\sin{\\left(q_{2} + q_{3} \\right)} - \\sin{\\left(q_{4} \\right)} \\sin{\\left(q_{5} \\right)} \\cos{\\left(q_{1} \\right)} \\cos{\\left(q_{2} + q_{3} \\right)} & \\left(- \\sin{\\left(q_{4} \\right)} \\sin{\\left(q_{6} \\right)} \\cos{\\left(q_{5} \\right)} + \\cos{\\left(q_{4} \\right)} \\cos{\\left(q_{6} \\right)}\\right) \\cos{\\left(q_{1} \\right)} + \\sin{\\left(q_{1} \\right)} \\sin{\\left(q_{4} \\right)} \\sin{\\left(q_{5} \\right)} & - \\left(- \\sin{\\left(q_{4} \\right)} \\sin{\\left(q_{6} \\right)} \\cos{\\left(q_{5} \\right)} + \\cos{\\left(q_{4} \\right)} \\cos{\\left(q_{6} \\right)}\\right) \\sin{\\left(q_{1} \\right)} \\sin{\\left(q_{2} + q_{3} \\right)} + \\left(- \\sin{\\left(q_{4} \\right)} \\cos{\\left(q_{5} \\right)} \\cos{\\left(q_{6} \\right)} - \\sin{\\left(q_{6} \\right)} \\cos{\\left(q_{4} \\right)}\\right) \\cos{\\left(q_{2} + q_{3} \\right)} + \\sin{\\left(q_{4} \\right)} \\sin{\\left(q_{5} \\right)} \\sin{\\left(q_{2} + q_{3} \\right)} \\cos{\\left(q_{1} \\right)} & \\left(- \\sin{\\left(q_{4} \\right)} \\sin{\\left(q_{6} \\right)} \\cos{\\left(q_{5} \\right)} + \\cos{\\left(q_{4} \\right)} \\cos{\\left(q_{6} \\right)}\\right) \\left(2 \\cos{\\left(q_{2} \\right)} + 3 \\cos{\\left(q_{2} + q_{3} \\right)}\\right) \\sin{\\left(q_{1} \\right)} + \\left(- \\sin{\\left(q_{4} \\right)} \\cos{\\left(q_{5} \\right)} \\cos{\\left(q_{6} \\right)} - \\sin{\\left(q_{6} \\right)} \\cos{\\left(q_{4} \\right)}\\right) \\left(2 \\sin{\\left(q_{2} \\right)} + 3 \\sin{\\left(q_{2} + q_{3} \\right)}\\right) - \\left(2 \\cos{\\left(q_{2} \\right)} + 3 \\cos{\\left(q_{2} + q_{3} \\right)}\\right) \\sin{\\left(q_{4} \\right)} \\sin{\\left(q_{5} \\right)} \\cos{\\left(q_{1} \\right)}\\\\\\left(- \\sin{\\left(q_{4} \\right)} \\sin{\\left(q_{6} \\right)} + \\cos{\\left(q_{4} \\right)} \\cos{\\left(q_{5} \\right)} \\cos{\\left(q_{6} \\right)}\\right) \\sin{\\left(q_{2} + q_{3} \\right)} + \\left(\\sin{\\left(q_{4} \\right)} \\cos{\\left(q_{6} \\right)} + \\sin{\\left(q_{6} \\right)} \\cos{\\left(q_{4} \\right)} \\cos{\\left(q_{5} \\right)}\\right) \\sin{\\left(q_{1} \\right)} \\cos{\\left(q_{2} + q_{3} \\right)} + \\sin{\\left(q_{5} \\right)} \\cos{\\left(q_{1} \\right)} \\cos{\\left(q_{4} \\right)} \\cos{\\left(q_{2} + q_{3} \\right)} & \\left(\\sin{\\left(q_{4} \\right)} \\cos{\\left(q_{6} \\right)} + \\sin{\\left(q_{6} \\right)} \\cos{\\left(q_{4} \\right)} \\cos{\\left(q_{5} \\right)}\\right) \\cos{\\left(q_{1} \\right)} - \\sin{\\left(q_{1} \\right)} \\sin{\\left(q_{5} \\right)} \\cos{\\left(q_{4} \\right)} & \\left(- \\sin{\\left(q_{4} \\right)} \\sin{\\left(q_{6} \\right)} + \\cos{\\left(q_{4} \\right)} \\cos{\\left(q_{5} \\right)} \\cos{\\left(q_{6} \\right)}\\right) \\cos{\\left(q_{2} + q_{3} \\right)} - \\left(\\sin{\\left(q_{4} \\right)} \\cos{\\left(q_{6} \\right)} + \\sin{\\left(q_{6} \\right)} \\cos{\\left(q_{4} \\right)} \\cos{\\left(q_{5} \\right)}\\right) \\sin{\\left(q_{1} \\right)} \\sin{\\left(q_{2} + q_{3} \\right)} - \\sin{\\left(q_{5} \\right)} \\sin{\\left(q_{2} + q_{3} \\right)} \\cos{\\left(q_{1} \\right)} \\cos{\\left(q_{4} \\right)} & \\left(- \\sin{\\left(q_{4} \\right)} \\sin{\\left(q_{6} \\right)} + \\cos{\\left(q_{4} \\right)} \\cos{\\left(q_{5} \\right)} \\cos{\\left(q_{6} \\right)}\\right) \\left(2 \\sin{\\left(q_{2} \\right)} + 3 \\sin{\\left(q_{2} + q_{3} \\right)}\\right) + \\left(\\sin{\\left(q_{4} \\right)} \\cos{\\left(q_{6} \\right)} + \\sin{\\left(q_{6} \\right)} \\cos{\\left(q_{4} \\right)} \\cos{\\left(q_{5} \\right)}\\right) \\left(2 \\cos{\\left(q_{2} \\right)} + 3 \\cos{\\left(q_{2} + q_{3} \\right)}\\right) \\sin{\\left(q_{1} \\right)} + \\left(2 \\cos{\\left(q_{2} \\right)} + 3 \\cos{\\left(q_{2} + q_{3} \\right)}\\right) \\sin{\\left(q_{5} \\right)} \\cos{\\left(q_{1} \\right)} \\cos{\\left(q_{4} \\right)}\\\\0 & 0 & 0 & 1\\end{matrix}\\right]$"
      ],
      "text/plain": [
       "Matrix([\n",
       "[                                                                        -sin(q_1)*sin(q_5)*sin(q_6)*cos(q_2 + q_3) - sin(q_5)*sin(q_2 + q_3)*cos(q_6) + cos(q_1)*cos(q_5)*cos(q_2 + q_3),                                         -sin(q_1)*cos(q_5) - sin(q_5)*sin(q_6)*cos(q_1),                                                                           sin(q_1)*sin(q_5)*sin(q_6)*sin(q_2 + q_3) - sin(q_5)*cos(q_6)*cos(q_2 + q_3) - sin(q_2 + q_3)*cos(q_1)*cos(q_5),                                                                         -(2*sin(q_2) + 3*sin(q_2 + q_3))*sin(q_5)*cos(q_6) - (2*cos(q_2) + 3*cos(q_2 + q_3))*sin(q_1)*sin(q_5)*sin(q_6) + (2*cos(q_2) + 3*cos(q_2 + q_3))*cos(q_1)*cos(q_5)],\n",
       "[(-sin(q_4)*sin(q_6)*cos(q_5) + cos(q_4)*cos(q_6))*sin(q_1)*cos(q_2 + q_3) + (-sin(q_4)*cos(q_5)*cos(q_6) - sin(q_6)*cos(q_4))*sin(q_2 + q_3) - sin(q_4)*sin(q_5)*cos(q_1)*cos(q_2 + q_3), (-sin(q_4)*sin(q_6)*cos(q_5) + cos(q_4)*cos(q_6))*cos(q_1) + sin(q_1)*sin(q_4)*sin(q_5), -(-sin(q_4)*sin(q_6)*cos(q_5) + cos(q_4)*cos(q_6))*sin(q_1)*sin(q_2 + q_3) + (-sin(q_4)*cos(q_5)*cos(q_6) - sin(q_6)*cos(q_4))*cos(q_2 + q_3) + sin(q_4)*sin(q_5)*sin(q_2 + q_3)*cos(q_1), (-sin(q_4)*sin(q_6)*cos(q_5) + cos(q_4)*cos(q_6))*(2*cos(q_2) + 3*cos(q_2 + q_3))*sin(q_1) + (-sin(q_4)*cos(q_5)*cos(q_6) - sin(q_6)*cos(q_4))*(2*sin(q_2) + 3*sin(q_2 + q_3)) - (2*cos(q_2) + 3*cos(q_2 + q_3))*sin(q_4)*sin(q_5)*cos(q_1)],\n",
       "[ (-sin(q_4)*sin(q_6) + cos(q_4)*cos(q_5)*cos(q_6))*sin(q_2 + q_3) + (sin(q_4)*cos(q_6) + sin(q_6)*cos(q_4)*cos(q_5))*sin(q_1)*cos(q_2 + q_3) + sin(q_5)*cos(q_1)*cos(q_4)*cos(q_2 + q_3),  (sin(q_4)*cos(q_6) + sin(q_6)*cos(q_4)*cos(q_5))*cos(q_1) - sin(q_1)*sin(q_5)*cos(q_4),   (-sin(q_4)*sin(q_6) + cos(q_4)*cos(q_5)*cos(q_6))*cos(q_2 + q_3) - (sin(q_4)*cos(q_6) + sin(q_6)*cos(q_4)*cos(q_5))*sin(q_1)*sin(q_2 + q_3) - sin(q_5)*sin(q_2 + q_3)*cos(q_1)*cos(q_4),  (-sin(q_4)*sin(q_6) + cos(q_4)*cos(q_5)*cos(q_6))*(2*sin(q_2) + 3*sin(q_2 + q_3)) + (sin(q_4)*cos(q_6) + sin(q_6)*cos(q_4)*cos(q_5))*(2*cos(q_2) + 3*cos(q_2 + q_3))*sin(q_1) + (2*cos(q_2) + 3*cos(q_2 + q_3))*sin(q_5)*cos(q_1)*cos(q_4)],\n",
       "[                                                                                                                                                                                       0,                                                                                       0,                                                                                                                                                                                         0,                                                                                                                                                                                                                                           1]])"
      ]
     },
     "execution_count": 36,
     "metadata": {},
     "output_type": "execute_result"
    }
   ],
   "source": [
    "d6d = Decoupled6DOF(2,3)\n",
    "d6d.directKinHomoTSymbols()"
   ]
  },
  {
   "cell_type": "code",
   "execution_count": 37,
   "metadata": {},
   "outputs": [
    {
     "data": {
      "text/latex": [
       "$\\displaystyle \\left[\\begin{matrix}\\operatorname{atan_{2}}{\\left(y,x \\right)}\\\\\\operatorname{atan_{2}}{\\left(z,\\sqrt{x^{2} + y^{2}} \\right)} - \\operatorname{atan_{2}}{\\left(3 \\sqrt{1 - \\left(\\frac{x^{2}}{12} + \\frac{y^{2}}{12} + \\frac{z^{2}}{12} - \\frac{13}{12}\\right)^{2}},\\frac{x^{2}}{4} + \\frac{y^{2}}{4} + \\frac{z^{2}}{4} - \\frac{5}{4} \\right)}\\\\\\operatorname{acos}{\\left(\\frac{x^{2}}{12} + \\frac{y^{2}}{12} + \\frac{z^{2}}{12} - \\frac{13}{12} \\right)}\\\\- \\operatorname{atan_{2}}{\\left(y,x \\right)} + \\operatorname{atan_{2}}{\\left(\\sin{\\left(\\beta \\right)} \\sin{\\left(\\gamma \\right)},\\sin{\\left(\\beta \\right)} \\cos{\\left(\\gamma \\right)} \\right)}\\\\- \\operatorname{acos}{\\left(\\frac{x^{2}}{12} + \\frac{y^{2}}{12} + \\frac{z^{2}}{12} - \\frac{13}{12} \\right)} + \\operatorname{acos}{\\left(\\cos{\\left(\\beta \\right)} \\right)} - \\operatorname{atan_{2}}{\\left(z,\\sqrt{x^{2} + y^{2}} \\right)} + \\operatorname{atan_{2}}{\\left(3 \\sqrt{1 - \\left(\\frac{x^{2}}{12} + \\frac{y^{2}}{12} + \\frac{z^{2}}{12} - \\frac{13}{12}\\right)^{2}},\\frac{x^{2}}{4} + \\frac{y^{2}}{4} + \\frac{z^{2}}{4} - \\frac{5}{4} \\right)}\\\\\\operatorname{atan_{2}}{\\left(- \\sin{\\left(\\alpha \\right)} \\sin{\\left(\\beta \\right)},- \\sin{\\left(\\beta \\right)} \\cos{\\left(\\alpha \\right)} \\right)}\\end{matrix}\\right]$"
      ],
      "text/plain": [
       "Matrix([\n",
       "[                                                                                                                                                                             atan2(y, x)],\n",
       "[                                                               atan2(z, sqrt(x**2 + y**2)) - atan2(3*sqrt(1 - (x**2/12 + y**2/12 + z**2/12 - 13/12)**2), x**2/4 + y**2/4 + z**2/4 - 5/4)],\n",
       "[                                                                                                                                               acos(x**2/12 + y**2/12 + z**2/12 - 13/12)],\n",
       "[                                                                                                                        -atan2(y, x) + atan2(sin(beta)*sin(gamma), sin(beta)*cos(gamma))],\n",
       "[-acos(x**2/12 + y**2/12 + z**2/12 - 13/12) + acos(cos(beta)) - atan2(z, sqrt(x**2 + y**2)) + atan2(3*sqrt(1 - (x**2/12 + y**2/12 + z**2/12 - 13/12)**2), x**2/4 + y**2/4 + z**2/4 - 5/4)],\n",
       "[                                                                                                                                     atan2(-sin(alpha)*sin(beta), -sin(beta)*cos(alpha))]])"
      ]
     },
     "execution_count": 37,
     "metadata": {},
     "output_type": "execute_result"
    }
   ],
   "source": [
    "d6d.inverseKinSymbols()"
   ]
  },
  {
   "cell_type": "code",
   "execution_count": 38,
   "metadata": {},
   "outputs": [
    {
     "data": {
      "text/plain": [
       "array([[ 0.78539816],\n",
       "       [-1.62975605],\n",
       "       [ 2.3579306 ],\n",
       "       [-0.78539816],\n",
       "       [ 0.84262177],\n",
       "       [-3.14159265]])"
      ]
     },
     "execution_count": 38,
     "metadata": {},
     "output_type": "execute_result"
    }
   ],
   "source": [
    "d6d.inverse(1.5,1.5,0,0,pi/2,0)"
   ]
  }
 ],
 "metadata": {
  "kernelspec": {
   "display_name": "Python 3.7.4 64-bit",
   "language": "python",
   "name": "python3"
  },
  "language_info": {
   "codemirror_mode": {
    "name": "ipython",
    "version": 3
   },
   "file_extension": ".py",
   "mimetype": "text/x-python",
   "name": "python",
   "nbconvert_exporter": "python",
   "pygments_lexer": "ipython3",
   "version": "3.7.4"
  },
  "orig_nbformat": 4,
  "vscode": {
   "interpreter": {
    "hash": "1fe14b4add03ae38573eb06091088804124a960722df5dd1669e7e782fa9e5a9"
   }
  }
 },
 "nbformat": 4,
 "nbformat_minor": 2
}
