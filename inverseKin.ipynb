{
 "cells": [
  {
   "cell_type": "code",
   "execution_count": 1,
   "metadata": {},
   "outputs": [],
   "source": [
    "import sympy\n",
    "from cmath import pi\n",
    "from kinematicBuilder import *"
   ]
  },
  {
   "attachments": {},
   "cell_type": "markdown",
   "metadata": {},
   "source": [
    "# Two-Link Planar "
   ]
  },
  {
   "attachments": {},
   "cell_type": "markdown",
   "metadata": {},
   "source": [
    "## Examples"
   ]
  },
  {
   "cell_type": "code",
   "execution_count": 2,
   "metadata": {},
   "outputs": [
    {
     "data": {
      "text/latex": [
       "$\\displaystyle \\left[\\begin{matrix}2 \\cos{\\left(q_{1} \\right)} + 3 \\cos{\\left(q_{1} + q_{2} \\right)}\\\\2 \\sin{\\left(q_{1} \\right)} + 3 \\sin{\\left(q_{1} + q_{2} \\right)}\\\\0\\\\q_{1} + q_{2}\\\\0\\\\0\\end{matrix}\\right]$"
      ],
      "text/plain": [
       "Matrix([\n",
       "[2*cos(q_1) + 3*cos(q_1 + q_2)],\n",
       "[2*sin(q_1) + 3*sin(q_1 + q_2)],\n",
       "[                            0],\n",
       "[                    q_1 + q_2],\n",
       "[                            0],\n",
       "[                            0]])"
      ]
     },
     "execution_count": 2,
     "metadata": {},
     "output_type": "execute_result"
    }
   ],
   "source": [
    "twp = TwoLinkPlanar(2,3)\n",
    "twp.directKinSymbols()"
   ]
  },
  {
   "cell_type": "code",
   "execution_count": 3,
   "metadata": {},
   "outputs": [
    {
     "data": {
      "text/plain": [
       "array([[-1.0000000e+00, -1.2246468e-16,  0.0000000e+00, -3.0000000e+00],\n",
       "       [ 1.2246468e-16, -1.0000000e+00,  0.0000000e+00,  2.0000000e+00],\n",
       "       [ 0.0000000e+00,  0.0000000e+00,  1.0000000e+00,  0.0000000e+00],\n",
       "       [ 0.0000000e+00,  0.0000000e+00,  0.0000000e+00,  1.0000000e+00]])"
      ]
     },
     "execution_count": 3,
     "metadata": {},
     "output_type": "execute_result"
    }
   ],
   "source": [
    "twp.directLambda(pi/2,pi/2)"
   ]
  },
  {
   "cell_type": "code",
   "execution_count": 4,
   "metadata": {},
   "outputs": [
    {
     "data": {
      "text/plain": [
       "array([[0.46364761],\n",
       "       [2.30052398]])"
      ]
     },
     "execution_count": 4,
     "metadata": {},
     "output_type": "execute_result"
    }
   ],
   "source": [
    "twp.inverseLambda(-1,2)"
   ]
  },
  {
   "attachments": {},
   "cell_type": "markdown",
   "metadata": {},
   "source": [
    "# Two-Link Planar on rotatory base"
   ]
  },
  {
   "attachments": {},
   "cell_type": "markdown",
   "metadata": {},
   "source": [
    "## Examples"
   ]
  },
  {
   "cell_type": "code",
   "execution_count": 5,
   "metadata": {},
   "outputs": [
    {
     "data": {
      "text/latex": [
       "$\\displaystyle \\left[\\begin{matrix}\\cos{\\left(q_{1} \\right)} \\cos{\\left(q_{2} + q_{3} \\right)} & - \\sin{\\left(q_{1} \\right)} & \\sin{\\left(q_{2} + q_{3} \\right)} \\cos{\\left(q_{1} \\right)} & \\left(50 \\cos{\\left(q_{2} \\right)} + 50 \\cos{\\left(q_{2} + q_{3} \\right)}\\right) \\cos{\\left(q_{1} \\right)}\\\\\\sin{\\left(q_{1} \\right)} \\cos{\\left(q_{2} + q_{3} \\right)} & \\cos{\\left(q_{1} \\right)} & \\sin{\\left(q_{1} \\right)} \\sin{\\left(q_{2} + q_{3} \\right)} & \\left(50 \\cos{\\left(q_{2} \\right)} + 50 \\cos{\\left(q_{2} + q_{3} \\right)}\\right) \\sin{\\left(q_{1} \\right)}\\\\- \\sin{\\left(q_{2} + q_{3} \\right)} & 0 & \\cos{\\left(q_{2} + q_{3} \\right)} & 50 \\sin{\\left(q_{2} \\right)} + 50 \\sin{\\left(q_{2} + q_{3} \\right)}\\\\0 & 0 & 0 & 1\\end{matrix}\\right]$"
      ],
      "text/plain": [
       "Matrix([\n",
       "[cos(q_1)*cos(q_2 + q_3), -sin(q_1), sin(q_2 + q_3)*cos(q_1), (50*cos(q_2) + 50*cos(q_2 + q_3))*cos(q_1)],\n",
       "[sin(q_1)*cos(q_2 + q_3),  cos(q_1), sin(q_1)*sin(q_2 + q_3), (50*cos(q_2) + 50*cos(q_2 + q_3))*sin(q_1)],\n",
       "[        -sin(q_2 + q_3),         0,          cos(q_2 + q_3),            50*sin(q_2) + 50*sin(q_2 + q_3)],\n",
       "[                      0,         0,                       0,                                          1]])"
      ]
     },
     "execution_count": 5,
     "metadata": {},
     "output_type": "execute_result"
    }
   ],
   "source": [
    "tlb = TwoLinkAndBase(50,50)\n",
    "tlb.directKinHomoTSymbols()"
   ]
  },
  {
   "cell_type": "code",
   "execution_count": 6,
   "metadata": {},
   "outputs": [
    {
     "data": {
      "text/latex": [
       "$\\displaystyle \\left[\\begin{matrix}\\operatorname{atan}_{2}{\\left(y,x \\right)}\\\\\\operatorname{atan}_{2}{\\left(z,\\sqrt{x^{2} + y^{2}} \\right)} - \\operatorname{atan}_{2}{\\left(50 \\sqrt{1 - \\left(\\frac{x^{2}}{5000} + \\frac{y^{2}}{5000} + \\frac{z^{2}}{5000} - 1\\right)^{2}},\\frac{x^{2}}{100} + \\frac{y^{2}}{100} + \\frac{z^{2}}{100} \\right)}\\\\\\operatorname{acos}{\\left(\\frac{x^{2}}{5000} + \\frac{y^{2}}{5000} + \\frac{z^{2}}{5000} - 1 \\right)}\\end{matrix}\\right]$"
      ],
      "text/plain": [
       "Matrix([\n",
       "[                                                                                                                 atan2(y, x)],\n",
       "[atan2(z, sqrt(x**2 + y**2)) - atan2(50*sqrt(1 - (x**2/5000 + y**2/5000 + z**2/5000 - 1)**2), x**2/100 + y**2/100 + z**2/100)],\n",
       "[                                                                                 acos(x**2/5000 + y**2/5000 + z**2/5000 - 1)]])"
      ]
     },
     "execution_count": 6,
     "metadata": {},
     "output_type": "execute_result"
    }
   ],
   "source": [
    "tlb.inverseKinSymbols()"
   ]
  },
  {
   "cell_type": "code",
   "execution_count": 7,
   "metadata": {},
   "outputs": [
    {
     "data": {
      "text/plain": [
       "array([[ 6.12323400e-17, -0.00000000e+00,  1.00000000e+00,\n",
       "         3.53553391e+01],\n",
       "       [ 0.00000000e+00,  1.00000000e+00,  0.00000000e+00,\n",
       "         0.00000000e+00],\n",
       "       [-1.00000000e+00,  0.00000000e+00,  6.12323400e-17,\n",
       "         8.53553391e+01],\n",
       "       [ 0.00000000e+00,  0.00000000e+00,  0.00000000e+00,\n",
       "         1.00000000e+00]])"
      ]
     },
     "execution_count": 7,
     "metadata": {},
     "output_type": "execute_result"
    }
   ],
   "source": [
    "tlb.directLambda(0,pi/4,pi/4)"
   ]
  },
  {
   "cell_type": "code",
   "execution_count": 8,
   "metadata": {},
   "outputs": [
    {
     "data": {
      "text/plain": [
       "array([[ 0.        ],\n",
       "       [-0.72879941],\n",
       "       [ 3.02839514]])"
      ]
     },
     "execution_count": 8,
     "metadata": {},
     "output_type": "execute_result"
    }
   ],
   "source": [
    "tlb.inverseLambda(4,0,4)"
   ]
  },
  {
   "attachments": {},
   "cell_type": "markdown",
   "metadata": {},
   "source": [
    "# 3DOF Spherical wrist "
   ]
  },
  {
   "attachments": {},
   "cell_type": "markdown",
   "metadata": {},
   "source": [
    "## Examples"
   ]
  },
  {
   "cell_type": "code",
   "execution_count": 9,
   "metadata": {},
   "outputs": [],
   "source": [
    "rw = SphericalWrist(\"xyx\")"
   ]
  },
  {
   "cell_type": "code",
   "execution_count": 10,
   "metadata": {},
   "outputs": [
    {
     "data": {
      "text/latex": [
       "$\\displaystyle \\left[\\begin{matrix}\\cos{\\left(q_{2} \\right)} & \\sin{\\left(q_{2} \\right)} \\sin{\\left(q_{3} \\right)} & \\sin{\\left(q_{2} \\right)} \\cos{\\left(q_{3} \\right)} & 0\\\\\\sin{\\left(q_{1} \\right)} \\sin{\\left(q_{2} \\right)} & - \\sin{\\left(q_{1} \\right)} \\sin{\\left(q_{3} \\right)} \\cos{\\left(q_{2} \\right)} + \\cos{\\left(q_{1} \\right)} \\cos{\\left(q_{3} \\right)} & - \\sin{\\left(q_{1} \\right)} \\cos{\\left(q_{2} \\right)} \\cos{\\left(q_{3} \\right)} - \\sin{\\left(q_{3} \\right)} \\cos{\\left(q_{1} \\right)} & 0\\\\- \\sin{\\left(q_{2} \\right)} \\cos{\\left(q_{1} \\right)} & \\sin{\\left(q_{1} \\right)} \\cos{\\left(q_{3} \\right)} + \\sin{\\left(q_{3} \\right)} \\cos{\\left(q_{1} \\right)} \\cos{\\left(q_{2} \\right)} & - \\sin{\\left(q_{1} \\right)} \\sin{\\left(q_{3} \\right)} + \\cos{\\left(q_{1} \\right)} \\cos{\\left(q_{2} \\right)} \\cos{\\left(q_{3} \\right)} & 0\\\\0 & 0 & 0 & 1\\end{matrix}\\right]$"
      ],
      "text/plain": [
       "Matrix([\n",
       "[          cos(q_2),                               sin(q_2)*sin(q_3),                               sin(q_2)*cos(q_3), 0],\n",
       "[ sin(q_1)*sin(q_2), -sin(q_1)*sin(q_3)*cos(q_2) + cos(q_1)*cos(q_3), -sin(q_1)*cos(q_2)*cos(q_3) - sin(q_3)*cos(q_1), 0],\n",
       "[-sin(q_2)*cos(q_1),  sin(q_1)*cos(q_3) + sin(q_3)*cos(q_1)*cos(q_2), -sin(q_1)*sin(q_3) + cos(q_1)*cos(q_2)*cos(q_3), 0],\n",
       "[                 0,                                               0,                                               0, 1]])"
      ]
     },
     "execution_count": 10,
     "metadata": {},
     "output_type": "execute_result"
    }
   ],
   "source": [
    "rw.directKinHomoTSymbols()"
   ]
  },
  {
   "cell_type": "code",
   "execution_count": 11,
   "metadata": {},
   "outputs": [
    {
     "data": {
      "text/latex": [
       "$\\displaystyle \\left[\\begin{matrix}\\operatorname{atan}_{2}{\\left(R_{1, 0},- R_{2, 0} \\right)}\\\\\\operatorname{acos}{\\left(R_{0, 0} \\right)}\\\\\\operatorname{atan}_{2}{\\left(R_{0, 1},R_{0, 2} \\right)}\\end{matrix}\\right]$"
      ],
      "text/plain": [
       "Matrix([\n",
       "[atan2(R[1, 0], -R[2, 0])],\n",
       "[           acos(R[0, 0])],\n",
       "[ atan2(R[0, 1], R[0, 2])]])"
      ]
     },
     "execution_count": 11,
     "metadata": {},
     "output_type": "execute_result"
    }
   ],
   "source": [
    "rw.inverseKinSymbols()"
   ]
  },
  {
   "cell_type": "code",
   "execution_count": 12,
   "metadata": {},
   "outputs": [],
   "source": [
    "# rw.inverse(0,0,0)"
   ]
  },
  {
   "attachments": {},
   "cell_type": "markdown",
   "metadata": {},
   "source": [
    "# Decoupled kinematics 6DOF"
   ]
  },
  {
   "attachments": {},
   "cell_type": "markdown",
   "metadata": {},
   "source": [
    "## Examples"
   ]
  },
  {
   "cell_type": "code",
   "execution_count": 13,
   "metadata": {},
   "outputs": [
    {
     "data": {
      "text/latex": [
       "$\\displaystyle \\left[\\begin{matrix}\\sin{\\left(q_{1} \\right)} \\sin{\\left(q_{2} \\right)} \\sin{\\left(q_{3} \\right)} \\cos{\\left(q_{2} + q_{3} \\right)} - \\sin{\\left(q_{2} \\right)} \\sin{\\left(q_{2} + q_{3} \\right)} \\cos{\\left(q_{3} \\right)} + \\cos{\\left(q_{1} \\right)} \\cos{\\left(q_{2} \\right)} \\cos{\\left(q_{2} + q_{3} \\right)} & - \\sin{\\left(q_{1} \\right)} \\cos{\\left(q_{2} \\right)} + \\sin{\\left(q_{2} \\right)} \\sin{\\left(q_{3} \\right)} \\cos{\\left(q_{1} \\right)} & \\sin{\\left(q_{1} \\right)} \\sin{\\left(q_{2} \\right)} \\sin{\\left(q_{3} \\right)} \\sin{\\left(q_{2} + q_{3} \\right)} + \\sin{\\left(q_{2} \\right)} \\cos{\\left(q_{3} \\right)} \\cos{\\left(q_{2} + q_{3} \\right)} + \\sin{\\left(q_{2} + q_{3} \\right)} \\cos{\\left(q_{1} \\right)} \\cos{\\left(q_{2} \\right)} & \\left(2 \\sin{\\left(q_{2} \\right)} + 3 \\sin{\\left(q_{2} + q_{3} \\right)}\\right) \\sin{\\left(q_{2} \\right)} \\cos{\\left(q_{3} \\right)} + \\left(2 \\cos{\\left(q_{2} \\right)} + 3 \\cos{\\left(q_{2} + q_{3} \\right)}\\right) \\sin{\\left(q_{1} \\right)} \\sin{\\left(q_{2} \\right)} \\sin{\\left(q_{3} \\right)} + \\left(2 \\cos{\\left(q_{2} \\right)} + 3 \\cos{\\left(q_{2} + q_{3} \\right)}\\right) \\cos{\\left(q_{1} \\right)} \\cos{\\left(q_{2} \\right)}\\\\\\left(- \\sin{\\left(q_{1} \\right)} \\sin{\\left(q_{3} \\right)} \\cos{\\left(q_{2} \\right)} + \\cos{\\left(q_{1} \\right)} \\cos{\\left(q_{3} \\right)}\\right) \\sin{\\left(q_{1} \\right)} \\cos{\\left(q_{2} + q_{3} \\right)} - \\left(- \\sin{\\left(q_{1} \\right)} \\cos{\\left(q_{2} \\right)} \\cos{\\left(q_{3} \\right)} - \\sin{\\left(q_{3} \\right)} \\cos{\\left(q_{1} \\right)}\\right) \\sin{\\left(q_{2} + q_{3} \\right)} + \\sin{\\left(q_{1} \\right)} \\sin{\\left(q_{2} \\right)} \\cos{\\left(q_{1} \\right)} \\cos{\\left(q_{2} + q_{3} \\right)} & \\left(- \\sin{\\left(q_{1} \\right)} \\sin{\\left(q_{3} \\right)} \\cos{\\left(q_{2} \\right)} + \\cos{\\left(q_{1} \\right)} \\cos{\\left(q_{3} \\right)}\\right) \\cos{\\left(q_{1} \\right)} - \\sin^{2}{\\left(q_{1} \\right)} \\sin{\\left(q_{2} \\right)} & \\left(- \\sin{\\left(q_{1} \\right)} \\sin{\\left(q_{3} \\right)} \\cos{\\left(q_{2} \\right)} + \\cos{\\left(q_{1} \\right)} \\cos{\\left(q_{3} \\right)}\\right) \\sin{\\left(q_{1} \\right)} \\sin{\\left(q_{2} + q_{3} \\right)} + \\left(- \\sin{\\left(q_{1} \\right)} \\cos{\\left(q_{2} \\right)} \\cos{\\left(q_{3} \\right)} - \\sin{\\left(q_{3} \\right)} \\cos{\\left(q_{1} \\right)}\\right) \\cos{\\left(q_{2} + q_{3} \\right)} + \\sin{\\left(q_{1} \\right)} \\sin{\\left(q_{2} \\right)} \\sin{\\left(q_{2} + q_{3} \\right)} \\cos{\\left(q_{1} \\right)} & \\left(- \\sin{\\left(q_{1} \\right)} \\sin{\\left(q_{3} \\right)} \\cos{\\left(q_{2} \\right)} + \\cos{\\left(q_{1} \\right)} \\cos{\\left(q_{3} \\right)}\\right) \\left(2 \\cos{\\left(q_{2} \\right)} + 3 \\cos{\\left(q_{2} + q_{3} \\right)}\\right) \\sin{\\left(q_{1} \\right)} + \\left(- \\sin{\\left(q_{1} \\right)} \\cos{\\left(q_{2} \\right)} \\cos{\\left(q_{3} \\right)} - \\sin{\\left(q_{3} \\right)} \\cos{\\left(q_{1} \\right)}\\right) \\left(2 \\sin{\\left(q_{2} \\right)} + 3 \\sin{\\left(q_{2} + q_{3} \\right)}\\right) + \\left(2 \\cos{\\left(q_{2} \\right)} + 3 \\cos{\\left(q_{2} + q_{3} \\right)}\\right) \\sin{\\left(q_{1} \\right)} \\sin{\\left(q_{2} \\right)} \\cos{\\left(q_{1} \\right)}\\\\- \\left(- \\sin{\\left(q_{1} \\right)} \\sin{\\left(q_{3} \\right)} + \\cos{\\left(q_{1} \\right)} \\cos{\\left(q_{2} \\right)} \\cos{\\left(q_{3} \\right)}\\right) \\sin{\\left(q_{2} + q_{3} \\right)} + \\left(\\sin{\\left(q_{1} \\right)} \\cos{\\left(q_{3} \\right)} + \\sin{\\left(q_{3} \\right)} \\cos{\\left(q_{1} \\right)} \\cos{\\left(q_{2} \\right)}\\right) \\sin{\\left(q_{1} \\right)} \\cos{\\left(q_{2} + q_{3} \\right)} - \\sin{\\left(q_{2} \\right)} \\cos^{2}{\\left(q_{1} \\right)} \\cos{\\left(q_{2} + q_{3} \\right)} & \\left(\\sin{\\left(q_{1} \\right)} \\cos{\\left(q_{3} \\right)} + \\sin{\\left(q_{3} \\right)} \\cos{\\left(q_{1} \\right)} \\cos{\\left(q_{2} \\right)}\\right) \\cos{\\left(q_{1} \\right)} + \\sin{\\left(q_{1} \\right)} \\sin{\\left(q_{2} \\right)} \\cos{\\left(q_{1} \\right)} & \\left(- \\sin{\\left(q_{1} \\right)} \\sin{\\left(q_{3} \\right)} + \\cos{\\left(q_{1} \\right)} \\cos{\\left(q_{2} \\right)} \\cos{\\left(q_{3} \\right)}\\right) \\cos{\\left(q_{2} + q_{3} \\right)} + \\left(\\sin{\\left(q_{1} \\right)} \\cos{\\left(q_{3} \\right)} + \\sin{\\left(q_{3} \\right)} \\cos{\\left(q_{1} \\right)} \\cos{\\left(q_{2} \\right)}\\right) \\sin{\\left(q_{1} \\right)} \\sin{\\left(q_{2} + q_{3} \\right)} - \\sin{\\left(q_{2} \\right)} \\sin{\\left(q_{2} + q_{3} \\right)} \\cos^{2}{\\left(q_{1} \\right)} & \\left(- \\sin{\\left(q_{1} \\right)} \\sin{\\left(q_{3} \\right)} + \\cos{\\left(q_{1} \\right)} \\cos{\\left(q_{2} \\right)} \\cos{\\left(q_{3} \\right)}\\right) \\left(2 \\sin{\\left(q_{2} \\right)} + 3 \\sin{\\left(q_{2} + q_{3} \\right)}\\right) + \\left(\\sin{\\left(q_{1} \\right)} \\cos{\\left(q_{3} \\right)} + \\sin{\\left(q_{3} \\right)} \\cos{\\left(q_{1} \\right)} \\cos{\\left(q_{2} \\right)}\\right) \\left(2 \\cos{\\left(q_{2} \\right)} + 3 \\cos{\\left(q_{2} + q_{3} \\right)}\\right) \\sin{\\left(q_{1} \\right)} - \\left(2 \\cos{\\left(q_{2} \\right)} + 3 \\cos{\\left(q_{2} + q_{3} \\right)}\\right) \\sin{\\left(q_{2} \\right)} \\cos^{2}{\\left(q_{1} \\right)}\\\\0 & 0 & 0 & 1\\end{matrix}\\right]$"
      ],
      "text/plain": [
       "Matrix([\n",
       "[                                                                         sin(q_1)*sin(q_2)*sin(q_3)*cos(q_2 + q_3) - sin(q_2)*sin(q_2 + q_3)*cos(q_3) + cos(q_1)*cos(q_2)*cos(q_2 + q_3),                                        -sin(q_1)*cos(q_2) + sin(q_2)*sin(q_3)*cos(q_1),                                                                          sin(q_1)*sin(q_2)*sin(q_3)*sin(q_2 + q_3) + sin(q_2)*cos(q_3)*cos(q_2 + q_3) + sin(q_2 + q_3)*cos(q_1)*cos(q_2),                                                                          (2*sin(q_2) + 3*sin(q_2 + q_3))*sin(q_2)*cos(q_3) + (2*cos(q_2) + 3*cos(q_2 + q_3))*sin(q_1)*sin(q_2)*sin(q_3) + (2*cos(q_2) + 3*cos(q_2 + q_3))*cos(q_1)*cos(q_2)],\n",
       "[(-sin(q_1)*sin(q_3)*cos(q_2) + cos(q_1)*cos(q_3))*sin(q_1)*cos(q_2 + q_3) - (-sin(q_1)*cos(q_2)*cos(q_3) - sin(q_3)*cos(q_1))*sin(q_2 + q_3) + sin(q_1)*sin(q_2)*cos(q_1)*cos(q_2 + q_3),      (-sin(q_1)*sin(q_3)*cos(q_2) + cos(q_1)*cos(q_3))*cos(q_1) - sin(q_1)**2*sin(q_2), (-sin(q_1)*sin(q_3)*cos(q_2) + cos(q_1)*cos(q_3))*sin(q_1)*sin(q_2 + q_3) + (-sin(q_1)*cos(q_2)*cos(q_3) - sin(q_3)*cos(q_1))*cos(q_2 + q_3) + sin(q_1)*sin(q_2)*sin(q_2 + q_3)*cos(q_1), (-sin(q_1)*sin(q_3)*cos(q_2) + cos(q_1)*cos(q_3))*(2*cos(q_2) + 3*cos(q_2 + q_3))*sin(q_1) + (-sin(q_1)*cos(q_2)*cos(q_3) - sin(q_3)*cos(q_1))*(2*sin(q_2) + 3*sin(q_2 + q_3)) + (2*cos(q_2) + 3*cos(q_2 + q_3))*sin(q_1)*sin(q_2)*cos(q_1)],\n",
       "[      -(-sin(q_1)*sin(q_3) + cos(q_1)*cos(q_2)*cos(q_3))*sin(q_2 + q_3) + (sin(q_1)*cos(q_3) + sin(q_3)*cos(q_1)*cos(q_2))*sin(q_1)*cos(q_2 + q_3) - sin(q_2)*cos(q_1)**2*cos(q_2 + q_3), (sin(q_1)*cos(q_3) + sin(q_3)*cos(q_1)*cos(q_2))*cos(q_1) + sin(q_1)*sin(q_2)*cos(q_1),        (-sin(q_1)*sin(q_3) + cos(q_1)*cos(q_2)*cos(q_3))*cos(q_2 + q_3) + (sin(q_1)*cos(q_3) + sin(q_3)*cos(q_1)*cos(q_2))*sin(q_1)*sin(q_2 + q_3) - sin(q_2)*sin(q_2 + q_3)*cos(q_1)**2,        (-sin(q_1)*sin(q_3) + cos(q_1)*cos(q_2)*cos(q_3))*(2*sin(q_2) + 3*sin(q_2 + q_3)) + (sin(q_1)*cos(q_3) + sin(q_3)*cos(q_1)*cos(q_2))*(2*cos(q_2) + 3*cos(q_2 + q_3))*sin(q_1) - (2*cos(q_2) + 3*cos(q_2 + q_3))*sin(q_2)*cos(q_1)**2],\n",
       "[                                                                                                                                                                                       0,                                                                                      0,                                                                                                                                                                                        0,                                                                                                                                                                                                                                           1]])"
      ]
     },
     "execution_count": 13,
     "metadata": {},
     "output_type": "execute_result"
    }
   ],
   "source": [
    "d6d = Decoupled6DOF(2,3)\n",
    "d6d.directKinHomoTSymbols()"
   ]
  },
  {
   "cell_type": "code",
   "execution_count": 14,
   "metadata": {},
   "outputs": [
    {
     "data": {
      "text/latex": [
       "$\\displaystyle \\left[\\begin{matrix}\\operatorname{atan}_{2}{\\left(y,x \\right)}\\\\\\operatorname{atan}_{2}{\\left(z,\\sqrt{x^{2} + y^{2}} \\right)} - \\operatorname{atan}_{2}{\\left(3 \\sqrt{1 - \\left(\\frac{x^{2}}{12} + \\frac{y^{2}}{12} + \\frac{z^{2}}{12} - \\frac{13}{12}\\right)^{2}},\\frac{x^{2}}{4} + \\frac{y^{2}}{4} + \\frac{z^{2}}{4} - \\frac{5}{4} \\right)}\\\\\\operatorname{acos}{\\left(\\frac{x^{2}}{12} + \\frac{y^{2}}{12} + \\frac{z^{2}}{12} - \\frac{13}{12} \\right)}\\\\- \\operatorname{atan}_{2}{\\left(y,x \\right)} + \\operatorname{atan}_{2}{\\left(R_{1, 0},- R_{2, 0} \\right)}\\\\- \\operatorname{acos}{\\left(\\frac{x^{2}}{12} + \\frac{y^{2}}{12} + \\frac{z^{2}}{12} - \\frac{13}{12} \\right)} + \\operatorname{acos}{\\left(R_{0, 0} \\right)} - \\operatorname{atan}_{2}{\\left(z,\\sqrt{x^{2} + y^{2}} \\right)} + \\operatorname{atan}_{2}{\\left(3 \\sqrt{1 - \\left(\\frac{x^{2}}{12} + \\frac{y^{2}}{12} + \\frac{z^{2}}{12} - \\frac{13}{12}\\right)^{2}},\\frac{x^{2}}{4} + \\frac{y^{2}}{4} + \\frac{z^{2}}{4} - \\frac{5}{4} \\right)}\\\\\\operatorname{atan}_{2}{\\left(R_{0, 1},R_{0, 2} \\right)}\\end{matrix}\\right]$"
      ],
      "text/plain": [
       "Matrix([\n",
       "[                                                                                                                                                                           atan2(y, x)],\n",
       "[                                                             atan2(z, sqrt(x**2 + y**2)) - atan2(3*sqrt(1 - (x**2/12 + y**2/12 + z**2/12 - 13/12)**2), x**2/4 + y**2/4 + z**2/4 - 5/4)],\n",
       "[                                                                                                                                             acos(x**2/12 + y**2/12 + z**2/12 - 13/12)],\n",
       "[                                                                                                                                               -atan2(y, x) + atan2(R[1, 0], -R[2, 0])],\n",
       "[-acos(x**2/12 + y**2/12 + z**2/12 - 13/12) + acos(R[0, 0]) - atan2(z, sqrt(x**2 + y**2)) + atan2(3*sqrt(1 - (x**2/12 + y**2/12 + z**2/12 - 13/12)**2), x**2/4 + y**2/4 + z**2/4 - 5/4)],\n",
       "[                                                                                                                                                               atan2(R[0, 1], R[0, 2])]])"
      ]
     },
     "execution_count": 14,
     "metadata": {},
     "output_type": "execute_result"
    }
   ],
   "source": [
    "d6d.inverseKinSymbols()"
   ]
  },
  {
   "cell_type": "code",
   "execution_count": 15,
   "metadata": {},
   "outputs": [],
   "source": [
    "# d6d.inverse(1.5,1.5,0,0,pi/2,0)"
   ]
  },
  {
   "attachments": {},
   "cell_type": "markdown",
   "metadata": {},
   "source": [
    "# Kineamtic tryouts"
   ]
  },
  {
   "cell_type": "code",
   "execution_count": 16,
   "metadata": {},
   "outputs": [
    {
     "data": {
      "text/latex": [
       "$\\displaystyle \\sqrt{x^{2} + y^{2}} \\operatorname{atan}_{2}{\\left(0.0425,\\sqrt{x^{2} + y^{2}} \\right)}$"
      ],
      "text/plain": [
       "sqrt(x**2 + y**2)*atan2(0.0425, sqrt(x**2 + y**2))"
      ]
     },
     "execution_count": 16,
     "metadata": {},
     "output_type": "execute_result"
    }
   ],
   "source": [
    "Lv = 0.5\n",
    "L1 = sympy.Symbol('L_1')\n",
    "L2 = sympy.Symbol('L_2')\n",
    "rotM = sympy.MatrixSymbol('R',4,4)\n",
    "\n",
    "twoLinksBase = TwoLinkAndBase()\n",
    "\n",
    "r = sympy.sqrt(twoLinksBase.x**2 + twoLinksBase.y**2)\n",
    "r_p = sympy.simplify(r*sympy.atan2(0.0425,r).evalf())\n",
    "r_p\n"
   ]
  },
  {
   "cell_type": "code",
   "execution_count": 17,
   "metadata": {},
   "outputs": [
    {
     "data": {
      "text/latex": [
       "$\\displaystyle 0.500399840127872$"
      ],
      "text/plain": [
       "0.500399840127872"
      ]
     },
     "execution_count": 17,
     "metadata": {},
     "output_type": "execute_result"
    }
   ],
   "source": [
    "angleOffset = sympy.atan2(0.02,Lv).evalf()\n",
    "Lv_p = Lv/sympy.cos(angleOffset).evalf()\n",
    "Lv_p"
   ]
  },
  {
   "cell_type": "code",
   "execution_count": 18,
   "metadata": {},
   "outputs": [
    {
     "data": {
      "text/latex": [
       "$\\displaystyle \\left[\\begin{matrix}\\operatorname{atan}_{2}{\\left(R_{1, 3},R_{0, 3} \\right)}\\\\- \\operatorname{atan}_{2}{\\left(\\sqrt{\\frac{313}{1250} - \\left(\\left(R_{0, 3}^{2} + R_{1, 3}^{2}\\right) \\operatorname{atan}_{2}^{2}{\\left(\\frac{17}{400},\\sqrt{R_{0, 3}^{2} + R_{1, 3}^{2}} \\right)} + R_{2, 3}^{2} - \\frac{1251}{2500}\\right)^{2}},\\left(R_{0, 3}^{2} + R_{1, 3}^{2}\\right) \\operatorname{atan}_{2}^{2}{\\left(\\frac{17}{400},\\sqrt{R_{0, 3}^{2} + R_{1, 3}^{2}} \\right)} + R_{2, 3}^{2} - \\frac{1}{2500} \\right)} + \\operatorname{atan}_{2}{\\left(R_{2, 3},\\sqrt{R_{0, 3}^{2} + R_{1, 3}^{2}} \\operatorname{atan}_{2}{\\left(\\frac{17}{400},\\sqrt{R_{0, 3}^{2} + R_{1, 3}^{2}} \\right)} \\right)}\\\\\\operatorname{acos}{\\left(\\frac{1313575924195 \\left(R_{0, 3}^{2} + R_{1, 3}^{2}\\right) \\operatorname{atan}_{2}^{2}{\\left(\\frac{17}{400},\\sqrt{R_{0, 3}^{2} + R_{1, 3}^{2}} \\right)}}{657313182463} + \\frac{1313575924195 R_{2, 3}^{2}}{657313182463} - \\frac{845623115460}{845622845293} \\right)}\\end{matrix}\\right]$"
      ],
      "text/plain": [
       "Matrix([\n",
       "[                                                                                                                                                                                                                                                                                                       atan2(R[1, 3], R[0, 3])],\n",
       "[-atan2(sqrt(313/1250 - ((R[0, 3]**2 + R[1, 3]**2)*atan2(17/400, sqrt(R[0, 3]**2 + R[1, 3]**2))**2 + R[2, 3]**2 - 1251/2500)**2), (R[0, 3]**2 + R[1, 3]**2)*atan2(17/400, sqrt(R[0, 3]**2 + R[1, 3]**2))**2 + R[2, 3]**2 - 1/2500) + atan2(R[2, 3], sqrt(R[0, 3]**2 + R[1, 3]**2)*atan2(17/400, sqrt(R[0, 3]**2 + R[1, 3]**2)))],\n",
       "[                                                                                                                                                acos(1313575924195*(R[0, 3]**2 + R[1, 3]**2)*atan2(17/400, sqrt(R[0, 3]**2 + R[1, 3]**2))**2/657313182463 + 1313575924195*R[2, 3]**2/657313182463 - 845623115460/845622845293)]])"
      ]
     },
     "execution_count": 18,
     "metadata": {},
     "output_type": "execute_result"
    }
   ],
   "source": [
    "\n",
    "twoLinksBase.setSymbols(Lv,Lv_p,x=rotM[0,3], y=rotM[1,3], z=rotM[2,3],r_expr=r_p)\n",
    "twoLinksBase.inverseSym\n"
   ]
  },
  {
   "cell_type": "code",
   "execution_count": 19,
   "metadata": {},
   "outputs": [
    {
     "data": {
      "text/latex": [
       "$\\displaystyle \\left[\\begin{matrix}\\cos{\\left(q_{1} \\right)} \\cos{\\left(q_{2} + q_{3} \\right)} & - \\sin{\\left(q_{1} \\right)} & \\sin{\\left(q_{2} + q_{3} \\right)} \\cos{\\left(q_{1} \\right)} & \\left(0.5 \\cos{\\left(q_{2} \\right)} + 0.500399840127872 \\cos{\\left(q_{2} + q_{3} \\right)}\\right) \\cos{\\left(q_{1} \\right)}\\\\\\sin{\\left(q_{1} \\right)} \\cos{\\left(q_{2} + q_{3} \\right)} & \\cos{\\left(q_{1} \\right)} & \\sin{\\left(q_{1} \\right)} \\sin{\\left(q_{2} + q_{3} \\right)} & \\left(0.5 \\cos{\\left(q_{2} \\right)} + 0.500399840127872 \\cos{\\left(q_{2} + q_{3} \\right)}\\right) \\sin{\\left(q_{1} \\right)}\\\\- \\sin{\\left(q_{2} + q_{3} \\right)} & 0 & \\cos{\\left(q_{2} + q_{3} \\right)} & 0.5 \\sin{\\left(q_{2} \\right)} + 0.500399840127872 \\sin{\\left(q_{2} + q_{3} \\right)}\\\\0 & 0 & 0 & 1\\end{matrix}\\right]$"
      ],
      "text/plain": [
       "Matrix([\n",
       "[cos(q_1)*cos(q_2 + q_3), -sin(q_1), sin(q_2 + q_3)*cos(q_1), (0.5*cos(q_2) + 0.500399840127872*cos(q_2 + q_3))*cos(q_1)],\n",
       "[sin(q_1)*cos(q_2 + q_3),  cos(q_1), sin(q_1)*sin(q_2 + q_3), (0.5*cos(q_2) + 0.500399840127872*cos(q_2 + q_3))*sin(q_1)],\n",
       "[        -sin(q_2 + q_3),         0,          cos(q_2 + q_3),            0.5*sin(q_2) + 0.500399840127872*sin(q_2 + q_3)],\n",
       "[                      0,         0,                       0,                                                          1]])"
      ]
     },
     "execution_count": 19,
     "metadata": {},
     "output_type": "execute_result"
    }
   ],
   "source": [
    "twoLinksBase.directKinHomoTSymbols()"
   ]
  },
  {
   "cell_type": "code",
   "execution_count": 20,
   "metadata": {},
   "outputs": [
    {
     "data": {
      "text/latex": [
       "$\\displaystyle \\left[\\begin{matrix}\\cos{\\left(b \\right)} \\cos{\\left(c \\right)} & - \\sin{\\left(c \\right)} \\cos{\\left(b \\right)} & \\sin{\\left(b \\right)}\\\\\\sin{\\left(a \\right)} \\sin{\\left(b \\right)} \\cos{\\left(c \\right)} + \\sin{\\left(c \\right)} \\cos{\\left(a \\right)} & - \\sin{\\left(a \\right)} \\sin{\\left(b \\right)} \\sin{\\left(c \\right)} + \\cos{\\left(a \\right)} \\cos{\\left(c \\right)} & - \\sin{\\left(a \\right)} \\cos{\\left(b \\right)}\\\\\\sin{\\left(a \\right)} \\sin{\\left(c \\right)} - \\sin{\\left(b \\right)} \\cos{\\left(a \\right)} \\cos{\\left(c \\right)} & \\sin{\\left(a \\right)} \\cos{\\left(c \\right)} + \\sin{\\left(b \\right)} \\sin{\\left(c \\right)} \\cos{\\left(a \\right)} & \\cos{\\left(a \\right)} \\cos{\\left(b \\right)}\\end{matrix}\\right]$"
      ],
      "text/plain": [
       "Matrix([\n",
       "[                       cos(b)*cos(c),                        -sin(c)*cos(b),         sin(b)],\n",
       "[sin(a)*sin(b)*cos(c) + sin(c)*cos(a), -sin(a)*sin(b)*sin(c) + cos(a)*cos(c), -sin(a)*cos(b)],\n",
       "[sin(a)*sin(c) - sin(b)*cos(a)*cos(c),  sin(a)*cos(c) + sin(b)*sin(c)*cos(a),  cos(a)*cos(b)]])"
      ]
     },
     "execution_count": 20,
     "metadata": {},
     "output_type": "execute_result"
    }
   ],
   "source": [
    "Rotations().eulerToMatrixSequenceSym(\"xyz\")"
   ]
  },
  {
   "cell_type": "code",
   "execution_count": 21,
   "metadata": {},
   "outputs": [
    {
     "data": {
      "text/latex": [
       "$\\displaystyle \\left[\\begin{matrix}\\cos{\\left(a \\right)} \\cos{\\left(b \\right)} & - \\sin{\\left(a \\right)} \\cos{\\left(c \\right)} + \\sin{\\left(b \\right)} \\sin{\\left(c \\right)} \\cos{\\left(a \\right)} & \\sin{\\left(a \\right)} \\sin{\\left(c \\right)} + \\sin{\\left(b \\right)} \\cos{\\left(a \\right)} \\cos{\\left(c \\right)}\\\\\\sin{\\left(a \\right)} \\cos{\\left(b \\right)} & \\sin{\\left(a \\right)} \\sin{\\left(b \\right)} \\sin{\\left(c \\right)} + \\cos{\\left(a \\right)} \\cos{\\left(c \\right)} & \\sin{\\left(a \\right)} \\sin{\\left(b \\right)} \\cos{\\left(c \\right)} - \\sin{\\left(c \\right)} \\cos{\\left(a \\right)}\\\\- \\sin{\\left(b \\right)} & \\sin{\\left(c \\right)} \\cos{\\left(b \\right)} & \\cos{\\left(b \\right)} \\cos{\\left(c \\right)}\\end{matrix}\\right]$"
      ],
      "text/plain": [
       "Matrix([\n",
       "[cos(a)*cos(b), -sin(a)*cos(c) + sin(b)*sin(c)*cos(a), sin(a)*sin(c) + sin(b)*cos(a)*cos(c)],\n",
       "[sin(a)*cos(b),  sin(a)*sin(b)*sin(c) + cos(a)*cos(c), sin(a)*sin(b)*cos(c) - sin(c)*cos(a)],\n",
       "[      -sin(b),                         sin(c)*cos(b),                        cos(b)*cos(c)]])"
      ]
     },
     "execution_count": 21,
     "metadata": {},
     "output_type": "execute_result"
    }
   ],
   "source": [
    "Rotations().eulerToMatrixSequenceSym(\"zyx\")"
   ]
  },
  {
   "cell_type": "code",
   "execution_count": 22,
   "metadata": {},
   "outputs": [
    {
     "data": {
      "text/plain": [
       "array([[0],\n",
       "       [0],\n",
       "       [1.57079632679490]], dtype=object)"
      ]
     },
     "execution_count": 22,
     "metadata": {},
     "output_type": "execute_result"
    }
   ],
   "source": [
    "Rotations().matrixToEulerSequence(\"zyx\",Rotations().rotMatrixX(pi/2))"
   ]
  },
  {
   "attachments": {},
   "cell_type": "markdown",
   "metadata": {},
   "source": [
    "# Screw Theory"
   ]
  },
  {
   "cell_type": "code",
   "execution_count": 23,
   "metadata": {},
   "outputs": [
    {
     "data": {
      "text/latex": [
       "$\\displaystyle \\left[\\begin{matrix}0\\\\0\\\\1.0\\\\0\\\\0\\\\0\\end{matrix}\\right]$"
      ],
      "text/plain": [
       "Matrix([\n",
       "[  0],\n",
       "[  0],\n",
       "[1.0],\n",
       "[  0],\n",
       "[  0],\n",
       "[  0]])"
      ]
     },
     "execution_count": 23,
     "metadata": {},
     "output_type": "execute_result"
    }
   ],
   "source": [
    "transform = np.array((\n",
    "    ( 1, 0, 0, 1.1),\n",
    "    ( 0, 0,-1,-0),\n",
    "    ( 0, 1, 0, 0),\n",
    "    ( 0, 0, 0, 1)\n",
    "))\n",
    "adj = Rotations().adjointT(transform)\n",
    "adj*sympy.Matrix([0,1,0,0,0,0])\n"
   ]
  },
  {
   "attachments": {},
   "cell_type": "markdown",
   "metadata": {},
   "source": [
    "Screw from twist\n",
    "- Screw axis: $\\hat \\xi = \\frac{\\omega}{||\\omega||} = \\hat \\omega$ \n",
    "- Screw rate value: $ \\dot \\theta = ||\\omega||$ \n",
    "- Pitch: $h = \\frac{\\hat \\omega^T v}{\\dot \\theta} =\\frac{\\hat \\omega^T v}{||\\omega||^2} $"
   ]
  },
  {
   "cell_type": "code",
   "execution_count": 46,
   "metadata": {},
   "outputs": [
    {
     "data": {
      "text/latex": [
       "$\\displaystyle \\left[\\begin{matrix}\\frac{\\omega_{1, 0} v_{2, 0} - \\omega_{2, 0} v_{1, 0}}{\\omega_{0, 0}^{2} + \\omega_{1, 0}^{2} + \\omega_{2, 0}^{2}}\\\\\\frac{- \\omega_{0, 0} v_{2, 0} + \\omega_{2, 0} v_{0, 0}}{\\omega_{0, 0}^{2} + \\omega_{1, 0}^{2} + \\omega_{2, 0}^{2}}\\\\\\frac{\\omega_{0, 0} v_{1, 0} - \\omega_{1, 0} v_{0, 0}}{\\omega_{0, 0}^{2} + \\omega_{1, 0}^{2} + \\omega_{2, 0}^{2}}\\end{matrix}\\right]$"
      ],
      "text/plain": [
       "Matrix([\n",
       "[ (omega[1, 0]*v[2, 0] - omega[2, 0]*v[1, 0])/(omega[0, 0]**2 + omega[1, 0]**2 + omega[2, 0]**2)],\n",
       "[(-omega[0, 0]*v[2, 0] + omega[2, 0]*v[0, 0])/(omega[0, 0]**2 + omega[1, 0]**2 + omega[2, 0]**2)],\n",
       "[ (omega[0, 0]*v[1, 0] - omega[1, 0]*v[0, 0])/(omega[0, 0]**2 + omega[1, 0]**2 + omega[2, 0]**2)]])"
      ]
     },
     "execution_count": 46,
     "metadata": {},
     "output_type": "execute_result"
    }
   ],
   "source": [
    "omegaSym = sympy.MatrixSymbol('omega', 3, 1)\n",
    "vSym     = sympy.MatrixSymbol('v', 3, 1)\n",
    "omega = sympy.Matrix(omegaSym)\n",
    "v     = sympy.Matrix(vSym)\n",
    "\n",
    "\n",
    "dtheta = sympy.sqrt(omega.dot(omega))\n",
    "xi = omega/dtheta\n",
    "h = (xi.T * v)/dtheta\n",
    "q = (xi.cross(v))/dtheta\n",
    "# q\n",
    "screw = sympy.Matrix(sympy.BlockMatrix([\n",
    "    [xi],\n",
    "    [v/dtheta]\n",
    "]))\n",
    "sympy.simplify(q)"
   ]
  },
  {
   "cell_type": "code",
   "execution_count": 25,
   "metadata": {},
   "outputs": [
    {
     "data": {
      "text/latex": [
       "$\\displaystyle \\left[\\begin{array}{c}\\omega_{0, 0}\\\\\\omega_{1, 0}\\\\\\omega_{2, 0}\\\\v_{0, 0}\\\\v_{1, 0}\\\\v_{2, 0}\\end{array}\\right]$"
      ],
      "text/plain": [
       "Matrix([\n",
       "[omega[0, 0]],\n",
       "[omega[1, 0]],\n",
       "[omega[2, 0]],\n",
       "[    v[0, 0]],\n",
       "[    v[1, 0]],\n",
       "[    v[2, 0]]])"
      ]
     },
     "execution_count": 25,
     "metadata": {},
     "output_type": "execute_result"
    }
   ],
   "source": [
    "twist = sympy.Matrix(sympy.BlockMatrix([\n",
    "    [omega],\n",
    "    [v]\n",
    "]))\n",
    "twist"
   ]
  },
  {
   "cell_type": "code",
   "execution_count": 26,
   "metadata": {},
   "outputs": [
    {
     "data": {
      "text/latex": [
       "$\\displaystyle \\left[\\begin{matrix}0\\\\1\\\\-1\\end{matrix}\\right]$"
      ],
      "text/plain": [
       "Matrix([\n",
       "[ 0],\n",
       "[ 1],\n",
       "[-1]])"
      ]
     },
     "execution_count": 26,
     "metadata": {},
     "output_type": "execute_result"
    }
   ],
   "source": [
    "omega_val = sympy.Matrix([ 0, 2, 2])\n",
    "v_val     = sympy.Matrix([ 4, 0, 0])\n",
    "\n",
    "subs = {\n",
    "    omegaSym:omega_val,\n",
    "    vSym:v_val\n",
    "}\n",
    "dtheta.subs(subs)\n",
    "xi.subs(subs)\n",
    "h.subs(subs)\n",
    "q.subs(subs)\n",
    "# screw.subs(subs).evalf()\n"
   ]
  },
  {
   "attachments": {},
   "cell_type": "markdown",
   "metadata": {},
   "source": [
    "## Adjoint representation of HMT\n",
    "https://www.mecharithm.com/velocities-in-robotics-angular-velocities-twists/\n",
    "\n",
    "https://publish.illinois.edu/ece470-intro-robotics/files/2019/09/09-lecture.pdf\n",
    "\n",
    "https://www.researchgate.net/publication/328318823_Screw_Theory_for_Robotics_-_A_practical_approach_for_Modern_Robot_KINEMATICS_-_An_Illustrated_Handbook"
   ]
  },
  {
   "cell_type": "code",
   "execution_count": 27,
   "metadata": {},
   "outputs": [
    {
     "data": {
      "text/latex": [
       "$\\displaystyle \\left[\\begin{array}{cccccc}R_{0, 0} & R_{0, 1} & R_{0, 2} & 0 & 0 & 0\\\\R_{1, 0} & R_{1, 1} & R_{1, 2} & 0 & 0 & 0\\\\R_{2, 0} & R_{2, 1} & R_{2, 2} & 0 & 0 & 0\\\\- R_{1, 0} p_{2, 0} + R_{2, 0} p_{1, 0} & - R_{1, 1} p_{2, 0} + R_{2, 1} p_{1, 0} & - R_{1, 2} p_{2, 0} + R_{2, 2} p_{1, 0} & R_{0, 0} & R_{0, 1} & R_{0, 2}\\\\R_{0, 0} p_{2, 0} - R_{2, 0} p_{0, 0} & R_{0, 1} p_{2, 0} - R_{2, 1} p_{0, 0} & R_{0, 2} p_{2, 0} - R_{2, 2} p_{0, 0} & R_{1, 0} & R_{1, 1} & R_{1, 2}\\\\- R_{0, 0} p_{1, 0} + R_{1, 0} p_{0, 0} & - R_{0, 1} p_{1, 0} + R_{1, 1} p_{0, 0} & - R_{0, 2} p_{1, 0} + R_{1, 2} p_{0, 0} & R_{2, 0} & R_{2, 1} & R_{2, 2}\\end{array}\\right]$"
      ],
      "text/plain": [
       "Matrix([\n",
       "[                           R[0, 0],                            R[0, 1],                            R[0, 2],       0,       0,       0],\n",
       "[                           R[1, 0],                            R[1, 1],                            R[1, 2],       0,       0,       0],\n",
       "[                           R[2, 0],                            R[2, 1],                            R[2, 2],       0,       0,       0],\n",
       "[-R[1, 0]*p[2, 0] + R[2, 0]*p[1, 0], -R[1, 1]*p[2, 0] + R[2, 1]*p[1, 0], -R[1, 2]*p[2, 0] + R[2, 2]*p[1, 0], R[0, 0], R[0, 1], R[0, 2]],\n",
       "[ R[0, 0]*p[2, 0] - R[2, 0]*p[0, 0],  R[0, 1]*p[2, 0] - R[2, 1]*p[0, 0],  R[0, 2]*p[2, 0] - R[2, 2]*p[0, 0], R[1, 0], R[1, 1], R[1, 2]],\n",
       "[-R[0, 0]*p[1, 0] + R[1, 0]*p[0, 0], -R[0, 1]*p[1, 0] + R[1, 1]*p[0, 0], -R[0, 2]*p[1, 0] + R[1, 2]*p[0, 0], R[2, 0], R[2, 1], R[2, 2]]])"
      ]
     },
     "execution_count": 27,
     "metadata": {},
     "output_type": "execute_result"
    }
   ],
   "source": [
    "Rsym = sympy.MatrixSymbol('R',3,3)\n",
    "psym = sympy.MatrixSymbol('p',3,1)\n",
    "R = sympy.Matrix(Rsym)\n",
    "p = sympy.Matrix(psym)\n",
    "skewP = sympy.Matrix([\n",
    "            [ 0     ,-p[2,0], p[1,0]],\n",
    "            [ p[2,0], 0     ,-p[0,0]],\n",
    "            [-p[1,0], p[0,0], 0     ]\n",
    "        ])\n",
    "adjT = sympy.Matrix(sympy.BlockMatrix([\n",
    "    [R      , sympy.zeros(3)],\n",
    "    [skewP*R, R             ]\n",
    "]))\n",
    "adjTinv = sympy.Matrix(sympy.BlockMatrix([\n",
    "    [R.T       , sympy.zeros(3)],\n",
    "    [-R.T*skewP, R.T           ]\n",
    "]))\n",
    "# adjT = sympy.Matrix(sympy.BlockMatrix([\n",
    "#     [R             , skewP*R],\n",
    "#     [sympy.zeros(3), R      ]\n",
    "# ]))\n",
    "adjT"
   ]
  },
  {
   "cell_type": "code",
   "execution_count": 28,
   "metadata": {},
   "outputs": [
    {
     "data": {
      "text/latex": [
       "$\\displaystyle \\left[\\begin{array}{c}o_{0, 0}\\\\o_{1, 0}\\\\o_{2, 0}\\\\t_{0, 0}\\\\t_{1, 0}\\\\t_{2, 0}\\end{array}\\right]$"
      ],
      "text/plain": [
       "Matrix([\n",
       "[o[0, 0]],\n",
       "[o[1, 0]],\n",
       "[o[2, 0]],\n",
       "[t[0, 0]],\n",
       "[t[1, 0]],\n",
       "[t[2, 0]]])"
      ]
     },
     "execution_count": 28,
     "metadata": {},
     "output_type": "execute_result"
    }
   ],
   "source": [
    "tsym = sympy.MatrixSymbol('t',3,1)\n",
    "osym = sympy.MatrixSymbol('o',3,1)\n",
    "lin = sympy.Matrix(tsym)\n",
    "ang = sympy.Matrix(osym)\n",
    "twist = sympy.Matrix(sympy.BlockMatrix([\n",
    "    [ang],\n",
    "    [lin]\n",
    "]))\n",
    "twist"
   ]
  },
  {
   "cell_type": "code",
   "execution_count": 29,
   "metadata": {},
   "outputs": [
    {
     "data": {
      "text/latex": [
       "$\\displaystyle \\left[\\begin{array}{c}R_{0, 0} o_{0, 0} + R_{0, 1} o_{1, 0} + R_{0, 2} o_{2, 0}\\\\R_{1, 0} o_{0, 0} + R_{1, 1} o_{1, 0} + R_{1, 2} o_{2, 0}\\\\R_{2, 0} o_{0, 0} + R_{2, 1} o_{1, 0} + R_{2, 2} o_{2, 0}\\\\\\left(- R_{1, 0} p_{2, 0} + R_{2, 0} p_{1, 0}\\right) o_{0, 0} + \\left(- R_{1, 1} p_{2, 0} + R_{2, 1} p_{1, 0}\\right) o_{1, 0} + \\left(- R_{1, 2} p_{2, 0} + R_{2, 2} p_{1, 0}\\right) o_{2, 0} + R_{0, 0} t_{0, 0} + R_{0, 1} t_{1, 0} + R_{0, 2} t_{2, 0}\\\\\\left(R_{0, 0} p_{2, 0} - R_{2, 0} p_{0, 0}\\right) o_{0, 0} + \\left(R_{0, 1} p_{2, 0} - R_{2, 1} p_{0, 0}\\right) o_{1, 0} + \\left(R_{0, 2} p_{2, 0} - R_{2, 2} p_{0, 0}\\right) o_{2, 0} + R_{1, 0} t_{0, 0} + R_{1, 1} t_{1, 0} + R_{1, 2} t_{2, 0}\\\\\\left(- R_{0, 0} p_{1, 0} + R_{1, 0} p_{0, 0}\\right) o_{0, 0} + \\left(- R_{0, 1} p_{1, 0} + R_{1, 1} p_{0, 0}\\right) o_{1, 0} + \\left(- R_{0, 2} p_{1, 0} + R_{1, 2} p_{0, 0}\\right) o_{2, 0} + R_{2, 0} t_{0, 0} + R_{2, 1} t_{1, 0} + R_{2, 2} t_{2, 0}\\end{array}\\right]$"
      ],
      "text/plain": [
       "Matrix([\n",
       "[                                                                                                                                             R[0, 0]*o[0, 0] + R[0, 1]*o[1, 0] + R[0, 2]*o[2, 0]],\n",
       "[                                                                                                                                             R[1, 0]*o[0, 0] + R[1, 1]*o[1, 0] + R[1, 2]*o[2, 0]],\n",
       "[                                                                                                                                             R[2, 0]*o[0, 0] + R[2, 1]*o[1, 0] + R[2, 2]*o[2, 0]],\n",
       "[(-R[1, 0]*p[2, 0] + R[2, 0]*p[1, 0])*o[0, 0] + (-R[1, 1]*p[2, 0] + R[2, 1]*p[1, 0])*o[1, 0] + (-R[1, 2]*p[2, 0] + R[2, 2]*p[1, 0])*o[2, 0] + R[0, 0]*t[0, 0] + R[0, 1]*t[1, 0] + R[0, 2]*t[2, 0]],\n",
       "[   (R[0, 0]*p[2, 0] - R[2, 0]*p[0, 0])*o[0, 0] + (R[0, 1]*p[2, 0] - R[2, 1]*p[0, 0])*o[1, 0] + (R[0, 2]*p[2, 0] - R[2, 2]*p[0, 0])*o[2, 0] + R[1, 0]*t[0, 0] + R[1, 1]*t[1, 0] + R[1, 2]*t[2, 0]],\n",
       "[(-R[0, 0]*p[1, 0] + R[1, 0]*p[0, 0])*o[0, 0] + (-R[0, 1]*p[1, 0] + R[1, 1]*p[0, 0])*o[1, 0] + (-R[0, 2]*p[1, 0] + R[1, 2]*p[0, 0])*o[2, 0] + R[2, 0]*t[0, 0] + R[2, 1]*t[1, 0] + R[2, 2]*t[2, 0]]])"
      ]
     },
     "execution_count": 29,
     "metadata": {},
     "output_type": "execute_result"
    }
   ],
   "source": [
    "q = adjT*twist\n",
    "# q = adjTinv*twist\n",
    "q"
   ]
  },
  {
   "cell_type": "code",
   "execution_count": 30,
   "metadata": {},
   "outputs": [
    {
     "data": {
      "text/latex": [
       "$\\displaystyle \\left[\\begin{matrix}1.0 & 0 & 0\\\\0 & 6.12323399573677 \\cdot 10^{-17} & 1.0\\\\0 & -1.0 & 6.12323399573677 \\cdot 10^{-17}\\end{matrix}\\right]$"
      ],
      "text/plain": [
       "Matrix([\n",
       "[1.0,                    0,                    0],\n",
       "[  0, 6.12323399573677e-17,                  1.0],\n",
       "[  0,                 -1.0, 6.12323399573677e-17]])"
      ]
     },
     "execution_count": 30,
     "metadata": {},
     "output_type": "execute_result"
    }
   ],
   "source": [
    "Rotations().rotMatrixX(-pi/2)"
   ]
  },
  {
   "cell_type": "code",
   "execution_count": 31,
   "metadata": {},
   "outputs": [
    {
     "data": {
      "text/latex": [
       "$\\displaystyle \\left[\\begin{matrix}0\\\\-2\\\\0\\\\1\\\\0\\\\6\\end{matrix}\\right]$"
      ],
      "text/plain": [
       "Matrix([\n",
       "[ 0],\n",
       "[-2],\n",
       "[ 0],\n",
       "[ 1],\n",
       "[ 0],\n",
       "[ 6]])"
      ]
     },
     "execution_count": 31,
     "metadata": {},
     "output_type": "execute_result"
    }
   ],
   "source": [
    "subs = {\n",
    "    Rsym: sympy.Matrix([\n",
    "        [ 1, 0, 0],\n",
    "        [ 0, 0, 1],\n",
    "        [ 0,-1, 0]]),\n",
    "    psym: sympy.Matrix([[3],[0],[0]]),\n",
    "\n",
    "    # tsym: sympy.Matrix([[1.0],[1.1],[1.2]]),\n",
    "    # osym: sympy.Matrix([[1.3],[1.4],[1.5]])\n",
    "    tsym: sympy.Matrix([[1],[0],[0]]),\n",
    "    osym: sympy.Matrix([[0],[0],[2]])\n",
    "\n",
    "}\n",
    "q = adjTinv*twist\n",
    "q.subs(subs)\n",
    "# adjT.subs(subs)"
   ]
  },
  {
   "cell_type": "code",
   "execution_count": 32,
   "metadata": {},
   "outputs": [
    {
     "data": {
      "text/latex": [
       "$\\displaystyle \\left[\\begin{matrix}0\\\\1.0\\\\0\\\\-1.4142135623731\\\\1.4142135623731\\\\1.4142135623731\\end{matrix}\\right]$"
      ],
      "text/plain": [
       "Matrix([\n",
       "[               0],\n",
       "[             1.0],\n",
       "[               0],\n",
       "[-1.4142135623731],\n",
       "[ 1.4142135623731],\n",
       "[ 1.4142135623731]])"
      ]
     },
     "execution_count": 32,
     "metadata": {},
     "output_type": "execute_result"
    }
   ],
   "source": [
    "\"\"\"\n",
    "        Z\n",
    "        ^ Y\n",
    "    Y   |/\n",
    "    ^   o -- > X\n",
    "    |       \n",
    "    o -- > X\n",
    "   /\n",
    "  Z\n",
    "\"\"\"\n",
    "subs = {\n",
    "    Rsym: sympy.Matrix([\n",
    "        [ 1, 0, 0],\n",
    "        [ 0, 0, 1],\n",
    "        [ 0,-1, 0]]),\n",
    "    psym: sympy.Matrix([[2*sympy.cos(pi/4)],[2*sympy.sin(pi/4)],[0]]),\n",
    "\n",
    "    # tsym: sympy.Matrix([[1.0],[1.1],[1.2]]),\n",
    "    # osym: sympy.Matrix([[1.3],[1.4],[1.5]])\n",
    "    tsym: sympy.Matrix([\n",
    "        # [-2/sympy.sqrt(2)],\n",
    "        # [2/sympy.sqrt(2)],\n",
    "        # [0]\n",
    "        [-2/sympy.sqrt(2)],\n",
    "        [0],\n",
    "        [2/sympy.sqrt(2)]\n",
    "    ]),\n",
    "    osym: sympy.Matrix([[0],[0],[1]])\n",
    "\n",
    "}\n",
    "q = adjT*twist\n",
    "q.subs(subs).evalf()\n",
    "# adjT.subs(subs)\n",
    "# twist.subs(subs)"
   ]
  },
  {
   "cell_type": "code",
   "execution_count": 33,
   "metadata": {},
   "outputs": [
    {
     "data": {
      "text/latex": [
       "$\\displaystyle \\left[\\begin{matrix}0\\\\2.0\\\\0\\\\0\\\\0\\\\-1.0\\end{matrix}\\right]$"
      ],
      "text/plain": [
       "Matrix([\n",
       "[   0],\n",
       "[ 2.0],\n",
       "[   0],\n",
       "[   0],\n",
       "[   0],\n",
       "[-1.0]])"
      ]
     },
     "execution_count": 33,
     "metadata": {},
     "output_type": "execute_result"
    }
   ],
   "source": [
    "\"\"\"\n",
    "    Z                 Y\n",
    "    ^ Y               ^\n",
    "    |/                |\n",
    "    o -- > X    =>    o -- > X\n",
    "                     /\n",
    "                    Z\n",
    "\"\"\"\n",
    "subs = {\n",
    "    Rsym: sympy.Matrix([\n",
    "        [ 1, 0, 0],\n",
    "        [ 0, 0,-1],\n",
    "        [ 0, 1, 0]]),\n",
    "    psym: sympy.Matrix([[0.5],[0],[0]]),\n",
    "\n",
    "    # tsym: sympy.Matrix([[1.0],[1.1],[1.2]]),\n",
    "    # osym: sympy.Matrix([[1.3],[1.4],[1.5]])\n",
    "    tsym: sympy.Matrix([\n",
    "        [0],\n",
    "        [0],\n",
    "        [0]\n",
    "    ]),\n",
    "    osym: sympy.Matrix([[0],[0],[2]])\n",
    "}\n",
    "q = adjTinv*twist\n",
    "q.subs(subs).evalf()\n",
    "# adjT.subs(subs)\n",
    "# twist.subs(subs)"
   ]
  },
  {
   "cell_type": "code",
   "execution_count": 34,
   "metadata": {},
   "outputs": [
    {
     "data": {
      "text/latex": [
       "$\\displaystyle \\left[\\begin{matrix}0\\\\-2.0\\\\0\\\\0\\\\0\\\\-1.0\\end{matrix}\\right]$"
      ],
      "text/plain": [
       "Matrix([\n",
       "[   0],\n",
       "[-2.0],\n",
       "[   0],\n",
       "[   0],\n",
       "[   0],\n",
       "[-1.0]])"
      ]
     },
     "execution_count": 34,
     "metadata": {},
     "output_type": "execute_result"
    }
   ],
   "source": [
    "o_new = Rsym*osym\n",
    "t_new = Rsym*tsym + skewP*Rsym*osym\n",
    "twist_new = sympy.Matrix(sympy.BlockMatrix([\n",
    "    [o_new],\n",
    "    [t_new]\n",
    "]))\n",
    "\n",
    "twist_new.subs(subs).evalf()"
   ]
  },
  {
   "attachments": {},
   "cell_type": "markdown",
   "metadata": {},
   "source": [
    "## Matrix representation of twist"
   ]
  },
  {
   "cell_type": "code",
   "execution_count": 35,
   "metadata": {},
   "outputs": [
    {
     "data": {
      "text/latex": [
       "$\\displaystyle \\left[\\begin{array}{c}o_{0, 0}\\\\o_{1, 0}\\\\o_{2, 0}\\\\t_{0, 0}\\\\t_{1, 0}\\\\t_{2, 0}\\end{array}\\right]$"
      ],
      "text/plain": [
       "Matrix([\n",
       "[o[0, 0]],\n",
       "[o[1, 0]],\n",
       "[o[2, 0]],\n",
       "[t[0, 0]],\n",
       "[t[1, 0]],\n",
       "[t[2, 0]]])"
      ]
     },
     "execution_count": 35,
     "metadata": {},
     "output_type": "execute_result"
    }
   ],
   "source": [
    "tsym = sympy.MatrixSymbol('t',3,1)\n",
    "osym = sympy.MatrixSymbol('o',3,1)\n",
    "lin = sympy.Matrix(tsym)\n",
    "ang = sympy.Matrix(osym)\n",
    "twist = sympy.Matrix(sympy.BlockMatrix([\n",
    "    [ang],\n",
    "    [lin]\n",
    "]))\n",
    "twist"
   ]
  },
  {
   "cell_type": "code",
   "execution_count": 36,
   "metadata": {},
   "outputs": [
    {
     "data": {
      "text/latex": [
       "$\\displaystyle \\left[\\begin{array}{cccc}0 & - o_{2, 0} & o_{1, 0} & t_{0, 0}\\\\o_{2, 0} & 0 & - o_{0, 0} & t_{1, 0}\\\\- o_{1, 0} & o_{0, 0} & 0 & t_{2, 0}\\\\0 & 0 & 0 & 0\\end{array}\\right]$"
      ],
      "text/plain": [
       "Matrix([\n",
       "[       0, -o[2, 0],  o[1, 0], t[0, 0]],\n",
       "[ o[2, 0],        0, -o[0, 0], t[1, 0]],\n",
       "[-o[1, 0],  o[0, 0],        0, t[2, 0]],\n",
       "[       0,        0,        0,       0]])"
      ]
     },
     "execution_count": 36,
     "metadata": {},
     "output_type": "execute_result"
    }
   ],
   "source": [
    "mTwist = sympy.Matrix(sympy.BlockMatrix([\n",
    "        [skewP.subs(psym,osym), lin             ],\n",
    "        [sympy.zeros(1,3)     , sympy.zeros(1)  ]\n",
    "    ]\n",
    "))\n",
    "mTwist"
   ]
  },
  {
   "cell_type": "code",
   "execution_count": 37,
   "metadata": {},
   "outputs": [
    {
     "data": {
      "text/latex": [
       "$\\displaystyle \\left[\\begin{array}{cccc}R_{0, 0} & R_{1, 0} & R_{2, 0} & - R_{0, 0} p_{0, 0} - R_{1, 0} p_{1, 0} - R_{2, 0} p_{2, 0}\\\\R_{0, 1} & R_{1, 1} & R_{2, 1} & - R_{0, 1} p_{0, 0} - R_{1, 1} p_{1, 0} - R_{2, 1} p_{2, 0}\\\\R_{0, 2} & R_{1, 2} & R_{2, 2} & - R_{0, 2} p_{0, 0} - R_{1, 2} p_{1, 0} - R_{2, 2} p_{2, 0}\\\\0 & 0 & 0 & 1\\end{array}\\right]$"
      ],
      "text/plain": [
       "Matrix([\n",
       "[R[0, 0], R[1, 0], R[2, 0], -R[0, 0]*p[0, 0] - R[1, 0]*p[1, 0] - R[2, 0]*p[2, 0]],\n",
       "[R[0, 1], R[1, 1], R[2, 1], -R[0, 1]*p[0, 0] - R[1, 1]*p[1, 0] - R[2, 1]*p[2, 0]],\n",
       "[R[0, 2], R[1, 2], R[2, 2], -R[0, 2]*p[0, 0] - R[1, 2]*p[1, 0] - R[2, 2]*p[2, 0]],\n",
       "[      0,       0,       0,                                                    1]])"
      ]
     },
     "execution_count": 37,
     "metadata": {},
     "output_type": "execute_result"
    }
   ],
   "source": [
    "\n",
    "hmt = sympy.Matrix(sympy.BlockMatrix([\n",
    "        [R, p],\n",
    "        [sympy.zeros(1,3), sympy.eye(1)]\n",
    "    ]\n",
    "))\n",
    "hmtInv = sympy.Matrix(sympy.BlockMatrix([\n",
    "        [R.T, -R.T*p],\n",
    "        [sympy.zeros(1,3), sympy.eye(1)]\n",
    "    ]\n",
    "))\n",
    "hmt\n",
    "hmtInv"
   ]
  },
  {
   "cell_type": "code",
   "execution_count": 38,
   "metadata": {},
   "outputs": [
    {
     "data": {
      "text/latex": [
       "$\\displaystyle \\left[\\begin{array}{cccc}\\left(R_{0, 0} o_{1, 0} - R_{0, 1} o_{0, 0}\\right) R_{0, 2} + \\left(- R_{0, 0} o_{2, 0} + R_{0, 2} o_{0, 0}\\right) R_{0, 1} + \\left(R_{0, 1} o_{2, 0} - R_{0, 2} o_{1, 0}\\right) R_{0, 0} & \\left(R_{0, 0} o_{1, 0} - R_{0, 1} o_{0, 0}\\right) R_{1, 2} + \\left(- R_{0, 0} o_{2, 0} + R_{0, 2} o_{0, 0}\\right) R_{1, 1} + \\left(R_{0, 1} o_{2, 0} - R_{0, 2} o_{1, 0}\\right) R_{1, 0} & \\left(R_{0, 0} o_{1, 0} - R_{0, 1} o_{0, 0}\\right) R_{2, 2} + \\left(- R_{0, 0} o_{2, 0} + R_{0, 2} o_{0, 0}\\right) R_{2, 1} + \\left(R_{0, 1} o_{2, 0} - R_{0, 2} o_{1, 0}\\right) R_{2, 0} & \\left(R_{0, 0} o_{1, 0} - R_{0, 1} o_{0, 0}\\right) \\left(- R_{0, 2} p_{0, 0} - R_{1, 2} p_{1, 0} - R_{2, 2} p_{2, 0}\\right) + \\left(- R_{0, 0} o_{2, 0} + R_{0, 2} o_{0, 0}\\right) \\left(- R_{0, 1} p_{0, 0} - R_{1, 1} p_{1, 0} - R_{2, 1} p_{2, 0}\\right) + \\left(R_{0, 1} o_{2, 0} - R_{0, 2} o_{1, 0}\\right) \\left(- R_{0, 0} p_{0, 0} - R_{1, 0} p_{1, 0} - R_{2, 0} p_{2, 0}\\right) + R_{0, 0} t_{0, 0} + R_{0, 1} t_{1, 0} + R_{0, 2} t_{2, 0}\\\\\\left(R_{1, 0} o_{1, 0} - R_{1, 1} o_{0, 0}\\right) R_{0, 2} + \\left(- R_{1, 0} o_{2, 0} + R_{1, 2} o_{0, 0}\\right) R_{0, 1} + \\left(R_{1, 1} o_{2, 0} - R_{1, 2} o_{1, 0}\\right) R_{0, 0} & \\left(R_{1, 0} o_{1, 0} - R_{1, 1} o_{0, 0}\\right) R_{1, 2} + \\left(- R_{1, 0} o_{2, 0} + R_{1, 2} o_{0, 0}\\right) R_{1, 1} + \\left(R_{1, 1} o_{2, 0} - R_{1, 2} o_{1, 0}\\right) R_{1, 0} & \\left(R_{1, 0} o_{1, 0} - R_{1, 1} o_{0, 0}\\right) R_{2, 2} + \\left(- R_{1, 0} o_{2, 0} + R_{1, 2} o_{0, 0}\\right) R_{2, 1} + \\left(R_{1, 1} o_{2, 0} - R_{1, 2} o_{1, 0}\\right) R_{2, 0} & \\left(R_{1, 0} o_{1, 0} - R_{1, 1} o_{0, 0}\\right) \\left(- R_{0, 2} p_{0, 0} - R_{1, 2} p_{1, 0} - R_{2, 2} p_{2, 0}\\right) + \\left(- R_{1, 0} o_{2, 0} + R_{1, 2} o_{0, 0}\\right) \\left(- R_{0, 1} p_{0, 0} - R_{1, 1} p_{1, 0} - R_{2, 1} p_{2, 0}\\right) + \\left(R_{1, 1} o_{2, 0} - R_{1, 2} o_{1, 0}\\right) \\left(- R_{0, 0} p_{0, 0} - R_{1, 0} p_{1, 0} - R_{2, 0} p_{2, 0}\\right) + R_{1, 0} t_{0, 0} + R_{1, 1} t_{1, 0} + R_{1, 2} t_{2, 0}\\\\\\left(R_{2, 0} o_{1, 0} - R_{2, 1} o_{0, 0}\\right) R_{0, 2} + \\left(- R_{2, 0} o_{2, 0} + R_{2, 2} o_{0, 0}\\right) R_{0, 1} + \\left(R_{2, 1} o_{2, 0} - R_{2, 2} o_{1, 0}\\right) R_{0, 0} & \\left(R_{2, 0} o_{1, 0} - R_{2, 1} o_{0, 0}\\right) R_{1, 2} + \\left(- R_{2, 0} o_{2, 0} + R_{2, 2} o_{0, 0}\\right) R_{1, 1} + \\left(R_{2, 1} o_{2, 0} - R_{2, 2} o_{1, 0}\\right) R_{1, 0} & \\left(R_{2, 0} o_{1, 0} - R_{2, 1} o_{0, 0}\\right) R_{2, 2} + \\left(- R_{2, 0} o_{2, 0} + R_{2, 2} o_{0, 0}\\right) R_{2, 1} + \\left(R_{2, 1} o_{2, 0} - R_{2, 2} o_{1, 0}\\right) R_{2, 0} & \\left(R_{2, 0} o_{1, 0} - R_{2, 1} o_{0, 0}\\right) \\left(- R_{0, 2} p_{0, 0} - R_{1, 2} p_{1, 0} - R_{2, 2} p_{2, 0}\\right) + \\left(- R_{2, 0} o_{2, 0} + R_{2, 2} o_{0, 0}\\right) \\left(- R_{0, 1} p_{0, 0} - R_{1, 1} p_{1, 0} - R_{2, 1} p_{2, 0}\\right) + \\left(R_{2, 1} o_{2, 0} - R_{2, 2} o_{1, 0}\\right) \\left(- R_{0, 0} p_{0, 0} - R_{1, 0} p_{1, 0} - R_{2, 0} p_{2, 0}\\right) + R_{2, 0} t_{0, 0} + R_{2, 1} t_{1, 0} + R_{2, 2} t_{2, 0}\\\\0 & 0 & 0 & 0\\end{array}\\right]$"
      ],
      "text/plain": [
       "Matrix([\n",
       "[(R[0, 0]*o[1, 0] - R[0, 1]*o[0, 0])*R[0, 2] + (-R[0, 0]*o[2, 0] + R[0, 2]*o[0, 0])*R[0, 1] + (R[0, 1]*o[2, 0] - R[0, 2]*o[1, 0])*R[0, 0], (R[0, 0]*o[1, 0] - R[0, 1]*o[0, 0])*R[1, 2] + (-R[0, 0]*o[2, 0] + R[0, 2]*o[0, 0])*R[1, 1] + (R[0, 1]*o[2, 0] - R[0, 2]*o[1, 0])*R[1, 0], (R[0, 0]*o[1, 0] - R[0, 1]*o[0, 0])*R[2, 2] + (-R[0, 0]*o[2, 0] + R[0, 2]*o[0, 0])*R[2, 1] + (R[0, 1]*o[2, 0] - R[0, 2]*o[1, 0])*R[2, 0], (R[0, 0]*o[1, 0] - R[0, 1]*o[0, 0])*(-R[0, 2]*p[0, 0] - R[1, 2]*p[1, 0] - R[2, 2]*p[2, 0]) + (-R[0, 0]*o[2, 0] + R[0, 2]*o[0, 0])*(-R[0, 1]*p[0, 0] - R[1, 1]*p[1, 0] - R[2, 1]*p[2, 0]) + (R[0, 1]*o[2, 0] - R[0, 2]*o[1, 0])*(-R[0, 0]*p[0, 0] - R[1, 0]*p[1, 0] - R[2, 0]*p[2, 0]) + R[0, 0]*t[0, 0] + R[0, 1]*t[1, 0] + R[0, 2]*t[2, 0]],\n",
       "[(R[1, 0]*o[1, 0] - R[1, 1]*o[0, 0])*R[0, 2] + (-R[1, 0]*o[2, 0] + R[1, 2]*o[0, 0])*R[0, 1] + (R[1, 1]*o[2, 0] - R[1, 2]*o[1, 0])*R[0, 0], (R[1, 0]*o[1, 0] - R[1, 1]*o[0, 0])*R[1, 2] + (-R[1, 0]*o[2, 0] + R[1, 2]*o[0, 0])*R[1, 1] + (R[1, 1]*o[2, 0] - R[1, 2]*o[1, 0])*R[1, 0], (R[1, 0]*o[1, 0] - R[1, 1]*o[0, 0])*R[2, 2] + (-R[1, 0]*o[2, 0] + R[1, 2]*o[0, 0])*R[2, 1] + (R[1, 1]*o[2, 0] - R[1, 2]*o[1, 0])*R[2, 0], (R[1, 0]*o[1, 0] - R[1, 1]*o[0, 0])*(-R[0, 2]*p[0, 0] - R[1, 2]*p[1, 0] - R[2, 2]*p[2, 0]) + (-R[1, 0]*o[2, 0] + R[1, 2]*o[0, 0])*(-R[0, 1]*p[0, 0] - R[1, 1]*p[1, 0] - R[2, 1]*p[2, 0]) + (R[1, 1]*o[2, 0] - R[1, 2]*o[1, 0])*(-R[0, 0]*p[0, 0] - R[1, 0]*p[1, 0] - R[2, 0]*p[2, 0]) + R[1, 0]*t[0, 0] + R[1, 1]*t[1, 0] + R[1, 2]*t[2, 0]],\n",
       "[(R[2, 0]*o[1, 0] - R[2, 1]*o[0, 0])*R[0, 2] + (-R[2, 0]*o[2, 0] + R[2, 2]*o[0, 0])*R[0, 1] + (R[2, 1]*o[2, 0] - R[2, 2]*o[1, 0])*R[0, 0], (R[2, 0]*o[1, 0] - R[2, 1]*o[0, 0])*R[1, 2] + (-R[2, 0]*o[2, 0] + R[2, 2]*o[0, 0])*R[1, 1] + (R[2, 1]*o[2, 0] - R[2, 2]*o[1, 0])*R[1, 0], (R[2, 0]*o[1, 0] - R[2, 1]*o[0, 0])*R[2, 2] + (-R[2, 0]*o[2, 0] + R[2, 2]*o[0, 0])*R[2, 1] + (R[2, 1]*o[2, 0] - R[2, 2]*o[1, 0])*R[2, 0], (R[2, 0]*o[1, 0] - R[2, 1]*o[0, 0])*(-R[0, 2]*p[0, 0] - R[1, 2]*p[1, 0] - R[2, 2]*p[2, 0]) + (-R[2, 0]*o[2, 0] + R[2, 2]*o[0, 0])*(-R[0, 1]*p[0, 0] - R[1, 1]*p[1, 0] - R[2, 1]*p[2, 0]) + (R[2, 1]*o[2, 0] - R[2, 2]*o[1, 0])*(-R[0, 0]*p[0, 0] - R[1, 0]*p[1, 0] - R[2, 0]*p[2, 0]) + R[2, 0]*t[0, 0] + R[2, 1]*t[1, 0] + R[2, 2]*t[2, 0]],\n",
       "[                                                                                                                                       0,                                                                                                                                        0,                                                                                                                                        0,                                                                                                                                                                                                                                                                                                                                           0]])"
      ]
     },
     "execution_count": 38,
     "metadata": {},
     "output_type": "execute_result"
    }
   ],
   "source": [
    "qhmt = hmt*mTwist*hmtInv\n",
    "# qhmt = hmtInv*mTwist*hmt\n",
    "qhmt"
   ]
  },
  {
   "cell_type": "code",
   "execution_count": 39,
   "metadata": {},
   "outputs": [
    {
     "data": {
      "text/latex": [
       "$\\displaystyle \\left[\\begin{matrix}0 & 0 & -2 & 0\\\\0 & 0 & 0 & 0\\\\2 & 0 & 0 & -6\\\\0 & 0 & 0 & 0\\end{matrix}\\right]$"
      ],
      "text/plain": [
       "Matrix([\n",
       "[0, 0, -2,  0],\n",
       "[0, 0,  0,  0],\n",
       "[2, 0,  0, -6],\n",
       "[0, 0,  0,  0]])"
      ]
     },
     "execution_count": 39,
     "metadata": {},
     "output_type": "execute_result"
    }
   ],
   "source": [
    "mSubs = {\n",
    "    Rsym: sympy.Matrix([\n",
    "        [ 0,-1, 0],\n",
    "        [ 0, 0,-1],\n",
    "        [ 1, 0, 0]]),\n",
    "    psym: sympy.Matrix([[3],[0],[0]]),\n",
    "\n",
    "    tsym: sympy.Matrix([[0],[0],[0]]),\n",
    "    osym: sympy.Matrix([[0],[0],[2]])\n",
    "}\n",
    "qhmt.subs(mSubs)"
   ]
  },
  {
   "attachments": {},
   "cell_type": "markdown",
   "metadata": {},
   "source": [
    "# Pruebas"
   ]
  }
 ],
 "metadata": {
  "kernelspec": {
   "display_name": "Python 3.7.4 64-bit",
   "language": "python",
   "name": "python3"
  },
  "language_info": {
   "codemirror_mode": {
    "name": "ipython",
    "version": 3
   },
   "file_extension": ".py",
   "mimetype": "text/x-python",
   "name": "python",
   "nbconvert_exporter": "python",
   "pygments_lexer": "ipython3",
   "version": "3.11.4"
  },
  "orig_nbformat": 4,
  "vscode": {
   "interpreter": {
    "hash": "1fe14b4add03ae38573eb06091088804124a960722df5dd1669e7e782fa9e5a9"
   }
  }
 },
 "nbformat": 4,
 "nbformat_minor": 2
}
