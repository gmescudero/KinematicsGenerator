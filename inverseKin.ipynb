{
 "cells": [
  {
   "cell_type": "code",
   "execution_count": 199,
   "metadata": {},
   "outputs": [],
   "source": [
    "import sympy\n",
    "from sympy.abc import x,y,z\n",
    "from cmath import pi"
   ]
  },
  {
   "cell_type": "code",
   "execution_count": 200,
   "metadata": {},
   "outputs": [
    {
     "data": {
      "text/latex": [
       "$\\displaystyle \\left[\\begin{matrix}6.12323399573677 \\cdot 10^{-17} & -1.0 & 0\\\\1.0 & 6.12323399573677 \\cdot 10^{-17} & 0\\\\0 & 0 & 1\\end{matrix}\\right]$"
      ],
      "text/plain": [
       "Matrix([\n",
       "[6.12323399573677e-17,                 -1.0, 0],\n",
       "[                 1.0, 6.12323399573677e-17, 0],\n",
       "[                   0,                    0, 1]])"
      ]
     },
     "execution_count": 200,
     "metadata": {},
     "output_type": "execute_result"
    }
   ],
   "source": [
    "from ast import Return\n",
    "\n",
    "\n",
    "class Rotations:\n",
    "    def __init__(self):\n",
    "        self.alfa  = sympy.Symbol('alfa')\n",
    "        self.beta  = sympy.Symbol('beta')\n",
    "        self.gamma = sympy.Symbol('gamma')\n",
    "        self.theta = sympy.Symbol('theta')\n",
    "        self.zRotM = sympy.Matrix([\n",
    "            [sympy.cos(self.theta),-sympy.sin(self.theta), 0],\n",
    "            [sympy.sin(self.theta), sympy.cos(self.theta), 0],\n",
    "            [0                    , 0                    , 1]\n",
    "        ])\n",
    "        self.yRotM = sympy.Matrix([\n",
    "            [sympy.cos(self.theta), 0,-sympy.sin(self.theta)],\n",
    "            [0                    , 1, 0                    ],\n",
    "            [sympy.sin(self.theta), 0, sympy.cos(self.theta)]\n",
    "        ])\n",
    "        self.xRotM = sympy.Matrix([\n",
    "            [1, 0                    , 0                    ],\n",
    "            [0, sympy.cos(self.theta),-sympy.sin(self.theta)],\n",
    "            [0, sympy.sin(self.theta), sympy.cos(self.theta)]\n",
    "        ])\n",
    "\n",
    "    def zyxToRotM(self,z,y,x):\n",
    "        return self.zRotM.subs(self.theta,z) * self.yRotM.subs(self.theta,y) * self.xRotM.subs(self.theta,x)\n",
    "\n",
    "Rotations().zyxToRotM(pi/2,0,0)"
   ]
  },
  {
   "cell_type": "code",
   "execution_count": 201,
   "metadata": {},
   "outputs": [],
   "source": [
    "class TwoLinkPlanar:\n",
    "\n",
    "    def __init__(self, a1=None, a2=None) -> None:\n",
    "        self.a1 = sympy.Symbol('a_1') if a1 is None else a1\n",
    "        self.a2 = sympy.Symbol('a_2') if a2 is None else a2\n",
    "        self.q1 = sympy.Symbol('q_1')\n",
    "        self.q2 = sympy.Symbol('q_2')\n",
    "        self.x  = x\n",
    "        self.y  = y\n",
    "        self.theta = sympy.Symbol('theta')\n",
    "        self.direct  = lambda q1,q2: None\n",
    "        self.inverse = lambda x,y: None\n",
    "        self._resetSymbolsAndLambdas()\n",
    "\n",
    "    def directKinSymbols(self):\n",
    "        x_dk     = self.a1*sympy.cos(self.q1) + self.a2*sympy.cos(self.q1+self.q2)\n",
    "        y_dk     = self.a1*sympy.sin(self.q1) + self.a2*sympy.sin(self.q1+self.q2)\n",
    "        theta_dk = self.q1 + self.q2\n",
    "        return sympy.Matrix((x_dk,y_dk,theta_dk))\n",
    "\n",
    "    def inverseKinSymbols(self):\n",
    "        q2_ik = sympy.acos((self.x**2 + self.y**2 - self.a1**2 - self.a2**2)/(2*self.a1*self.a2))\n",
    "        q1_ik = sympy.atan2(self.y,self.x) - sympy.atan2(self.a2*sympy.sin(q2_ik), self.a1 + self.a2*sympy.cos(q2_ik))\n",
    "        return sympy.Matrix((q1_ik,q2_ik))\n",
    "\n",
    "    def setLengths(self,a1,a2):\n",
    "        self.a1 = a1\n",
    "        self.a2 = a2\n",
    "        self._resetSymbolsAndLambdas()\n",
    "    \n",
    "    def setJointCoordinates(self,joint1,joint2):\n",
    "        self.q1 = joint1\n",
    "        self.q2 = joint2\n",
    "        self._resetSymbolsAndLambdas()\n",
    "\n",
    "    def setCartesianCoordinates(self,coord1,coord2):\n",
    "        self.x = coord1\n",
    "        self.y = coord2\n",
    "        self._resetSymbolsAndLambdas()\n",
    "    \n",
    "    def _resetSymbolsAndLambdas(self):\n",
    "        # Compute simbolic kinematics\n",
    "        self.directSym  = self.directKinSymbols()\n",
    "        self.inverseSym = self.inverseKinSymbols()\n",
    "        # Compute lambda kinematic functions \n",
    "        try:\n",
    "            self.direct  = sympy.lambdify((self.q1,self.q2),self.directSym)\n",
    "            self.inverse = sympy.lambdify((self.x,self.y),self.inverseSym)\n",
    "        except SyntaxError:\n",
    "            self.direct  = lambda q1,q2: None\n",
    "            self.inverse = lambda x,y: None"
   ]
  },
  {
   "cell_type": "code",
   "execution_count": 202,
   "metadata": {},
   "outputs": [
    {
     "data": {
      "text/latex": [
       "$\\displaystyle \\left[\\begin{matrix}2 \\cos{\\left(q_{1} \\right)} + 3 \\cos{\\left(q_{1} + q_{2} \\right)}\\\\2 \\sin{\\left(q_{1} \\right)} + 3 \\sin{\\left(q_{1} + q_{2} \\right)}\\\\q_{1} + q_{2}\\end{matrix}\\right]$"
      ],
      "text/plain": [
       "Matrix([\n",
       "[2*cos(q_1) + 3*cos(q_1 + q_2)],\n",
       "[2*sin(q_1) + 3*sin(q_1 + q_2)],\n",
       "[                    q_1 + q_2]])"
      ]
     },
     "execution_count": 202,
     "metadata": {},
     "output_type": "execute_result"
    }
   ],
   "source": [
    "twp = TwoLinkPlanar(2,3)\n",
    "twp.directKinSymbols()"
   ]
  },
  {
   "cell_type": "code",
   "execution_count": 203,
   "metadata": {},
   "outputs": [
    {
     "data": {
      "text/plain": [
       "array([[-3.        ],\n",
       "       [ 2.        ],\n",
       "       [ 3.14159265]])"
      ]
     },
     "execution_count": 203,
     "metadata": {},
     "output_type": "execute_result"
    }
   ],
   "source": [
    "twp.direct(pi/2,pi/2)"
   ]
  },
  {
   "cell_type": "code",
   "execution_count": 204,
   "metadata": {},
   "outputs": [
    {
     "data": {
      "text/plain": [
       "array([[0.46364761],\n",
       "       [2.30052398]])"
      ]
     },
     "execution_count": 204,
     "metadata": {},
     "output_type": "execute_result"
    }
   ],
   "source": [
    "twp.inverse(-1,2)"
   ]
  },
  {
   "cell_type": "code",
   "execution_count": 217,
   "metadata": {},
   "outputs": [
    {
     "data": {
      "text/latex": [
       "$\\displaystyle \\left[\\begin{matrix}\\cos{\\left(q_{1} \\right)} \\cos{\\left(q_{2} + q_{3} \\right)} & - \\sin{\\left(q_{1} \\right)} & - \\sin{\\left(q_{2} + q_{3} \\right)} \\cos{\\left(q_{1} \\right)} & \\left(4 \\cos{\\left(q_{2} \\right)} + 3 \\cos{\\left(q_{2} + q_{3} \\right)}\\right) \\cos{\\left(q_{1} \\right)}\\\\\\sin{\\left(q_{1} \\right)} \\cos{\\left(q_{2} + q_{3} \\right)} & \\cos{\\left(q_{1} \\right)} & - \\sin{\\left(q_{1} \\right)} \\sin{\\left(q_{2} + q_{3} \\right)} & \\left(4 \\cos{\\left(q_{2} \\right)} + 3 \\cos{\\left(q_{2} + q_{3} \\right)}\\right) \\sin{\\left(q_{1} \\right)}\\\\\\sin{\\left(q_{2} + q_{3} \\right)} & 0 & \\cos{\\left(q_{2} + q_{3} \\right)} & 4 \\sin{\\left(q_{2} \\right)} + 3 \\sin{\\left(q_{2} + q_{3} \\right)}\\\\0 & 0 & 0 & 1\\end{matrix}\\right]$"
      ],
      "text/plain": [
       "Matrix([\n",
       "[cos(q_1)*cos(q_2 + q_3), -sin(q_1), -sin(q_2 + q_3)*cos(q_1), (4*cos(q_2) + 3*cos(q_2 + q_3))*cos(q_1)],\n",
       "[sin(q_1)*cos(q_2 + q_3),  cos(q_1), -sin(q_1)*sin(q_2 + q_3), (4*cos(q_2) + 3*cos(q_2 + q_3))*sin(q_1)],\n",
       "[         sin(q_2 + q_3),         0,           cos(q_2 + q_3),            4*sin(q_2) + 3*sin(q_2 + q_3)],\n",
       "[                      0,         0,                        0,                                        1]])"
      ]
     },
     "execution_count": 217,
     "metadata": {},
     "output_type": "execute_result"
    }
   ],
   "source": [
    "class TwoLinkAndBase():\n",
    "\n",
    "    def __init__(self, a1=None, a2=None) -> None:\n",
    "        self.a1 = sympy.Symbol('a_1') if a1 is None else a1\n",
    "        self.a2 = sympy.Symbol('a_2') if a2 is None else a2\n",
    "        self.q1 = sympy.Symbol('q_1')\n",
    "        self.q2 = sympy.Symbol('q_2')\n",
    "        self.q3 = sympy.Symbol('q_3')\n",
    "        self.x = x\n",
    "        self.y = y\n",
    "        self.z = z\n",
    "        self._r = sympy.sqrt(self.x**2 + self.y**2)\n",
    "        self.twoLink = TwoLinkPlanar(a1,a2)\n",
    "        self.twoLink.setCartesianCoordinates(self._r, self.z)\n",
    "        self.twoLink.setJointCoordinates(self.q2,self.q3)\n",
    "        # Initialize symbolic kinematics\n",
    "        self.directSym  = self.directKinSymbols()\n",
    "        self.inverseSym = self.inverseKinSymbols()   \n",
    "        # Initialize lambdas\n",
    "        self.direct  = lambda q1,q2,q3: None\n",
    "        self.inverse = lambda x, y, z : None\n",
    "        # Cmpute symbolic kinematics and lambda functions\n",
    "        self._resetSymbolsAndLambdas()\n",
    "\n",
    "    def directKinSymbols(self):\n",
    "        r_dk,z_dk,pitch_dk = self.twoLink.directKinSymbols()\n",
    "        x_dk = r_dk*sympy.cos(self.q1)\n",
    "        y_dk = r_dk*sympy.sin(self.q1)\n",
    "        yaw_dk = self.q1\n",
    "        roll_dk = 0\n",
    "        return sympy.Matrix((x_dk,y_dk,z_dk,yaw_dk,pitch_dk,roll_dk))\n",
    "\n",
    "    def directKinHomoTSymbols(self):\n",
    "        x_dk,y_dk,z_dk,yaw_dk,pitch_dk,roll_dk = self.directKinSymbols()\n",
    "        rotM = Rotations().zyxToRotM(yaw_dk,pitch_dk,roll_dk)\n",
    "        translation = sympy.Matrix((x_dk,y_dk,z_dk))\n",
    "        return sympy.Matrix((\n",
    "            (rotM            , translation    ),\n",
    "            (sympy.zeros(1,3), sympy.ones(1,1))\n",
    "        ))\n",
    "\n",
    "    def inverseKinSymbols(self):\n",
    "        q1_ik = sympy.atan2(self.y,self.x)\n",
    "        q2_ik,q3_ik = self.twoLink.inverseKinSymbols()\n",
    "        return sympy.Matrix((q1_ik,q2_ik,q3_ik))\n",
    "        \n",
    "    def _resetSymbolsAndLambdas(self):\n",
    "        # Compute simbolic kinematics\n",
    "        self.directSym  = self.directKinSymbols()\n",
    "        self.inverseSym = self.inverseKinSymbols()\n",
    "        # Compute lambda kinematic functions \n",
    "        try:\n",
    "            self.direct  = sympy.lambdify((self.q1,self.q2,self.q3),self.directSym)\n",
    "            self.inverse = sympy.lambdify((self.x, self.y, self.z), self.inverseSym)\n",
    "        except SyntaxError:\n",
    "            self.direct  = lambda q1,q2,q3: None\n",
    "            self.inverse = lambda x, y, z : None\n",
    "\n",
    "tlb = TwoLinkAndBase(4,3)\n",
    "tlb.directKinHomoTSymbols()"
   ]
  },
  {
   "cell_type": "code",
   "execution_count": 211,
   "metadata": {},
   "outputs": [
    {
     "data": {
      "text/latex": [
       "$\\displaystyle \\left[\\begin{matrix}\\operatorname{atan_{2}}{\\left(y,x \\right)}\\\\\\operatorname{atan_{2}}{\\left(z,\\sqrt{x^{2} + y^{2}} \\right)} - \\operatorname{atan_{2}}{\\left(3 \\sqrt{1 - \\left(\\frac{x^{2}}{24} + \\frac{y^{2}}{24} + \\frac{z^{2}}{24} - \\frac{25}{24}\\right)^{2}},\\frac{x^{2}}{8} + \\frac{y^{2}}{8} + \\frac{z^{2}}{8} + \\frac{7}{8} \\right)}\\\\\\operatorname{acos}{\\left(\\frac{x^{2}}{24} + \\frac{y^{2}}{24} + \\frac{z^{2}}{24} - \\frac{25}{24} \\right)}\\end{matrix}\\right]$"
      ],
      "text/plain": [
       "Matrix([\n",
       "[                                                                                                              atan2(y, x)],\n",
       "[atan2(z, sqrt(x**2 + y**2)) - atan2(3*sqrt(1 - (x**2/24 + y**2/24 + z**2/24 - 25/24)**2), x**2/8 + y**2/8 + z**2/8 + 7/8)],\n",
       "[                                                                                acos(x**2/24 + y**2/24 + z**2/24 - 25/24)]])"
      ]
     },
     "execution_count": 211,
     "metadata": {},
     "output_type": "execute_result"
    }
   ],
   "source": [
    "tlb.inverseKinSymbols()"
   ]
  },
  {
   "cell_type": "code",
   "execution_count": 212,
   "metadata": {},
   "outputs": [
    {
     "data": {
      "text/plain": [
       "array([[2.82842712],\n",
       "       [0.        ],\n",
       "       [5.82842712],\n",
       "       [0.        ],\n",
       "       [1.57079633],\n",
       "       [0.        ]])"
      ]
     },
     "execution_count": 212,
     "metadata": {},
     "output_type": "execute_result"
    }
   ],
   "source": [
    "tlb.direct(0,pi/4,pi/4)"
   ]
  },
  {
   "cell_type": "code",
   "execution_count": 213,
   "metadata": {},
   "outputs": [
    {
     "data": {
      "text/plain": [
       "array([[0.        ],\n",
       "       [0.25338261],\n",
       "       [1.27482752]])"
      ]
     },
     "execution_count": 213,
     "metadata": {},
     "output_type": "execute_result"
    }
   ],
   "source": [
    "tlb.inverse(4,0,4)"
   ]
  }
 ],
 "metadata": {
  "kernelspec": {
   "display_name": "Python 3.7.4 64-bit",
   "language": "python",
   "name": "python3"
  },
  "language_info": {
   "codemirror_mode": {
    "name": "ipython",
    "version": 3
   },
   "file_extension": ".py",
   "mimetype": "text/x-python",
   "name": "python",
   "nbconvert_exporter": "python",
   "pygments_lexer": "ipython3",
   "version": "3.7.4"
  },
  "orig_nbformat": 4,
  "vscode": {
   "interpreter": {
    "hash": "1fe14b4add03ae38573eb06091088804124a960722df5dd1669e7e782fa9e5a9"
   }
  }
 },
 "nbformat": 4,
 "nbformat_minor": 2
}
