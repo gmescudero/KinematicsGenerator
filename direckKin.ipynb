{
 "cells": [
  {
   "cell_type": "markdown",
   "metadata": {},
   "source": [
    "# Kinematic generator\n",
    "This notebook converts a Denavit Hartenberg table to its direct kinematic symbolic calculation and its jacobian"
   ]
  },
  {
   "cell_type": "code",
   "execution_count": 1,
   "metadata": {},
   "outputs": [],
   "source": [
    "from cmath import pi\n",
    "import numpy as np\n",
    "import sympy\n",
    "# from sympy.abc import x,y,z,a,d\n",
    "from kinematicBuilder import *\n",
    "\n",
    "# import sys\n",
    "# sys.set_int_max_str_digits(0)"
   ]
  },
  {
   "cell_type": "markdown",
   "metadata": {},
   "source": [
    "# Examples"
   ]
  },
  {
   "cell_type": "markdown",
   "metadata": {},
   "source": [
    "## 3 DOF Cartesian \n",
    "A 3 DOF Cartesian robot with 3 prismatic joints from [The Ultimate Guide to Jacobian Matrices for Robotics](https://automaticaddison.com/the-ultimate-guide-to-jacobian-matrices-for-robotics/)"
   ]
  },
  {
   "cell_type": "code",
   "execution_count": 2,
   "metadata": {},
   "outputs": [],
   "source": [
    "T1 = DenavitRow(pi/2,   0, 0, pi/2,  Joint(sympy.Symbol('q_1'),JointType.PRISMATIC))\n",
    "T2 = DenavitRow(pi/2,   0, 0, -pi/2, Joint(sympy.Symbol('q_2'),JointType.PRISMATIC))\n",
    "T3 = DenavitRow(0,      0, 0, 0,     Joint(sympy.Symbol('q_3'),JointType.PRISMATIC))\n",
    "\n",
    "T_cartesian = DenavitDK((T1,T2,T3),\"Cartesian\")"
   ]
  },
  {
   "cell_type": "code",
   "execution_count": 3,
   "metadata": {},
   "outputs": [
    {
     "name": "stdout",
     "output_type": "stream",
     "text": [
      "0.0\n",
      "Position solution with error 0.0 with 999 iterations left\n"
     ]
    },
    {
     "data": {
      "text/plain": [
       "array([ 3.,  1., -2.])"
      ]
     },
     "execution_count": 3,
     "metadata": {},
     "output_type": "execute_result"
    }
   ],
   "source": [
    "T_cartesian.inversePositionEval([0,0,0],[1,2,3])"
   ]
  },
  {
   "cell_type": "code",
   "execution_count": 4,
   "metadata": {},
   "outputs": [],
   "source": [
    "# T_cartesian.genURDF()"
   ]
  },
  {
   "cell_type": "code",
   "execution_count": 5,
   "metadata": {},
   "outputs": [
    {
     "data": {
      "text/latex": [
       "$\\displaystyle \\left[\\begin{matrix}q_{2}\\\\- q_{3}\\\\q_{1}\\\\0\\\\0\\\\0\\end{matrix}\\right]$"
      ],
      "text/plain": [
       "Matrix([\n",
       "[ q_2],\n",
       "[-q_3],\n",
       "[ q_1],\n",
       "[   0],\n",
       "[   0],\n",
       "[   0]])"
      ]
     },
     "execution_count": 5,
     "metadata": {},
     "output_type": "execute_result"
    }
   ],
   "source": [
    "cartesian = T_cartesian.jacobian * T_cartesian.jointsSym\n",
    "cartesian"
   ]
  },
  {
   "cell_type": "code",
   "execution_count": 6,
   "metadata": {},
   "outputs": [
    {
     "data": {
      "text/plain": [
       "array([[ 0, -1,  0,  0],\n",
       "       [ 0,  0, -1,  0],\n",
       "       [ 1,  0,  0,  0],\n",
       "       [ 0,  0,  0,  1]])"
      ]
     },
     "execution_count": 6,
     "metadata": {},
     "output_type": "execute_result"
    }
   ],
   "source": [
    "joint_values = (0, 0, 0)\n",
    "T_cartesian.eval(joint_values)"
   ]
  },
  {
   "cell_type": "markdown",
   "metadata": {},
   "source": [
    "## 3 DOF Articulated Robot\n",
    "A 3 DOF Articulated robot with 3 rotational joints from [The Ultimate Guide to Jacobian Matrices for Robotics](https://automaticaddison.com/the-ultimate-guide-to-jacobian-matrices-for-robotics/)"
   ]
  },
  {
   "cell_type": "code",
   "execution_count": 7,
   "metadata": {},
   "outputs": [],
   "source": [
    "T1 = DenavitRow(0,  1.5, 0,   pi/2, Joint(sympy.Symbol('q_1'),JointType.ROTATIONAL))\n",
    "T2 = DenavitRow(0,  0,  1,  0,    Joint(sympy.Symbol('q_2'),JointType.ROTATIONAL))\n",
    "T3 = DenavitRow(0,  0,  0.5,  0,    Joint(sympy.Symbol('q_3'),JointType.ROTATIONAL))\n",
    "\n",
    "T_articular3 = DenavitDK((T1,T2,T3))"
   ]
  },
  {
   "cell_type": "code",
   "execution_count": 8,
   "metadata": {},
   "outputs": [
    {
     "data": {
      "text/plain": [
       "array([[ 1. , -0. ,  0. ,  1.5],\n",
       "       [ 0. , -0. , -1. ,  0. ],\n",
       "       [ 0. ,  1. ,  0. ,  1.5],\n",
       "       [ 0. ,  0. ,  0. ,  1. ]])"
      ]
     },
     "execution_count": 8,
     "metadata": {},
     "output_type": "execute_result"
    }
   ],
   "source": [
    "joint_values = (0, 0, 0)\n",
    "T_articular3.eval(joint_values)"
   ]
  },
  {
   "cell_type": "markdown",
   "metadata": {},
   "source": [
    "## 6 DOF articular\n",
    "A 6 DOF articular robot that follows the following scheme: \n",
    "<!-- ![axes](axes_diagram.png) -->\n",
    "<img src=\"axes_diagram.png\" alt=\"axes_diagram\" width=\"400\"/>"
   ]
  },
  {
   "cell_type": "code",
   "execution_count": 9,
   "metadata": {},
   "outputs": [
    {
     "data": {
      "text/latex": [
       "$\\displaystyle \\left[\\begin{matrix}\\left(\\left(\\left(- \\sin{\\left(q_{2} + \\frac{884279719003555}{562949953421312} \\right)} \\sin{\\left(q_{3} + \\frac{884279719003555}{281474976710656} \\right)} \\cos{\\left(q_{1} \\right)} + \\cos{\\left(q_{1} \\right)} \\cos{\\left(q_{2} + \\frac{884279719003555}{562949953421312} \\right)} \\cos{\\left(q_{3} + \\frac{884279719003555}{281474976710656} \\right)}\\right) \\cos{\\left(q_{4} + \\frac{884279719003555}{281474976710656} \\right)} + \\sin{\\left(q_{1} \\right)} \\sin{\\left(q_{4} + \\frac{884279719003555}{281474976710656} \\right)}\\right) \\cos{\\left(q_{5} + \\frac{884279719003555}{281474976710656} \\right)} + \\left(\\sin{\\left(q_{2} + \\frac{884279719003555}{562949953421312} \\right)} \\cos{\\left(q_{1} \\right)} \\cos{\\left(q_{3} + \\frac{884279719003555}{281474976710656} \\right)} + \\sin{\\left(q_{3} + \\frac{884279719003555}{281474976710656} \\right)} \\cos{\\left(q_{1} \\right)} \\cos{\\left(q_{2} + \\frac{884279719003555}{562949953421312} \\right)}\\right) \\sin{\\left(q_{5} + \\frac{884279719003555}{281474976710656} \\right)}\\right) \\cos{\\left(q_{6} \\right)} + \\left(\\left(- \\sin{\\left(q_{2} + \\frac{884279719003555}{562949953421312} \\right)} \\sin{\\left(q_{3} + \\frac{884279719003555}{281474976710656} \\right)} \\cos{\\left(q_{1} \\right)} + \\cos{\\left(q_{1} \\right)} \\cos{\\left(q_{2} + \\frac{884279719003555}{562949953421312} \\right)} \\cos{\\left(q_{3} + \\frac{884279719003555}{281474976710656} \\right)}\\right) \\sin{\\left(q_{4} + \\frac{884279719003555}{281474976710656} \\right)} - \\sin{\\left(q_{1} \\right)} \\cos{\\left(q_{4} + \\frac{884279719003555}{281474976710656} \\right)}\\right) \\sin{\\left(q_{6} \\right)} & - \\left(\\left(\\left(- \\sin{\\left(q_{2} + \\frac{884279719003555}{562949953421312} \\right)} \\sin{\\left(q_{3} + \\frac{884279719003555}{281474976710656} \\right)} \\cos{\\left(q_{1} \\right)} + \\cos{\\left(q_{1} \\right)} \\cos{\\left(q_{2} + \\frac{884279719003555}{562949953421312} \\right)} \\cos{\\left(q_{3} + \\frac{884279719003555}{281474976710656} \\right)}\\right) \\cos{\\left(q_{4} + \\frac{884279719003555}{281474976710656} \\right)} + \\sin{\\left(q_{1} \\right)} \\sin{\\left(q_{4} + \\frac{884279719003555}{281474976710656} \\right)}\\right) \\cos{\\left(q_{5} + \\frac{884279719003555}{281474976710656} \\right)} + \\left(\\sin{\\left(q_{2} + \\frac{884279719003555}{562949953421312} \\right)} \\cos{\\left(q_{1} \\right)} \\cos{\\left(q_{3} + \\frac{884279719003555}{281474976710656} \\right)} + \\sin{\\left(q_{3} + \\frac{884279719003555}{281474976710656} \\right)} \\cos{\\left(q_{1} \\right)} \\cos{\\left(q_{2} + \\frac{884279719003555}{562949953421312} \\right)}\\right) \\sin{\\left(q_{5} + \\frac{884279719003555}{281474976710656} \\right)}\\right) \\sin{\\left(q_{6} \\right)} + \\left(\\left(- \\sin{\\left(q_{2} + \\frac{884279719003555}{562949953421312} \\right)} \\sin{\\left(q_{3} + \\frac{884279719003555}{281474976710656} \\right)} \\cos{\\left(q_{1} \\right)} + \\cos{\\left(q_{1} \\right)} \\cos{\\left(q_{2} + \\frac{884279719003555}{562949953421312} \\right)} \\cos{\\left(q_{3} + \\frac{884279719003555}{281474976710656} \\right)}\\right) \\sin{\\left(q_{4} + \\frac{884279719003555}{281474976710656} \\right)} - \\sin{\\left(q_{1} \\right)} \\cos{\\left(q_{4} + \\frac{884279719003555}{281474976710656} \\right)}\\right) \\cos{\\left(q_{6} \\right)} & \\left(\\left(- \\sin{\\left(q_{2} + \\frac{884279719003555}{562949953421312} \\right)} \\sin{\\left(q_{3} + \\frac{884279719003555}{281474976710656} \\right)} \\cos{\\left(q_{1} \\right)} + \\cos{\\left(q_{1} \\right)} \\cos{\\left(q_{2} + \\frac{884279719003555}{562949953421312} \\right)} \\cos{\\left(q_{3} + \\frac{884279719003555}{281474976710656} \\right)}\\right) \\cos{\\left(q_{4} + \\frac{884279719003555}{281474976710656} \\right)} + \\sin{\\left(q_{1} \\right)} \\sin{\\left(q_{4} + \\frac{884279719003555}{281474976710656} \\right)}\\right) \\sin{\\left(q_{5} + \\frac{884279719003555}{281474976710656} \\right)} - \\left(\\sin{\\left(q_{2} + \\frac{884279719003555}{562949953421312} \\right)} \\cos{\\left(q_{1} \\right)} \\cos{\\left(q_{3} + \\frac{884279719003555}{281474976710656} \\right)} + \\sin{\\left(q_{3} + \\frac{884279719003555}{281474976710656} \\right)} \\cos{\\left(q_{1} \\right)} \\cos{\\left(q_{2} + \\frac{884279719003555}{562949953421312} \\right)}\\right) \\cos{\\left(q_{5} + \\frac{884279719003555}{281474976710656} \\right)} & \\frac{\\left(\\left(- \\sin{\\left(q_{2} + \\frac{884279719003555}{562949953421312} \\right)} \\sin{\\left(q_{3} + \\frac{884279719003555}{281474976710656} \\right)} \\cos{\\left(q_{1} \\right)} + \\cos{\\left(q_{1} \\right)} \\cos{\\left(q_{2} + \\frac{884279719003555}{562949953421312} \\right)} \\cos{\\left(q_{3} + \\frac{884279719003555}{281474976710656} \\right)}\\right) \\cos{\\left(q_{4} + \\frac{884279719003555}{281474976710656} \\right)} + \\sin{\\left(q_{1} \\right)} \\sin{\\left(q_{4} + \\frac{884279719003555}{281474976710656} \\right)}\\right) \\sin{\\left(q_{5} + \\frac{884279719003555}{281474976710656} \\right)}}{5} - \\frac{\\left(\\sin{\\left(q_{2} + \\frac{884279719003555}{562949953421312} \\right)} \\cos{\\left(q_{1} \\right)} \\cos{\\left(q_{3} + \\frac{884279719003555}{281474976710656} \\right)} + \\sin{\\left(q_{3} + \\frac{884279719003555}{281474976710656} \\right)} \\cos{\\left(q_{1} \\right)} \\cos{\\left(q_{2} + \\frac{884279719003555}{562949953421312} \\right)}\\right) \\cos{\\left(q_{5} + \\frac{884279719003555}{281474976710656} \\right)}}{5} + \\sin{\\left(q_{2} + \\frac{884279719003555}{562949953421312} \\right)} \\cos{\\left(q_{1} \\right)} \\cos{\\left(q_{3} + \\frac{884279719003555}{281474976710656} \\right)} + \\sin{\\left(q_{3} + \\frac{884279719003555}{281474976710656} \\right)} \\cos{\\left(q_{1} \\right)} \\cos{\\left(q_{2} + \\frac{884279719003555}{562949953421312} \\right)} + \\cos{\\left(q_{1} \\right)} \\cos{\\left(q_{2} + \\frac{884279719003555}{562949953421312} \\right)}\\\\\\left(\\left(\\left(- \\sin{\\left(q_{1} \\right)} \\sin{\\left(q_{2} + \\frac{884279719003555}{562949953421312} \\right)} \\sin{\\left(q_{3} + \\frac{884279719003555}{281474976710656} \\right)} + \\sin{\\left(q_{1} \\right)} \\cos{\\left(q_{2} + \\frac{884279719003555}{562949953421312} \\right)} \\cos{\\left(q_{3} + \\frac{884279719003555}{281474976710656} \\right)}\\right) \\cos{\\left(q_{4} + \\frac{884279719003555}{281474976710656} \\right)} - \\sin{\\left(q_{4} + \\frac{884279719003555}{281474976710656} \\right)} \\cos{\\left(q_{1} \\right)}\\right) \\cos{\\left(q_{5} + \\frac{884279719003555}{281474976710656} \\right)} + \\left(\\sin{\\left(q_{1} \\right)} \\sin{\\left(q_{2} + \\frac{884279719003555}{562949953421312} \\right)} \\cos{\\left(q_{3} + \\frac{884279719003555}{281474976710656} \\right)} + \\sin{\\left(q_{1} \\right)} \\sin{\\left(q_{3} + \\frac{884279719003555}{281474976710656} \\right)} \\cos{\\left(q_{2} + \\frac{884279719003555}{562949953421312} \\right)}\\right) \\sin{\\left(q_{5} + \\frac{884279719003555}{281474976710656} \\right)}\\right) \\cos{\\left(q_{6} \\right)} + \\left(\\left(- \\sin{\\left(q_{1} \\right)} \\sin{\\left(q_{2} + \\frac{884279719003555}{562949953421312} \\right)} \\sin{\\left(q_{3} + \\frac{884279719003555}{281474976710656} \\right)} + \\sin{\\left(q_{1} \\right)} \\cos{\\left(q_{2} + \\frac{884279719003555}{562949953421312} \\right)} \\cos{\\left(q_{3} + \\frac{884279719003555}{281474976710656} \\right)}\\right) \\sin{\\left(q_{4} + \\frac{884279719003555}{281474976710656} \\right)} + \\cos{\\left(q_{1} \\right)} \\cos{\\left(q_{4} + \\frac{884279719003555}{281474976710656} \\right)}\\right) \\sin{\\left(q_{6} \\right)} & - \\left(\\left(\\left(- \\sin{\\left(q_{1} \\right)} \\sin{\\left(q_{2} + \\frac{884279719003555}{562949953421312} \\right)} \\sin{\\left(q_{3} + \\frac{884279719003555}{281474976710656} \\right)} + \\sin{\\left(q_{1} \\right)} \\cos{\\left(q_{2} + \\frac{884279719003555}{562949953421312} \\right)} \\cos{\\left(q_{3} + \\frac{884279719003555}{281474976710656} \\right)}\\right) \\cos{\\left(q_{4} + \\frac{884279719003555}{281474976710656} \\right)} - \\sin{\\left(q_{4} + \\frac{884279719003555}{281474976710656} \\right)} \\cos{\\left(q_{1} \\right)}\\right) \\cos{\\left(q_{5} + \\frac{884279719003555}{281474976710656} \\right)} + \\left(\\sin{\\left(q_{1} \\right)} \\sin{\\left(q_{2} + \\frac{884279719003555}{562949953421312} \\right)} \\cos{\\left(q_{3} + \\frac{884279719003555}{281474976710656} \\right)} + \\sin{\\left(q_{1} \\right)} \\sin{\\left(q_{3} + \\frac{884279719003555}{281474976710656} \\right)} \\cos{\\left(q_{2} + \\frac{884279719003555}{562949953421312} \\right)}\\right) \\sin{\\left(q_{5} + \\frac{884279719003555}{281474976710656} \\right)}\\right) \\sin{\\left(q_{6} \\right)} + \\left(\\left(- \\sin{\\left(q_{1} \\right)} \\sin{\\left(q_{2} + \\frac{884279719003555}{562949953421312} \\right)} \\sin{\\left(q_{3} + \\frac{884279719003555}{281474976710656} \\right)} + \\sin{\\left(q_{1} \\right)} \\cos{\\left(q_{2} + \\frac{884279719003555}{562949953421312} \\right)} \\cos{\\left(q_{3} + \\frac{884279719003555}{281474976710656} \\right)}\\right) \\sin{\\left(q_{4} + \\frac{884279719003555}{281474976710656} \\right)} + \\cos{\\left(q_{1} \\right)} \\cos{\\left(q_{4} + \\frac{884279719003555}{281474976710656} \\right)}\\right) \\cos{\\left(q_{6} \\right)} & \\left(\\left(- \\sin{\\left(q_{1} \\right)} \\sin{\\left(q_{2} + \\frac{884279719003555}{562949953421312} \\right)} \\sin{\\left(q_{3} + \\frac{884279719003555}{281474976710656} \\right)} + \\sin{\\left(q_{1} \\right)} \\cos{\\left(q_{2} + \\frac{884279719003555}{562949953421312} \\right)} \\cos{\\left(q_{3} + \\frac{884279719003555}{281474976710656} \\right)}\\right) \\cos{\\left(q_{4} + \\frac{884279719003555}{281474976710656} \\right)} - \\sin{\\left(q_{4} + \\frac{884279719003555}{281474976710656} \\right)} \\cos{\\left(q_{1} \\right)}\\right) \\sin{\\left(q_{5} + \\frac{884279719003555}{281474976710656} \\right)} - \\left(\\sin{\\left(q_{1} \\right)} \\sin{\\left(q_{2} + \\frac{884279719003555}{562949953421312} \\right)} \\cos{\\left(q_{3} + \\frac{884279719003555}{281474976710656} \\right)} + \\sin{\\left(q_{1} \\right)} \\sin{\\left(q_{3} + \\frac{884279719003555}{281474976710656} \\right)} \\cos{\\left(q_{2} + \\frac{884279719003555}{562949953421312} \\right)}\\right) \\cos{\\left(q_{5} + \\frac{884279719003555}{281474976710656} \\right)} & \\frac{\\left(\\left(- \\sin{\\left(q_{1} \\right)} \\sin{\\left(q_{2} + \\frac{884279719003555}{562949953421312} \\right)} \\sin{\\left(q_{3} + \\frac{884279719003555}{281474976710656} \\right)} + \\sin{\\left(q_{1} \\right)} \\cos{\\left(q_{2} + \\frac{884279719003555}{562949953421312} \\right)} \\cos{\\left(q_{3} + \\frac{884279719003555}{281474976710656} \\right)}\\right) \\cos{\\left(q_{4} + \\frac{884279719003555}{281474976710656} \\right)} - \\sin{\\left(q_{4} + \\frac{884279719003555}{281474976710656} \\right)} \\cos{\\left(q_{1} \\right)}\\right) \\sin{\\left(q_{5} + \\frac{884279719003555}{281474976710656} \\right)}}{5} - \\frac{\\left(\\sin{\\left(q_{1} \\right)} \\sin{\\left(q_{2} + \\frac{884279719003555}{562949953421312} \\right)} \\cos{\\left(q_{3} + \\frac{884279719003555}{281474976710656} \\right)} + \\sin{\\left(q_{1} \\right)} \\sin{\\left(q_{3} + \\frac{884279719003555}{281474976710656} \\right)} \\cos{\\left(q_{2} + \\frac{884279719003555}{562949953421312} \\right)}\\right) \\cos{\\left(q_{5} + \\frac{884279719003555}{281474976710656} \\right)}}{5} + \\sin{\\left(q_{1} \\right)} \\sin{\\left(q_{2} + \\frac{884279719003555}{562949953421312} \\right)} \\cos{\\left(q_{3} + \\frac{884279719003555}{281474976710656} \\right)} + \\sin{\\left(q_{1} \\right)} \\sin{\\left(q_{3} + \\frac{884279719003555}{281474976710656} \\right)} \\cos{\\left(q_{2} + \\frac{884279719003555}{562949953421312} \\right)} + \\sin{\\left(q_{1} \\right)} \\cos{\\left(q_{2} + \\frac{884279719003555}{562949953421312} \\right)}\\\\\\left(\\left(\\sin{\\left(q_{2} + \\frac{884279719003555}{562949953421312} \\right)} \\sin{\\left(q_{3} + \\frac{884279719003555}{281474976710656} \\right)} - \\cos{\\left(q_{2} + \\frac{884279719003555}{562949953421312} \\right)} \\cos{\\left(q_{3} + \\frac{884279719003555}{281474976710656} \\right)}\\right) \\sin{\\left(q_{5} + \\frac{884279719003555}{281474976710656} \\right)} + \\left(\\sin{\\left(q_{2} + \\frac{884279719003555}{562949953421312} \\right)} \\cos{\\left(q_{3} + \\frac{884279719003555}{281474976710656} \\right)} + \\sin{\\left(q_{3} + \\frac{884279719003555}{281474976710656} \\right)} \\cos{\\left(q_{2} + \\frac{884279719003555}{562949953421312} \\right)}\\right) \\cos{\\left(q_{4} + \\frac{884279719003555}{281474976710656} \\right)} \\cos{\\left(q_{5} + \\frac{884279719003555}{281474976710656} \\right)}\\right) \\cos{\\left(q_{6} \\right)} + \\left(\\sin{\\left(q_{2} + \\frac{884279719003555}{562949953421312} \\right)} \\cos{\\left(q_{3} + \\frac{884279719003555}{281474976710656} \\right)} + \\sin{\\left(q_{3} + \\frac{884279719003555}{281474976710656} \\right)} \\cos{\\left(q_{2} + \\frac{884279719003555}{562949953421312} \\right)}\\right) \\sin{\\left(q_{6} \\right)} \\sin{\\left(q_{4} + \\frac{884279719003555}{281474976710656} \\right)} & - \\left(\\left(\\sin{\\left(q_{2} + \\frac{884279719003555}{562949953421312} \\right)} \\sin{\\left(q_{3} + \\frac{884279719003555}{281474976710656} \\right)} - \\cos{\\left(q_{2} + \\frac{884279719003555}{562949953421312} \\right)} \\cos{\\left(q_{3} + \\frac{884279719003555}{281474976710656} \\right)}\\right) \\sin{\\left(q_{5} + \\frac{884279719003555}{281474976710656} \\right)} + \\left(\\sin{\\left(q_{2} + \\frac{884279719003555}{562949953421312} \\right)} \\cos{\\left(q_{3} + \\frac{884279719003555}{281474976710656} \\right)} + \\sin{\\left(q_{3} + \\frac{884279719003555}{281474976710656} \\right)} \\cos{\\left(q_{2} + \\frac{884279719003555}{562949953421312} \\right)}\\right) \\cos{\\left(q_{4} + \\frac{884279719003555}{281474976710656} \\right)} \\cos{\\left(q_{5} + \\frac{884279719003555}{281474976710656} \\right)}\\right) \\sin{\\left(q_{6} \\right)} + \\left(\\sin{\\left(q_{2} + \\frac{884279719003555}{562949953421312} \\right)} \\cos{\\left(q_{3} + \\frac{884279719003555}{281474976710656} \\right)} + \\sin{\\left(q_{3} + \\frac{884279719003555}{281474976710656} \\right)} \\cos{\\left(q_{2} + \\frac{884279719003555}{562949953421312} \\right)}\\right) \\sin{\\left(q_{4} + \\frac{884279719003555}{281474976710656} \\right)} \\cos{\\left(q_{6} \\right)} & - \\left(\\sin{\\left(q_{2} + \\frac{884279719003555}{562949953421312} \\right)} \\sin{\\left(q_{3} + \\frac{884279719003555}{281474976710656} \\right)} - \\cos{\\left(q_{2} + \\frac{884279719003555}{562949953421312} \\right)} \\cos{\\left(q_{3} + \\frac{884279719003555}{281474976710656} \\right)}\\right) \\cos{\\left(q_{5} + \\frac{884279719003555}{281474976710656} \\right)} + \\left(\\sin{\\left(q_{2} + \\frac{884279719003555}{562949953421312} \\right)} \\cos{\\left(q_{3} + \\frac{884279719003555}{281474976710656} \\right)} + \\sin{\\left(q_{3} + \\frac{884279719003555}{281474976710656} \\right)} \\cos{\\left(q_{2} + \\frac{884279719003555}{562949953421312} \\right)}\\right) \\sin{\\left(q_{5} + \\frac{884279719003555}{281474976710656} \\right)} \\cos{\\left(q_{4} + \\frac{884279719003555}{281474976710656} \\right)} & - \\frac{\\left(\\sin{\\left(q_{2} + \\frac{884279719003555}{562949953421312} \\right)} \\sin{\\left(q_{3} + \\frac{884279719003555}{281474976710656} \\right)} - \\cos{\\left(q_{2} + \\frac{884279719003555}{562949953421312} \\right)} \\cos{\\left(q_{3} + \\frac{884279719003555}{281474976710656} \\right)}\\right) \\cos{\\left(q_{5} + \\frac{884279719003555}{281474976710656} \\right)}}{5} + \\frac{\\left(\\sin{\\left(q_{2} + \\frac{884279719003555}{562949953421312} \\right)} \\cos{\\left(q_{3} + \\frac{884279719003555}{281474976710656} \\right)} + \\sin{\\left(q_{3} + \\frac{884279719003555}{281474976710656} \\right)} \\cos{\\left(q_{2} + \\frac{884279719003555}{562949953421312} \\right)}\\right) \\sin{\\left(q_{5} + \\frac{884279719003555}{281474976710656} \\right)} \\cos{\\left(q_{4} + \\frac{884279719003555}{281474976710656} \\right)}}{5} + \\sin{\\left(q_{2} + \\frac{884279719003555}{562949953421312} \\right)} \\sin{\\left(q_{3} + \\frac{884279719003555}{281474976710656} \\right)} + \\sin{\\left(q_{2} + \\frac{884279719003555}{562949953421312} \\right)} - \\cos{\\left(q_{2} + \\frac{884279719003555}{562949953421312} \\right)} \\cos{\\left(q_{3} + \\frac{884279719003555}{281474976710656} \\right)} + \\frac{1}{5}\\\\0 & 0 & 0 & 1\\end{matrix}\\right]$"
      ],
      "text/plain": [
       "Matrix([\n",
       "[(((-sin(q_2 + 884279719003555/562949953421312)*sin(q_3 + 884279719003555/281474976710656)*cos(q_1) + cos(q_1)*cos(q_2 + 884279719003555/562949953421312)*cos(q_3 + 884279719003555/281474976710656))*cos(q_4 + 884279719003555/281474976710656) + sin(q_1)*sin(q_4 + 884279719003555/281474976710656))*cos(q_5 + 884279719003555/281474976710656) + (sin(q_2 + 884279719003555/562949953421312)*cos(q_1)*cos(q_3 + 884279719003555/281474976710656) + sin(q_3 + 884279719003555/281474976710656)*cos(q_1)*cos(q_2 + 884279719003555/562949953421312))*sin(q_5 + 884279719003555/281474976710656))*cos(q_6) + ((-sin(q_2 + 884279719003555/562949953421312)*sin(q_3 + 884279719003555/281474976710656)*cos(q_1) + cos(q_1)*cos(q_2 + 884279719003555/562949953421312)*cos(q_3 + 884279719003555/281474976710656))*sin(q_4 + 884279719003555/281474976710656) - sin(q_1)*cos(q_4 + 884279719003555/281474976710656))*sin(q_6), -(((-sin(q_2 + 884279719003555/562949953421312)*sin(q_3 + 884279719003555/281474976710656)*cos(q_1) + cos(q_1)*cos(q_2 + 884279719003555/562949953421312)*cos(q_3 + 884279719003555/281474976710656))*cos(q_4 + 884279719003555/281474976710656) + sin(q_1)*sin(q_4 + 884279719003555/281474976710656))*cos(q_5 + 884279719003555/281474976710656) + (sin(q_2 + 884279719003555/562949953421312)*cos(q_1)*cos(q_3 + 884279719003555/281474976710656) + sin(q_3 + 884279719003555/281474976710656)*cos(q_1)*cos(q_2 + 884279719003555/562949953421312))*sin(q_5 + 884279719003555/281474976710656))*sin(q_6) + ((-sin(q_2 + 884279719003555/562949953421312)*sin(q_3 + 884279719003555/281474976710656)*cos(q_1) + cos(q_1)*cos(q_2 + 884279719003555/562949953421312)*cos(q_3 + 884279719003555/281474976710656))*sin(q_4 + 884279719003555/281474976710656) - sin(q_1)*cos(q_4 + 884279719003555/281474976710656))*cos(q_6), ((-sin(q_2 + 884279719003555/562949953421312)*sin(q_3 + 884279719003555/281474976710656)*cos(q_1) + cos(q_1)*cos(q_2 + 884279719003555/562949953421312)*cos(q_3 + 884279719003555/281474976710656))*cos(q_4 + 884279719003555/281474976710656) + sin(q_1)*sin(q_4 + 884279719003555/281474976710656))*sin(q_5 + 884279719003555/281474976710656) - (sin(q_2 + 884279719003555/562949953421312)*cos(q_1)*cos(q_3 + 884279719003555/281474976710656) + sin(q_3 + 884279719003555/281474976710656)*cos(q_1)*cos(q_2 + 884279719003555/562949953421312))*cos(q_5 + 884279719003555/281474976710656), ((-sin(q_2 + 884279719003555/562949953421312)*sin(q_3 + 884279719003555/281474976710656)*cos(q_1) + cos(q_1)*cos(q_2 + 884279719003555/562949953421312)*cos(q_3 + 884279719003555/281474976710656))*cos(q_4 + 884279719003555/281474976710656) + sin(q_1)*sin(q_4 + 884279719003555/281474976710656))*sin(q_5 + 884279719003555/281474976710656)/5 - (sin(q_2 + 884279719003555/562949953421312)*cos(q_1)*cos(q_3 + 884279719003555/281474976710656) + sin(q_3 + 884279719003555/281474976710656)*cos(q_1)*cos(q_2 + 884279719003555/562949953421312))*cos(q_5 + 884279719003555/281474976710656)/5 + sin(q_2 + 884279719003555/562949953421312)*cos(q_1)*cos(q_3 + 884279719003555/281474976710656) + sin(q_3 + 884279719003555/281474976710656)*cos(q_1)*cos(q_2 + 884279719003555/562949953421312) + cos(q_1)*cos(q_2 + 884279719003555/562949953421312)],\n",
       "[(((-sin(q_1)*sin(q_2 + 884279719003555/562949953421312)*sin(q_3 + 884279719003555/281474976710656) + sin(q_1)*cos(q_2 + 884279719003555/562949953421312)*cos(q_3 + 884279719003555/281474976710656))*cos(q_4 + 884279719003555/281474976710656) - sin(q_4 + 884279719003555/281474976710656)*cos(q_1))*cos(q_5 + 884279719003555/281474976710656) + (sin(q_1)*sin(q_2 + 884279719003555/562949953421312)*cos(q_3 + 884279719003555/281474976710656) + sin(q_1)*sin(q_3 + 884279719003555/281474976710656)*cos(q_2 + 884279719003555/562949953421312))*sin(q_5 + 884279719003555/281474976710656))*cos(q_6) + ((-sin(q_1)*sin(q_2 + 884279719003555/562949953421312)*sin(q_3 + 884279719003555/281474976710656) + sin(q_1)*cos(q_2 + 884279719003555/562949953421312)*cos(q_3 + 884279719003555/281474976710656))*sin(q_4 + 884279719003555/281474976710656) + cos(q_1)*cos(q_4 + 884279719003555/281474976710656))*sin(q_6), -(((-sin(q_1)*sin(q_2 + 884279719003555/562949953421312)*sin(q_3 + 884279719003555/281474976710656) + sin(q_1)*cos(q_2 + 884279719003555/562949953421312)*cos(q_3 + 884279719003555/281474976710656))*cos(q_4 + 884279719003555/281474976710656) - sin(q_4 + 884279719003555/281474976710656)*cos(q_1))*cos(q_5 + 884279719003555/281474976710656) + (sin(q_1)*sin(q_2 + 884279719003555/562949953421312)*cos(q_3 + 884279719003555/281474976710656) + sin(q_1)*sin(q_3 + 884279719003555/281474976710656)*cos(q_2 + 884279719003555/562949953421312))*sin(q_5 + 884279719003555/281474976710656))*sin(q_6) + ((-sin(q_1)*sin(q_2 + 884279719003555/562949953421312)*sin(q_3 + 884279719003555/281474976710656) + sin(q_1)*cos(q_2 + 884279719003555/562949953421312)*cos(q_3 + 884279719003555/281474976710656))*sin(q_4 + 884279719003555/281474976710656) + cos(q_1)*cos(q_4 + 884279719003555/281474976710656))*cos(q_6), ((-sin(q_1)*sin(q_2 + 884279719003555/562949953421312)*sin(q_3 + 884279719003555/281474976710656) + sin(q_1)*cos(q_2 + 884279719003555/562949953421312)*cos(q_3 + 884279719003555/281474976710656))*cos(q_4 + 884279719003555/281474976710656) - sin(q_4 + 884279719003555/281474976710656)*cos(q_1))*sin(q_5 + 884279719003555/281474976710656) - (sin(q_1)*sin(q_2 + 884279719003555/562949953421312)*cos(q_3 + 884279719003555/281474976710656) + sin(q_1)*sin(q_3 + 884279719003555/281474976710656)*cos(q_2 + 884279719003555/562949953421312))*cos(q_5 + 884279719003555/281474976710656), ((-sin(q_1)*sin(q_2 + 884279719003555/562949953421312)*sin(q_3 + 884279719003555/281474976710656) + sin(q_1)*cos(q_2 + 884279719003555/562949953421312)*cos(q_3 + 884279719003555/281474976710656))*cos(q_4 + 884279719003555/281474976710656) - sin(q_4 + 884279719003555/281474976710656)*cos(q_1))*sin(q_5 + 884279719003555/281474976710656)/5 - (sin(q_1)*sin(q_2 + 884279719003555/562949953421312)*cos(q_3 + 884279719003555/281474976710656) + sin(q_1)*sin(q_3 + 884279719003555/281474976710656)*cos(q_2 + 884279719003555/562949953421312))*cos(q_5 + 884279719003555/281474976710656)/5 + sin(q_1)*sin(q_2 + 884279719003555/562949953421312)*cos(q_3 + 884279719003555/281474976710656) + sin(q_1)*sin(q_3 + 884279719003555/281474976710656)*cos(q_2 + 884279719003555/562949953421312) + sin(q_1)*cos(q_2 + 884279719003555/562949953421312)],\n",
       "[                                                                                                                                                                        ((sin(q_2 + 884279719003555/562949953421312)*sin(q_3 + 884279719003555/281474976710656) - cos(q_2 + 884279719003555/562949953421312)*cos(q_3 + 884279719003555/281474976710656))*sin(q_5 + 884279719003555/281474976710656) + (sin(q_2 + 884279719003555/562949953421312)*cos(q_3 + 884279719003555/281474976710656) + sin(q_3 + 884279719003555/281474976710656)*cos(q_2 + 884279719003555/562949953421312))*cos(q_4 + 884279719003555/281474976710656)*cos(q_5 + 884279719003555/281474976710656))*cos(q_6) + (sin(q_2 + 884279719003555/562949953421312)*cos(q_3 + 884279719003555/281474976710656) + sin(q_3 + 884279719003555/281474976710656)*cos(q_2 + 884279719003555/562949953421312))*sin(q_6)*sin(q_4 + 884279719003555/281474976710656),                                                                                                                                                                         -((sin(q_2 + 884279719003555/562949953421312)*sin(q_3 + 884279719003555/281474976710656) - cos(q_2 + 884279719003555/562949953421312)*cos(q_3 + 884279719003555/281474976710656))*sin(q_5 + 884279719003555/281474976710656) + (sin(q_2 + 884279719003555/562949953421312)*cos(q_3 + 884279719003555/281474976710656) + sin(q_3 + 884279719003555/281474976710656)*cos(q_2 + 884279719003555/562949953421312))*cos(q_4 + 884279719003555/281474976710656)*cos(q_5 + 884279719003555/281474976710656))*sin(q_6) + (sin(q_2 + 884279719003555/562949953421312)*cos(q_3 + 884279719003555/281474976710656) + sin(q_3 + 884279719003555/281474976710656)*cos(q_2 + 884279719003555/562949953421312))*sin(q_4 + 884279719003555/281474976710656)*cos(q_6),                                                                                             -(sin(q_2 + 884279719003555/562949953421312)*sin(q_3 + 884279719003555/281474976710656) - cos(q_2 + 884279719003555/562949953421312)*cos(q_3 + 884279719003555/281474976710656))*cos(q_5 + 884279719003555/281474976710656) + (sin(q_2 + 884279719003555/562949953421312)*cos(q_3 + 884279719003555/281474976710656) + sin(q_3 + 884279719003555/281474976710656)*cos(q_2 + 884279719003555/562949953421312))*sin(q_5 + 884279719003555/281474976710656)*cos(q_4 + 884279719003555/281474976710656),                                                                                                                  -(sin(q_2 + 884279719003555/562949953421312)*sin(q_3 + 884279719003555/281474976710656) - cos(q_2 + 884279719003555/562949953421312)*cos(q_3 + 884279719003555/281474976710656))*cos(q_5 + 884279719003555/281474976710656)/5 + (sin(q_2 + 884279719003555/562949953421312)*cos(q_3 + 884279719003555/281474976710656) + sin(q_3 + 884279719003555/281474976710656)*cos(q_2 + 884279719003555/562949953421312))*sin(q_5 + 884279719003555/281474976710656)*cos(q_4 + 884279719003555/281474976710656)/5 + sin(q_2 + 884279719003555/562949953421312)*sin(q_3 + 884279719003555/281474976710656) + sin(q_2 + 884279719003555/562949953421312) - cos(q_2 + 884279719003555/562949953421312)*cos(q_3 + 884279719003555/281474976710656) + 1/5],\n",
       "[                                                                                                                                                                                                                                                                                                                                                                                                                                                                                                                                                                                                                                                                                                                                                                                                                                                                                                                          0,                                                                                                                                                                                                                                                                                                                                                                                                                                                                                                                                                                                                                                                                                                                                                                                                                                                                                                                            0,                                                                                                                                                                                                                                                                                                                                                                                                                                                                                                                                                                                               0,                                                                                                                                                                                                                                                                                                                                                                                                                                                                                                                                                                                                                                                                                                                                                                                                                                                           1]])"
      ]
     },
     "execution_count": 9,
     "metadata": {},
     "output_type": "execute_result"
    }
   ],
   "source": [
    "L = [0.2, 1, 1, 0.2]\n",
    "T1 = DenavitRow(0,      L[0],   0,      pi/2,   Joint(sympy.Symbol('q_1'),JointType.ROTATIONAL,upper_limit=pi/2,lower_limit=-pi/2))\n",
    "T2 = DenavitRow(pi/2,   0,      L[1],   0,      Joint(sympy.Symbol('q_2'),JointType.ROTATIONAL))\n",
    "T3 = DenavitRow(pi,     0,      0,      pi/2,   Joint(sympy.Symbol('q_3'),JointType.ROTATIONAL))\n",
    "# T_ = DenavitRow(pi/2,   0.02,       0,      pi/2)\n",
    "T4 = DenavitRow(pi,     L[2],   0,      pi/2,   Joint(sympy.Symbol('q_4'),JointType.ROTATIONAL))\n",
    "T5 = DenavitRow(pi,     0,      0,      pi/2,   Joint(sympy.Symbol('q_5'),JointType.ROTATIONAL))\n",
    "T6 = DenavitRow(0,      L[3],   0,      0,      Joint(sympy.Symbol('q_6'),JointType.ROTATIONAL))\n",
    "\n",
    "T_articular6 = DenavitDK((T1,T2,T3,T4,T5,T6))\n",
    "T_articular6.directTransformSym"
   ]
  },
  {
   "cell_type": "code",
   "execution_count": 10,
   "metadata": {},
   "outputs": [],
   "source": [
    "# T_articular6.genURDF()\n",
    "# T_articular6.genCCode()"
   ]
  },
  {
   "cell_type": "code",
   "execution_count": 11,
   "metadata": {},
   "outputs": [
    {
     "data": {
      "text/plain": [
       "array([[ 0.21667169, -0.26112258,  0.94067443, -0.04166873],\n",
       "       [-0.95867353, -0.23890322,  0.1545002 , -0.32699789],\n",
       "       [ 0.18438665, -0.93527549, -0.30209487, -0.2294141 ],\n",
       "       [ 0.        ,  0.        ,  0.        ,  1.        ]])"
      ]
     },
     "execution_count": 11,
     "metadata": {},
     "output_type": "execute_result"
    }
   ],
   "source": [
    "pose = T_articular6.eval((1,1,1,1,1,1))\n",
    "pose"
   ]
  },
  {
   "cell_type": "code",
   "execution_count": 12,
   "metadata": {},
   "outputs": [
    {
     "name": "stdout",
     "output_type": "stream",
     "text": [
      "0.5303672509456662\n",
      "0.133090897045223\n",
      "0.19805321952668054\n",
      "0.058096235857168416\n",
      "0.017616481038508602\n",
      "0.0009623456241789342\n",
      "1.7876297332903563e-06\n",
      "Position solution with error 1.7876297332903563e-06 with 993 iterations left\n",
      "18.121146966525668\n",
      "2.1446655990862586\n",
      "0.25126644087060407\n",
      "0.0038410541378007565\n",
      "8.995987686601186e-07\n",
      "Solution with error 8.995987686601186e-07 with 995 iterations left\n"
     ]
    },
    {
     "data": {
      "text/plain": [
       "[4.141116140758804,\n",
       " 5.282429591454324,\n",
       " 2.140993919695244,\n",
       " 4.141514676448182,\n",
       " 0.9993505753533116,\n",
       " 0.9989170096726199]"
      ]
     },
     "execution_count": 12,
     "metadata": {},
     "output_type": "execute_result"
    }
   ],
   "source": [
    "T_articular6.inverseEval([0,0,0,0,0,0],pose)"
   ]
  },
  {
   "cell_type": "markdown",
   "metadata": {},
   "source": [
    "## 6 DOF robot with transformations in between"
   ]
  },
  {
   "cell_type": "code",
   "execution_count": 13,
   "metadata": {},
   "outputs": [],
   "source": [
    "Lv = 50\n",
    "T1 = DenavitRow(0,      0,          0,     -pi/2,   Joint(sympy.Symbol('q_1'),JointType.ROTATIONAL))\n",
    "T2 = DenavitRow(0,      0,          Lv,     0,      Joint(sympy.Symbol('q_2'),JointType.ROTATIONAL))\n",
    "T3 = DenavitRow(0,      -0.0425,    Lv,     pi/2,   Joint(sympy.Symbol('q_3'),JointType.ROTATIONAL))\n",
    "T_ = DenavitRow(pi/2,   0.02,       0,      pi/2)\n",
    "T4 = DenavitRow(pi/2,   0,          0,      pi/2,   Joint(sympy.Symbol('q_4'),JointType.ROTATIONAL))\n",
    "T5 = DenavitRow(pi/2,   0,          0,      pi/2,   Joint(sympy.Symbol('q_5'),JointType.ROTATIONAL))\n",
    "T6 = DenavitRow(0,      0,          0,      0,      Joint(sympy.Symbol('q_6'),JointType.ROTATIONAL))\n",
    "TCP = DenavitRow(0,     0,          10,     0)\n",
    "\n",
    "T_walter = DenavitDK((T1,T2,T3,T_,T4,T5,T6,TCP),\"Walter\")"
   ]
  },
  {
   "cell_type": "code",
   "execution_count": 14,
   "metadata": {},
   "outputs": [],
   "source": [
    "T_walter.genURDF()\n",
    "# T_walter.genCCode()"
   ]
  },
  {
   "cell_type": "code",
   "execution_count": 15,
   "metadata": {},
   "outputs": [
    {
     "name": "stdout",
     "output_type": "stream",
     "text": [
      "833.7461170358483\n",
      "214.28174789050013\n",
      "59.02379496521931\n",
      "9.98801344015011\n",
      "0.2586509794326969\n",
      "4.803857946481692e-05\n",
      "Position solution with error 4.803857946481692e-05 with 994 iterations left\n",
      "31501.757235671623\n",
      "8698.474658487916\n",
      "6547.043071951966\n",
      "24126.727755450655\n",
      "15316.94888786937\n",
      "28168.71015006958\n",
      "13309.198345216919\n",
      "121.77392643168483\n",
      "551.3232771784909\n",
      "97.80846464287285\n",
      "6.669588486516758\n",
      "1.070252648677415\n",
      "0.005541582723453081\n",
      "1.7038291358261742e-07\n",
      "Solution with error 1.7038291358261742e-07 with 986 iterations left\n"
     ]
    },
    {
     "data": {
      "text/plain": [
       "[1.0000399991201459,\n",
       " 1.9996033169929692,\n",
       " 5.283984112625572,\n",
       " 2.4509040698799827,\n",
       " 0.7760957613798043,\n",
       " 5.585428943545787]"
      ]
     },
     "execution_count": 15,
     "metadata": {},
     "output_type": "execute_result"
    }
   ],
   "source": [
    "pose = T_walter.eval((1,1,1,1,1,1))\n",
    "joints = T_walter.inverseEval([0,0,0,0,0,0],pose)\n",
    "joints"
   ]
  },
  {
   "cell_type": "code",
   "execution_count": 16,
   "metadata": {},
   "outputs": [
    {
     "data": {
      "text/plain": [
       "array([[-5.42953905e-01,  7.69269035e-01,  3.36788077e-01,\n",
       "        -2.03021261e+00],\n",
       "       [ 7.03943910e-01,  6.35611356e-01, -3.16956111e-01,\n",
       "         1.22553776e+01],\n",
       "       [-4.57890848e-01,  6.49873574e-02, -8.86629920e-01,\n",
       "        -9.21256401e+01],\n",
       "       [ 0.00000000e+00,  0.00000000e+00,  0.00000000e+00,\n",
       "         1.00000000e+00]])"
      ]
     },
     "execution_count": 16,
     "metadata": {},
     "output_type": "execute_result"
    }
   ],
   "source": [
    "T_walter.eval(joints)"
   ]
  },
  {
   "cell_type": "code",
   "execution_count": 17,
   "metadata": {},
   "outputs": [
    {
     "data": {
      "text/plain": [
       "array([[-5.42948980e-01,  7.69269352e-01,  3.36795292e-01,\n",
       "        -2.02982706e+00],\n",
       "       [ 7.03951467e-01,  6.35609326e-01, -3.16943396e-01,\n",
       "         1.22555160e+01],\n",
       "       [-4.57885069e-01,  6.50034461e-02, -8.86631725e-01,\n",
       "        -9.21255942e+01],\n",
       "       [ 0.00000000e+00,  0.00000000e+00,  0.00000000e+00,\n",
       "         1.00000000e+00]])"
      ]
     },
     "execution_count": 17,
     "metadata": {},
     "output_type": "execute_result"
    }
   ],
   "source": [
    "pose"
   ]
  }
 ],
 "metadata": {
  "kernelspec": {
   "display_name": "Python 3.7.4 64-bit",
   "language": "python",
   "name": "python3"
  },
  "language_info": {
   "codemirror_mode": {
    "name": "ipython",
    "version": 3
   },
   "file_extension": ".py",
   "mimetype": "text/x-python",
   "name": "python",
   "nbconvert_exporter": "python",
   "pygments_lexer": "ipython3",
   "version": "3.7.4"
  },
  "orig_nbformat": 4,
  "vscode": {
   "interpreter": {
    "hash": "1fe14b4add03ae38573eb06091088804124a960722df5dd1669e7e782fa9e5a9"
   }
  }
 },
 "nbformat": 4,
 "nbformat_minor": 2
}
