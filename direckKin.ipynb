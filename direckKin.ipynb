{
 "cells": [
  {
   "cell_type": "markdown",
   "metadata": {},
   "source": [
    "# Kinematic generator\n",
    "This notebook converts a Denavit Hartenberg table to its direct kinematic symbolic calculation and its jacobian"
   ]
  },
  {
   "cell_type": "code",
   "execution_count": 114,
   "metadata": {},
   "outputs": [],
   "source": [
    "from cmath import pi\n",
    "import numpy as np\n",
    "import sympy\n",
    "from sympy.abc import x,y,z,a,d\n",
    "\n",
    "# import sys\n",
    "# sys.set_int_max_str_digits(0)"
   ]
  },
  {
   "cell_type": "markdown",
   "metadata": {},
   "source": [
    "## Joints\n",
    "This classes define a single joint in is symbolic representation and its type"
   ]
  },
  {
   "cell_type": "code",
   "execution_count": 115,
   "metadata": {},
   "outputs": [],
   "source": [
    "from enum import Enum\n",
    "\n",
    "class JointType(Enum):\n",
    "    ROTATIONAL = 0\n",
    "    PRISMATIC = 1\n",
    "\n",
    "class Joint:\n",
    "    def __init__(self, symbol: sympy.Symbol, jointType: JointType):\n",
    "        self.type = jointType\n",
    "        self.symbol = symbol\n",
    "        self.value = 0.0"
   ]
  },
  {
   "cell_type": "markdown",
   "metadata": {},
   "source": [
    "## Denavit Hartenberg\n",
    "Symbolic Denavit table "
   ]
  },
  {
   "cell_type": "code",
   "execution_count": 116,
   "metadata": {},
   "outputs": [
    {
     "data": {
      "text/latex": [
       "$\\displaystyle \\left[\\begin{matrix}\\cos{\\left(\\theta \\right)} & - \\sin{\\left(\\theta \\right)} \\cos{\\left(\\alpha \\right)} & \\sin{\\left(\\alpha \\right)} \\sin{\\left(\\theta \\right)} & a \\cos{\\left(\\theta \\right)}\\\\\\sin{\\left(\\theta \\right)} & \\cos{\\left(\\alpha \\right)} \\cos{\\left(\\theta \\right)} & - \\sin{\\left(\\alpha \\right)} \\cos{\\left(\\theta \\right)} & a \\sin{\\left(\\theta \\right)}\\\\0 & \\sin{\\left(\\alpha \\right)} & \\cos{\\left(\\alpha \\right)} & d\\\\0 & 0 & 0 & 1\\end{matrix}\\right]$"
      ],
      "text/plain": [
       "Matrix([\n",
       "[cos(theta), -sin(theta)*cos(alpha),  sin(alpha)*sin(theta), a*cos(theta)],\n",
       "[sin(theta),  cos(alpha)*cos(theta), -sin(alpha)*cos(theta), a*sin(theta)],\n",
       "[         0,             sin(alpha),             cos(alpha),            d],\n",
       "[         0,                      0,                      0,            1]])"
      ]
     },
     "execution_count": 116,
     "metadata": {},
     "output_type": "execute_result"
    }
   ],
   "source": [
    "class Denavit:\n",
    "    def __init__(self):\n",
    "        self.theta = sympy.Symbol('theta')\n",
    "        self.alfa = sympy.Symbol('alpha') \n",
    "        self.d = sympy.Symbol('d')\n",
    "        self.a = sympy.Symbol('a')\n",
    "\n",
    "        cosT = sympy.cos(self.theta)\n",
    "        sinT = sympy.sin(self.theta)\n",
    "        cosA = sympy.cos(self.alfa)\n",
    "        sinA = sympy.sin(self.alfa)\n",
    "        \n",
    "        self.denavit = sympy.Matrix([\n",
    "            [cosT,  -sinT*cosA, sinT*sinA,  self.a*cosT ],\n",
    "            [sinT,  cosT*cosA,  -cosT*sinA, self.a*sinT ],\n",
    "            [0,     sinA,       cosA,       self.d      ],\n",
    "            [0,     0,          0,          1           ]\n",
    "        ])\n",
    "\n",
    "Denavit().denavit"
   ]
  },
  {
   "cell_type": "markdown",
   "metadata": {},
   "source": [
    "## Denavit row of the table\n",
    "This class sets a single row of the Denavit Hartenberg table and computes the transformation matrixes, both in symbolic and lambda representations"
   ]
  },
  {
   "cell_type": "code",
   "execution_count": 117,
   "metadata": {},
   "outputs": [],
   "source": [
    "class DenavitRow(Denavit):\n",
    "    def __init__(self, dh_theta:float, dh_d:float, dh_a:float, dh_alfa:float, joint:Joint = None):\n",
    "        super().__init__()\n",
    "        self.dhParams = (dh_theta,dh_d,dh_a,dh_alfa)\n",
    "        self.joint = joint\n",
    "\n",
    "        if joint is not None:\n",
    "            if joint.type is JointType.ROTATIONAL:\n",
    "                T = self.denavit.subs(self.theta, self.theta+joint.symbol)\n",
    "            elif joint.type is JointType.PRISMATIC:\n",
    "                T = self.denavit.subs(self.d, self.d+joint.symbol)\n",
    "            else:\n",
    "                raise ValueError(\"Invalid joint type\")\n",
    "        else:\n",
    "            T = self.denavit\n",
    "        \n",
    "        T = T.subs(self.theta,dh_theta)\n",
    "        T = T.subs(self.d,dh_d)\n",
    "        T = T.subs(self.a,dh_a)\n",
    "        T = T.subs(self.alfa,dh_alfa)\n",
    "        self.TransformSym = T\n",
    "\n",
    "    def get(self):\n",
    "        return (self.theta,self.d, self.a, self.alfa, self.joint.value)\n",
    "\n",
    "    def eval(self, jointVal:float):\n",
    "        self.joint.value = jointVal\n",
    "        return self.Transform(*self.get())\n",
    "    \n",
    "    def getRotationSym(self):\n",
    "        return self.TransformSym[0:3,0:3]\n",
    "    \n",
    "    def getTranslationSym(self):\n",
    "        return self.TransformSym[0:3,3]"
   ]
  },
  {
   "cell_type": "markdown",
   "metadata": {},
   "source": [
    "## Denavit Direct kinematics\n",
    "This class takes an ordered list of the Denavit rows and computes the total kinematics in symbolics and lambda"
   ]
  },
  {
   "cell_type": "code",
   "execution_count": 118,
   "metadata": {},
   "outputs": [],
   "source": [
    "class DenavitDK:\n",
    "    def __init__(self,denavitRows) -> None:\n",
    "        self.directTransformSym = sympy.Matrix(np.eye(4))\n",
    "        self.jointsSym = []\n",
    "        # Compute direct kinematis and record joint symbols\n",
    "        for T in denavitRows:\n",
    "            if T.joint is not None:\n",
    "                self.jointsSym.append(T.joint.symbol)\n",
    "            self.directTransformSym = self.directTransformSym*T.TransformSym\n",
    "        self.directTransformSym = sympy.simplify(self.directTransformSym)\n",
    "        # Set joints number\n",
    "        self.jointsNum = len(self.jointsSym)\n",
    "        # Set joints array\n",
    "        self.jointsSym = sympy.Matrix([q for q in self.jointsSym])\n",
    "        # Set lambda for direct transform\n",
    "        self.directTransform = sympy.lambdify(self.jointsSym,self.directTransformSym)\n",
    "        # Calculate jacobian\n",
    "        self._jacobian(denavitRows)\n",
    "        # Calculate inverse jacobian\n",
    "        self._invJacobian()\n",
    "    \n",
    "    def eval(self, jointVal:list):\n",
    "        return self.directTransform(*jointVal)\n",
    "\n",
    "    def getRotationSym(self):\n",
    "        return self.directTransformSym[0:3,0:3]\n",
    "    \n",
    "    def getTranslationSym(self):\n",
    "        return self.directTransformSym[0:3,3]\n",
    "    \n",
    "    def _jacobian(self, denavitRows):\n",
    "        Transform = sympy.eye(4)\n",
    "        z_vector = sympy.Matrix([[0],[0],[1]])\n",
    "        J = []\n",
    "        for T in denavitRows:\n",
    "            if T.joint.type is JointType.PRISMATIC:\n",
    "                translation = Transform[0:3,0:3]*z_vector\n",
    "                J_row = sympy.Matrix([translation,sympy.zeros(3,1)]).T\n",
    "            elif T.joint.type is JointType.ROTATIONAL:\n",
    "                rotation    = Transform[0:3,0:3]*z_vector\n",
    "                translation = rotation.cross(self.getTranslationSym()-Transform[0:3,3])\n",
    "                J_row = sympy.Matrix([translation,rotation]).T\n",
    "            else:\n",
    "                raise ValueError(\"Invalid joint type\")\n",
    "            Transform = Transform*T.TransformSym\n",
    "\n",
    "            J.append(J_row)\n",
    "        self.jacobian = sympy.Matrix(J).T\n",
    "        return self.jacobian\n",
    "    \n",
    "    def _invJacobian(self):\n",
    "        M = sympy.MatrixSymbol('M',6,self.jointsNum)\n",
    "        if 6 == self.jointsNum:\n",
    "            pinvM = M**-1\n",
    "        elif 6 > self.jointsNum:\n",
    "            pinvM = M.T * (M*M.T)**-1\n",
    "        else: # 6 < self.jointsNum\n",
    "            pinvM = (M.T*M)**-1 * M.T\n",
    "        self.invJacobian = pinvM.subs(M,self.jacobian)\n",
    "        return self.invJacobian\n"
   ]
  },
  {
   "cell_type": "markdown",
   "metadata": {},
   "source": [
    "# Examples"
   ]
  },
  {
   "cell_type": "markdown",
   "metadata": {},
   "source": [
    "## 3 DOF Cartesian \n",
    "A 3 DOF Cartesian robot with 3 prismatic joints from [The Ultimate Guide to Jacobian Matrices for Robotics](https://automaticaddison.com/the-ultimate-guide-to-jacobian-matrices-for-robotics/https://automaticaddison.com/the-ultimate-guide-to-jacobian-matrices-for-robotics/)"
   ]
  },
  {
   "cell_type": "code",
   "execution_count": 119,
   "metadata": {},
   "outputs": [
    {
     "data": {
      "text/latex": [
       "$\\displaystyle \\left[\\begin{matrix}-6.12323399573677 \\cdot 10^{-17} & -1.0 & 0 & 1.0 q_{2}\\\\6.12323399573677 \\cdot 10^{-17} & 0 & -1.0 & - 6.12323399573677 \\cdot 10^{-17} q_{2} - 1.0 q_{3}\\\\1.0 & -6.12323399573677 \\cdot 10^{-17} & 6.12323399573677 \\cdot 10^{-17} & 1.0 q_{1} + 6.12323399573677 \\cdot 10^{-17} q_{2} + 6.12323399573677 \\cdot 10^{-17} q_{3}\\\\0 & 0 & 0 & 1.0\\end{matrix}\\right]$"
      ],
      "text/plain": [
       "Matrix([\n",
       "[-6.12323399573677e-17,                  -1.0,                    0,                                                       1.0*q_2],\n",
       "[ 6.12323399573677e-17,                     0,                 -1.0,                           -6.12323399573677e-17*q_2 - 1.0*q_3],\n",
       "[                  1.0, -6.12323399573677e-17, 6.12323399573677e-17, 1.0*q_1 + 6.12323399573677e-17*q_2 + 6.12323399573677e-17*q_3],\n",
       "[                    0,                     0,                    0,                                                           1.0]])"
      ]
     },
     "execution_count": 119,
     "metadata": {},
     "output_type": "execute_result"
    }
   ],
   "source": [
    "T1 = DenavitRow(pi/2,   0, 0, pi/2,  Joint(sympy.Symbol('q_1'),JointType.PRISMATIC))\n",
    "T2 = DenavitRow(pi/2,   0, 0, -pi/2, Joint(sympy.Symbol('q_2'),JointType.PRISMATIC))\n",
    "T3 = DenavitRow(0,      0, 0, 0,     Joint(sympy.Symbol('q_3'),JointType.PRISMATIC))\n",
    "\n",
    "T_total = DenavitDK((T1,T2,T3))\n",
    "T_total.directTransformSym"
   ]
  },
  {
   "cell_type": "code",
   "execution_count": 120,
   "metadata": {},
   "outputs": [
    {
     "data": {
      "text/latex": [
       "$\\displaystyle \\left[\\begin{matrix}0 & 1.0 & 0\\\\0 & -6.12323399573677 \\cdot 10^{-17} & -1.0\\\\1 & 6.12323399573677 \\cdot 10^{-17} & 6.12323399573677 \\cdot 10^{-17}\\\\0 & 0 & 0\\\\0 & 0 & 0\\\\0 & 0 & 0\\end{matrix}\\right]$"
      ],
      "text/plain": [
       "Matrix([\n",
       "[0,                   1.0,                    0],\n",
       "[0, -6.12323399573677e-17,                 -1.0],\n",
       "[1,  6.12323399573677e-17, 6.12323399573677e-17],\n",
       "[0,                     0,                    0],\n",
       "[0,                     0,                    0],\n",
       "[0,                     0,                    0]])"
      ]
     },
     "execution_count": 120,
     "metadata": {},
     "output_type": "execute_result"
    }
   ],
   "source": [
    "T_total.jacobian"
   ]
  },
  {
   "cell_type": "code",
   "execution_count": 121,
   "metadata": {},
   "outputs": [
    {
     "data": {
      "text/latex": [
       "$\\displaystyle \\left[\\begin{matrix}1.0 q_{2}\\\\- 6.12323399573677 \\cdot 10^{-17} q_{2} - 1.0 q_{3}\\\\q_{1} + 6.12323399573677 \\cdot 10^{-17} q_{2} + 6.12323399573677 \\cdot 10^{-17} q_{3}\\\\0\\\\0\\\\0\\end{matrix}\\right]$"
      ],
      "text/plain": [
       "Matrix([\n",
       "[                                                  1.0*q_2],\n",
       "[                      -6.12323399573677e-17*q_2 - 1.0*q_3],\n",
       "[q_1 + 6.12323399573677e-17*q_2 + 6.12323399573677e-17*q_3],\n",
       "[                                                        0],\n",
       "[                                                        0],\n",
       "[                                                        0]])"
      ]
     },
     "execution_count": 121,
     "metadata": {},
     "output_type": "execute_result"
    }
   ],
   "source": [
    "cartesian = T_total.jacobian * T_total.jointsSym\n",
    "cartesian"
   ]
  },
  {
   "cell_type": "code",
   "execution_count": 122,
   "metadata": {},
   "outputs": [
    {
     "data": {
      "text/latex": [
       "$\\displaystyle \\left[\\begin{matrix}z\\\\1.0 x - 6.12323399573677 \\cdot 10^{-17} y + 6.12323399573677 \\cdot 10^{-17} z\\\\- 1.0 y + 6.12323399573677 \\cdot 10^{-17} z\\end{matrix}\\right]$"
      ],
      "text/plain": [
       "Matrix([\n",
       "[                                                      z],\n",
       "[1.0*x - 6.12323399573677e-17*y + 6.12323399573677e-17*z],\n",
       "[                        -1.0*y + 6.12323399573677e-17*z]])"
      ]
     },
     "execution_count": 122,
     "metadata": {},
     "output_type": "execute_result"
    }
   ],
   "source": [
    "from sympy.abc import x,y,z\n",
    "ox,oy,oz = sympy.symbols('omega_x omega_y omega_z')\n",
    "cartesian = sympy.Matrix([\n",
    "    x, y, z, ox, oy, oz\n",
    "])\n",
    "\n",
    "joints_spd = T_total.jacobian.T*cartesian\n",
    "joints_spd"
   ]
  },
  {
   "cell_type": "markdown",
   "metadata": {},
   "source": [
    "## 3 DOF Articulated Robot\n",
    "A 3 DOF Articulated robot with 3 rotational joints from [The Ultimate Guide to Jacobian Matrices for Robotics](https://automaticaddison.com/the-ultimate-guide-to-jacobian-matrices-for-robotics/https://automaticaddison.com/the-ultimate-guide-to-jacobian-matrices-for-robotics/)"
   ]
  },
  {
   "cell_type": "code",
   "execution_count": 123,
   "metadata": {},
   "outputs": [
    {
     "data": {
      "text/latex": [
       "$\\displaystyle \\left[\\begin{matrix}1.0 \\cos{\\left(q_{1} \\right)} \\cos{\\left(q_{2} + q_{3} \\right)} & - 1.0 \\sin{\\left(q_{2} + q_{3} \\right)} \\cos{\\left(q_{1} \\right)} & 1.0 \\sin{\\left(q_{1} \\right)} & - 6.12323399573677 \\cdot 10^{-17} \\sin{\\left(q_{1} \\right)} \\sin{\\left(q_{2} \\right)} + 1.0 \\cos{\\left(q_{1} \\right)} \\cos{\\left(q_{2} \\right)} + 1.0 \\cos{\\left(q_{1} \\right)} \\cos{\\left(q_{2} + q_{3} \\right)}\\\\1.0 \\sin{\\left(q_{1} \\right)} \\cos{\\left(q_{2} + q_{3} \\right)} & - 1.0 \\sin{\\left(q_{1} \\right)} \\sin{\\left(q_{2} + q_{3} \\right)} & - 1.0 \\cos{\\left(q_{1} \\right)} & 1.0 \\sin{\\left(q_{1} \\right)} \\cos{\\left(q_{2} \\right)} + 1.0 \\sin{\\left(q_{1} \\right)} \\cos{\\left(q_{2} + q_{3} \\right)} + 6.12323399573677 \\cdot 10^{-17} \\sin{\\left(q_{2} \\right)} \\cos{\\left(q_{1} \\right)}\\\\1.0 \\sin{\\left(q_{2} + q_{3} \\right)} & 1.0 \\cos{\\left(q_{2} + q_{3} \\right)} & 6.12323399573677 \\cdot 10^{-17} & 1.0 \\sin{\\left(q_{2} \\right)} + 1.0 \\sin{\\left(q_{2} + q_{3} \\right)} + 1.0\\\\0 & 0 & 0 & 1.0\\end{matrix}\\right]$"
      ],
      "text/plain": [
       "Matrix([\n",
       "[1.0*cos(q_1)*cos(q_2 + q_3), -1.0*sin(q_2 + q_3)*cos(q_1),         1.0*sin(q_1), -6.12323399573677e-17*sin(q_1)*sin(q_2) + 1.0*cos(q_1)*cos(q_2) + 1.0*cos(q_1)*cos(q_2 + q_3)],\n",
       "[1.0*sin(q_1)*cos(q_2 + q_3), -1.0*sin(q_1)*sin(q_2 + q_3),        -1.0*cos(q_1),  1.0*sin(q_1)*cos(q_2) + 1.0*sin(q_1)*cos(q_2 + q_3) + 6.12323399573677e-17*sin(q_2)*cos(q_1)],\n",
       "[         1.0*sin(q_2 + q_3),           1.0*cos(q_2 + q_3), 6.12323399573677e-17,                                                       1.0*sin(q_2) + 1.0*sin(q_2 + q_3) + 1.0],\n",
       "[                          0,                            0,                    0,                                                                                           1.0]])"
      ]
     },
     "execution_count": 123,
     "metadata": {},
     "output_type": "execute_result"
    }
   ],
   "source": [
    "T1 = DenavitRow(0,  1, 0,   pi/2, Joint(sympy.Symbol('q_1'),JointType.ROTATIONAL))\n",
    "T2 = DenavitRow(0,  0,  1,  0,    Joint(sympy.Symbol('q_2'),JointType.ROTATIONAL))\n",
    "T3 = DenavitRow(0,  0,  1,  0,    Joint(sympy.Symbol('q_3'),JointType.ROTATIONAL))\n",
    "\n",
    "T_total = DenavitDK((T1,T2,T3))\n",
    "T_total.directTransformSym"
   ]
  },
  {
   "cell_type": "code",
   "execution_count": 124,
   "metadata": {},
   "outputs": [
    {
     "data": {
      "text/latex": [
       "$\\displaystyle \\left[\\begin{matrix}- 1.0 \\sin{\\left(q_{1} \\right)} \\cos{\\left(q_{2} \\right)} - 1.0 \\sin{\\left(q_{1} \\right)} \\cos{\\left(q_{2} + q_{3} \\right)} - 6.12323399573677 \\cdot 10^{-17} \\sin{\\left(q_{2} \\right)} \\cos{\\left(q_{1} \\right)} & - 1.0 \\cdot \\left(1.0 \\sin{\\left(q_{2} \\right)} + 1.0 \\sin{\\left(q_{2} + q_{3} \\right)}\\right) \\cos{\\left(q_{1} \\right)} - 6.12323399573677 \\cdot 10^{-17} \\sin{\\left(q_{1} \\right)} \\cos{\\left(q_{2} \\right)} - 6.12323399573677 \\cdot 10^{-17} \\sin{\\left(q_{1} \\right)} \\cos{\\left(q_{2} + q_{3} \\right)} - 3.74939945665464 \\cdot 10^{-33} \\sin{\\left(q_{2} \\right)} \\cos{\\left(q_{1} \\right)} & - 6.12323399573677 \\cdot 10^{-17} \\sin{\\left(q_{1} \\right)} \\cos{\\left(q_{2} + q_{3} \\right)} - 1.0 \\sin{\\left(q_{2} + q_{3} \\right)} \\cos{\\left(q_{1} \\right)}\\\\- 6.12323399573677 \\cdot 10^{-17} \\sin{\\left(q_{1} \\right)} \\sin{\\left(q_{2} \\right)} + 1.0 \\cos{\\left(q_{1} \\right)} \\cos{\\left(q_{2} \\right)} + 1.0 \\cos{\\left(q_{1} \\right)} \\cos{\\left(q_{2} + q_{3} \\right)} & - 1.0 \\cdot \\left(1.0 \\sin{\\left(q_{2} \\right)} + 1.0 \\sin{\\left(q_{2} + q_{3} \\right)}\\right) \\sin{\\left(q_{1} \\right)} - 3.74939945665464 \\cdot 10^{-33} \\sin{\\left(q_{1} \\right)} \\sin{\\left(q_{2} \\right)} + 6.12323399573677 \\cdot 10^{-17} \\cos{\\left(q_{1} \\right)} \\cos{\\left(q_{2} \\right)} + 6.12323399573677 \\cdot 10^{-17} \\cos{\\left(q_{1} \\right)} \\cos{\\left(q_{2} + q_{3} \\right)} & - 1.0 \\sin{\\left(q_{1} \\right)} \\sin{\\left(q_{2} + q_{3} \\right)} + 6.12323399573677 \\cdot 10^{-17} \\cos{\\left(q_{1} \\right)} \\cos{\\left(q_{2} + q_{3} \\right)}\\\\0 & 1.0 \\left(- 6.12323399573677 \\cdot 10^{-17} \\sin{\\left(q_{1} \\right)} \\sin{\\left(q_{2} \\right)} + 1.0 \\cos{\\left(q_{1} \\right)} \\cos{\\left(q_{2} \\right)} + 1.0 \\cos{\\left(q_{1} \\right)} \\cos{\\left(q_{2} + q_{3} \\right)}\\right) \\cos{\\left(q_{1} \\right)} + 1.0 \\cdot \\left(1.0 \\sin{\\left(q_{1} \\right)} \\cos{\\left(q_{2} \\right)} + 1.0 \\sin{\\left(q_{1} \\right)} \\cos{\\left(q_{2} + q_{3} \\right)} + 6.12323399573677 \\cdot 10^{-17} \\sin{\\left(q_{2} \\right)} \\cos{\\left(q_{1} \\right)}\\right) \\sin{\\left(q_{1} \\right)} & 1.0 \\sin^{2}{\\left(q_{1} \\right)} \\cos{\\left(q_{2} + q_{3} \\right)} + 1.0 \\cos^{2}{\\left(q_{1} \\right)} \\cos{\\left(q_{2} + q_{3} \\right)}\\\\0 & 1.0 \\sin{\\left(q_{1} \\right)} & 1.0 \\sin{\\left(q_{1} \\right)}\\\\0 & - 1.0 \\cos{\\left(q_{1} \\right)} & - 1.0 \\cos{\\left(q_{1} \\right)}\\\\1 & 6.12323399573677 \\cdot 10^{-17} & 6.12323399573677 \\cdot 10^{-17}\\end{matrix}\\right]$"
      ],
      "text/plain": [
       "Matrix([\n",
       "[-1.0*sin(q_1)*cos(q_2) - 1.0*sin(q_1)*cos(q_2 + q_3) - 6.12323399573677e-17*sin(q_2)*cos(q_1),                                         -1.0*(1.0*sin(q_2) + 1.0*sin(q_2 + q_3))*cos(q_1) - 6.12323399573677e-17*sin(q_1)*cos(q_2) - 6.12323399573677e-17*sin(q_1)*cos(q_2 + q_3) - 3.74939945665464e-33*sin(q_2)*cos(q_1), -6.12323399573677e-17*sin(q_1)*cos(q_2 + q_3) - 1.0*sin(q_2 + q_3)*cos(q_1)],\n",
       "[-6.12323399573677e-17*sin(q_1)*sin(q_2) + 1.0*cos(q_1)*cos(q_2) + 1.0*cos(q_1)*cos(q_2 + q_3),                                         -1.0*(1.0*sin(q_2) + 1.0*sin(q_2 + q_3))*sin(q_1) - 3.74939945665464e-33*sin(q_1)*sin(q_2) + 6.12323399573677e-17*cos(q_1)*cos(q_2) + 6.12323399573677e-17*cos(q_1)*cos(q_2 + q_3), -1.0*sin(q_1)*sin(q_2 + q_3) + 6.12323399573677e-17*cos(q_1)*cos(q_2 + q_3)],\n",
       "[                                                                                            0, 1.0*(-6.12323399573677e-17*sin(q_1)*sin(q_2) + 1.0*cos(q_1)*cos(q_2) + 1.0*cos(q_1)*cos(q_2 + q_3))*cos(q_1) + 1.0*(1.0*sin(q_1)*cos(q_2) + 1.0*sin(q_1)*cos(q_2 + q_3) + 6.12323399573677e-17*sin(q_2)*cos(q_1))*sin(q_1),             1.0*sin(q_1)**2*cos(q_2 + q_3) + 1.0*cos(q_1)**2*cos(q_2 + q_3)],\n",
       "[                                                                                            0,                                                                                                                                                                                                               1.0*sin(q_1),                                                                1.0*sin(q_1)],\n",
       "[                                                                                            0,                                                                                                                                                                                                              -1.0*cos(q_1),                                                               -1.0*cos(q_1)],\n",
       "[                                                                                            1,                                                                                                                                                                                                       6.12323399573677e-17,                                                        6.12323399573677e-17]])"
      ]
     },
     "execution_count": 124,
     "metadata": {},
     "output_type": "execute_result"
    }
   ],
   "source": [
    "T_total.jacobian"
   ]
  },
  {
   "cell_type": "code",
   "execution_count": 125,
   "metadata": {},
   "outputs": [
    {
     "data": {
      "text/latex": [
       "$\\displaystyle \\left[\\begin{matrix}q_{1} \\left(- 1.0 \\sin{\\left(q_{1} \\right)} \\cos{\\left(q_{2} \\right)} - 1.0 \\sin{\\left(q_{1} \\right)} \\cos{\\left(q_{2} + q_{3} \\right)} - 6.12323399573677 \\cdot 10^{-17} \\sin{\\left(q_{2} \\right)} \\cos{\\left(q_{1} \\right)}\\right) + q_{2} \\left(- 1.0 \\cdot \\left(1.0 \\sin{\\left(q_{2} \\right)} + 1.0 \\sin{\\left(q_{2} + q_{3} \\right)}\\right) \\cos{\\left(q_{1} \\right)} - 6.12323399573677 \\cdot 10^{-17} \\sin{\\left(q_{1} \\right)} \\cos{\\left(q_{2} \\right)} - 6.12323399573677 \\cdot 10^{-17} \\sin{\\left(q_{1} \\right)} \\cos{\\left(q_{2} + q_{3} \\right)} - 3.74939945665464 \\cdot 10^{-33} \\sin{\\left(q_{2} \\right)} \\cos{\\left(q_{1} \\right)}\\right) + q_{3} \\left(- 6.12323399573677 \\cdot 10^{-17} \\sin{\\left(q_{1} \\right)} \\cos{\\left(q_{2} + q_{3} \\right)} - 1.0 \\sin{\\left(q_{2} + q_{3} \\right)} \\cos{\\left(q_{1} \\right)}\\right)\\\\q_{1} \\left(- 6.12323399573677 \\cdot 10^{-17} \\sin{\\left(q_{1} \\right)} \\sin{\\left(q_{2} \\right)} + 1.0 \\cos{\\left(q_{1} \\right)} \\cos{\\left(q_{2} \\right)} + 1.0 \\cos{\\left(q_{1} \\right)} \\cos{\\left(q_{2} + q_{3} \\right)}\\right) + q_{2} \\left(- 1.0 \\cdot \\left(1.0 \\sin{\\left(q_{2} \\right)} + 1.0 \\sin{\\left(q_{2} + q_{3} \\right)}\\right) \\sin{\\left(q_{1} \\right)} - 3.74939945665464 \\cdot 10^{-33} \\sin{\\left(q_{1} \\right)} \\sin{\\left(q_{2} \\right)} + 6.12323399573677 \\cdot 10^{-17} \\cos{\\left(q_{1} \\right)} \\cos{\\left(q_{2} \\right)} + 6.12323399573677 \\cdot 10^{-17} \\cos{\\left(q_{1} \\right)} \\cos{\\left(q_{2} + q_{3} \\right)}\\right) + q_{3} \\left(- 1.0 \\sin{\\left(q_{1} \\right)} \\sin{\\left(q_{2} + q_{3} \\right)} + 6.12323399573677 \\cdot 10^{-17} \\cos{\\left(q_{1} \\right)} \\cos{\\left(q_{2} + q_{3} \\right)}\\right)\\\\q_{2} \\cdot \\left(1.0 \\left(- 6.12323399573677 \\cdot 10^{-17} \\sin{\\left(q_{1} \\right)} \\sin{\\left(q_{2} \\right)} + 1.0 \\cos{\\left(q_{1} \\right)} \\cos{\\left(q_{2} \\right)} + 1.0 \\cos{\\left(q_{1} \\right)} \\cos{\\left(q_{2} + q_{3} \\right)}\\right) \\cos{\\left(q_{1} \\right)} + 1.0 \\cdot \\left(1.0 \\sin{\\left(q_{1} \\right)} \\cos{\\left(q_{2} \\right)} + 1.0 \\sin{\\left(q_{1} \\right)} \\cos{\\left(q_{2} + q_{3} \\right)} + 6.12323399573677 \\cdot 10^{-17} \\sin{\\left(q_{2} \\right)} \\cos{\\left(q_{1} \\right)}\\right) \\sin{\\left(q_{1} \\right)}\\right) + q_{3} \\cdot \\left(1.0 \\sin^{2}{\\left(q_{1} \\right)} \\cos{\\left(q_{2} + q_{3} \\right)} + 1.0 \\cos^{2}{\\left(q_{1} \\right)} \\cos{\\left(q_{2} + q_{3} \\right)}\\right)\\\\1.0 q_{2} \\sin{\\left(q_{1} \\right)} + 1.0 q_{3} \\sin{\\left(q_{1} \\right)}\\\\- 1.0 q_{2} \\cos{\\left(q_{1} \\right)} - 1.0 q_{3} \\cos{\\left(q_{1} \\right)}\\\\q_{1} + 6.12323399573677 \\cdot 10^{-17} q_{2} + 6.12323399573677 \\cdot 10^{-17} q_{3}\\end{matrix}\\right]$"
      ],
      "text/plain": [
       "Matrix([\n",
       "[q_1*(-1.0*sin(q_1)*cos(q_2) - 1.0*sin(q_1)*cos(q_2 + q_3) - 6.12323399573677e-17*sin(q_2)*cos(q_1)) + q_2*(-1.0*(1.0*sin(q_2) + 1.0*sin(q_2 + q_3))*cos(q_1) - 6.12323399573677e-17*sin(q_1)*cos(q_2) - 6.12323399573677e-17*sin(q_1)*cos(q_2 + q_3) - 3.74939945665464e-33*sin(q_2)*cos(q_1)) + q_3*(-6.12323399573677e-17*sin(q_1)*cos(q_2 + q_3) - 1.0*sin(q_2 + q_3)*cos(q_1))],\n",
       "[q_1*(-6.12323399573677e-17*sin(q_1)*sin(q_2) + 1.0*cos(q_1)*cos(q_2) + 1.0*cos(q_1)*cos(q_2 + q_3)) + q_2*(-1.0*(1.0*sin(q_2) + 1.0*sin(q_2 + q_3))*sin(q_1) - 3.74939945665464e-33*sin(q_1)*sin(q_2) + 6.12323399573677e-17*cos(q_1)*cos(q_2) + 6.12323399573677e-17*cos(q_1)*cos(q_2 + q_3)) + q_3*(-1.0*sin(q_1)*sin(q_2 + q_3) + 6.12323399573677e-17*cos(q_1)*cos(q_2 + q_3))],\n",
       "[                                                                          q_2*(1.0*(-6.12323399573677e-17*sin(q_1)*sin(q_2) + 1.0*cos(q_1)*cos(q_2) + 1.0*cos(q_1)*cos(q_2 + q_3))*cos(q_1) + 1.0*(1.0*sin(q_1)*cos(q_2) + 1.0*sin(q_1)*cos(q_2 + q_3) + 6.12323399573677e-17*sin(q_2)*cos(q_1))*sin(q_1)) + q_3*(1.0*sin(q_1)**2*cos(q_2 + q_3) + 1.0*cos(q_1)**2*cos(q_2 + q_3))],\n",
       "[                                                                                                                                                                                                                                                                                                                                               1.0*q_2*sin(q_1) + 1.0*q_3*sin(q_1)],\n",
       "[                                                                                                                                                                                                                                                                                                                                              -1.0*q_2*cos(q_1) - 1.0*q_3*cos(q_1)],\n",
       "[                                                                                                                                                                                                                                                                                                                         q_1 + 6.12323399573677e-17*q_2 + 6.12323399573677e-17*q_3]])"
      ]
     },
     "execution_count": 125,
     "metadata": {},
     "output_type": "execute_result"
    }
   ],
   "source": [
    "cartesian = T_total.jacobian * T_total.jointsSym\n",
    "cartesian"
   ]
  },
  {
   "cell_type": "code",
   "execution_count": 126,
   "metadata": {},
   "outputs": [
    {
     "data": {
      "text/latex": [
       "$\\displaystyle \\left[\\begin{matrix}\\omega_{z} + x \\left(- 1.0 \\sin{\\left(q_{1} \\right)} \\cos{\\left(q_{2} \\right)} - 1.0 \\sin{\\left(q_{1} \\right)} \\cos{\\left(q_{2} + q_{3} \\right)} - 6.12323399573677 \\cdot 10^{-17} \\sin{\\left(q_{2} \\right)} \\cos{\\left(q_{1} \\right)}\\right) + y \\left(- 6.12323399573677 \\cdot 10^{-17} \\sin{\\left(q_{1} \\right)} \\sin{\\left(q_{2} \\right)} + 1.0 \\cos{\\left(q_{1} \\right)} \\cos{\\left(q_{2} \\right)} + 1.0 \\cos{\\left(q_{1} \\right)} \\cos{\\left(q_{2} + q_{3} \\right)}\\right)\\\\1.0 \\omega_{x} \\sin{\\left(q_{1} \\right)} - 1.0 \\omega_{y} \\cos{\\left(q_{1} \\right)} + 6.12323399573677 \\cdot 10^{-17} \\omega_{z} + x \\left(- 1.0 \\cdot \\left(1.0 \\sin{\\left(q_{2} \\right)} + 1.0 \\sin{\\left(q_{2} + q_{3} \\right)}\\right) \\cos{\\left(q_{1} \\right)} - 6.12323399573677 \\cdot 10^{-17} \\sin{\\left(q_{1} \\right)} \\cos{\\left(q_{2} \\right)} - 6.12323399573677 \\cdot 10^{-17} \\sin{\\left(q_{1} \\right)} \\cos{\\left(q_{2} + q_{3} \\right)} - 3.74939945665464 \\cdot 10^{-33} \\sin{\\left(q_{2} \\right)} \\cos{\\left(q_{1} \\right)}\\right) + y \\left(- 1.0 \\cdot \\left(1.0 \\sin{\\left(q_{2} \\right)} + 1.0 \\sin{\\left(q_{2} + q_{3} \\right)}\\right) \\sin{\\left(q_{1} \\right)} - 3.74939945665464 \\cdot 10^{-33} \\sin{\\left(q_{1} \\right)} \\sin{\\left(q_{2} \\right)} + 6.12323399573677 \\cdot 10^{-17} \\cos{\\left(q_{1} \\right)} \\cos{\\left(q_{2} \\right)} + 6.12323399573677 \\cdot 10^{-17} \\cos{\\left(q_{1} \\right)} \\cos{\\left(q_{2} + q_{3} \\right)}\\right) + z \\left(1.0 \\left(- 6.12323399573677 \\cdot 10^{-17} \\sin{\\left(q_{1} \\right)} \\sin{\\left(q_{2} \\right)} + 1.0 \\cos{\\left(q_{1} \\right)} \\cos{\\left(q_{2} \\right)} + 1.0 \\cos{\\left(q_{1} \\right)} \\cos{\\left(q_{2} + q_{3} \\right)}\\right) \\cos{\\left(q_{1} \\right)} + 1.0 \\cdot \\left(1.0 \\sin{\\left(q_{1} \\right)} \\cos{\\left(q_{2} \\right)} + 1.0 \\sin{\\left(q_{1} \\right)} \\cos{\\left(q_{2} + q_{3} \\right)} + 6.12323399573677 \\cdot 10^{-17} \\sin{\\left(q_{2} \\right)} \\cos{\\left(q_{1} \\right)}\\right) \\sin{\\left(q_{1} \\right)}\\right)\\\\1.0 \\omega_{x} \\sin{\\left(q_{1} \\right)} - 1.0 \\omega_{y} \\cos{\\left(q_{1} \\right)} + 6.12323399573677 \\cdot 10^{-17} \\omega_{z} + x \\left(- 6.12323399573677 \\cdot 10^{-17} \\sin{\\left(q_{1} \\right)} \\cos{\\left(q_{2} + q_{3} \\right)} - 1.0 \\sin{\\left(q_{2} + q_{3} \\right)} \\cos{\\left(q_{1} \\right)}\\right) + y \\left(- 1.0 \\sin{\\left(q_{1} \\right)} \\sin{\\left(q_{2} + q_{3} \\right)} + 6.12323399573677 \\cdot 10^{-17} \\cos{\\left(q_{1} \\right)} \\cos{\\left(q_{2} + q_{3} \\right)}\\right) + z \\left(1.0 \\sin^{2}{\\left(q_{1} \\right)} \\cos{\\left(q_{2} + q_{3} \\right)} + 1.0 \\cos^{2}{\\left(q_{1} \\right)} \\cos{\\left(q_{2} + q_{3} \\right)}\\right)\\end{matrix}\\right]$"
      ],
      "text/plain": [
       "Matrix([\n",
       "[                                                                                                                                                                                                                                                                                                                                                                                                                                                                              omega_z + x*(-1.0*sin(q_1)*cos(q_2) - 1.0*sin(q_1)*cos(q_2 + q_3) - 6.12323399573677e-17*sin(q_2)*cos(q_1)) + y*(-6.12323399573677e-17*sin(q_1)*sin(q_2) + 1.0*cos(q_1)*cos(q_2) + 1.0*cos(q_1)*cos(q_2 + q_3))],\n",
       "[1.0*omega_x*sin(q_1) - 1.0*omega_y*cos(q_1) + 6.12323399573677e-17*omega_z + x*(-1.0*(1.0*sin(q_2) + 1.0*sin(q_2 + q_3))*cos(q_1) - 6.12323399573677e-17*sin(q_1)*cos(q_2) - 6.12323399573677e-17*sin(q_1)*cos(q_2 + q_3) - 3.74939945665464e-33*sin(q_2)*cos(q_1)) + y*(-1.0*(1.0*sin(q_2) + 1.0*sin(q_2 + q_3))*sin(q_1) - 3.74939945665464e-33*sin(q_1)*sin(q_2) + 6.12323399573677e-17*cos(q_1)*cos(q_2) + 6.12323399573677e-17*cos(q_1)*cos(q_2 + q_3)) + z*(1.0*(-6.12323399573677e-17*sin(q_1)*sin(q_2) + 1.0*cos(q_1)*cos(q_2) + 1.0*cos(q_1)*cos(q_2 + q_3))*cos(q_1) + 1.0*(1.0*sin(q_1)*cos(q_2) + 1.0*sin(q_1)*cos(q_2 + q_3) + 6.12323399573677e-17*sin(q_2)*cos(q_1))*sin(q_1))],\n",
       "[                                                                                                                                                                                                                                                                                                                                                                         1.0*omega_x*sin(q_1) - 1.0*omega_y*cos(q_1) + 6.12323399573677e-17*omega_z + x*(-6.12323399573677e-17*sin(q_1)*cos(q_2 + q_3) - 1.0*sin(q_2 + q_3)*cos(q_1)) + y*(-1.0*sin(q_1)*sin(q_2 + q_3) + 6.12323399573677e-17*cos(q_1)*cos(q_2 + q_3)) + z*(1.0*sin(q_1)**2*cos(q_2 + q_3) + 1.0*cos(q_1)**2*cos(q_2 + q_3))]])"
      ]
     },
     "execution_count": 126,
     "metadata": {},
     "output_type": "execute_result"
    }
   ],
   "source": [
    "from sympy.abc import x,y,z\n",
    "ox,oy,oz = sympy.symbols('omega_x omega_y omega_z')\n",
    "cartesian = sympy.Matrix([\n",
    "    x, y, z, ox, oy, oz\n",
    "])\n",
    "\n",
    "joints_spd = T_total.jacobian.T*cartesian\n",
    "joints_spd"
   ]
  },
  {
   "cell_type": "code",
   "execution_count": 127,
   "metadata": {},
   "outputs": [
    {
     "data": {
      "text/plain": [
       "array([[ 1.000000e+00, -0.000000e+00,  0.000000e+00,  2.000000e+00],\n",
       "       [ 0.000000e+00, -0.000000e+00, -1.000000e+00,  0.000000e+00],\n",
       "       [ 0.000000e+00,  1.000000e+00,  6.123234e-17,  1.000000e+00],\n",
       "       [ 0.000000e+00,  0.000000e+00,  0.000000e+00,  1.000000e+00]])"
      ]
     },
     "execution_count": 127,
     "metadata": {},
     "output_type": "execute_result"
    }
   ],
   "source": [
    "joint_values = (0, 0, 0)\n",
    "T_total.eval(joint_values)"
   ]
  }
 ],
 "metadata": {
  "kernelspec": {
   "display_name": "Python 3.7.5 64-bit",
   "language": "python",
   "name": "python3"
  },
  "language_info": {
   "codemirror_mode": {
    "name": "ipython",
    "version": 3
   },
   "file_extension": ".py",
   "mimetype": "text/x-python",
   "name": "python",
   "nbconvert_exporter": "python",
   "pygments_lexer": "ipython3",
   "version": "3.7.5"
  },
  "orig_nbformat": 4,
  "vscode": {
   "interpreter": {
    "hash": "aa4fe81122d0b0b4f35d0a316418225d03ec57f2d02ee80072063e16265dbb62"
   }
  }
 },
 "nbformat": 4,
 "nbformat_minor": 2
}
