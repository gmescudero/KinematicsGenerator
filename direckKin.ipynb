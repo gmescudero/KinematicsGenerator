{
 "cells": [
  {
   "cell_type": "markdown",
   "metadata": {},
   "source": [
    "# Kinematic generator\n",
    "This notebook converts a Denavit Hartenberg table to its direct kinematic symbolic calculation and its jacobian"
   ]
  },
  {
   "cell_type": "code",
   "execution_count": 45,
   "metadata": {},
   "outputs": [],
   "source": [
    "from cmath import pi\n",
    "import numpy as np\n",
    "import sympy\n",
    "# from sympy.abc import x,y,z,a,d\n",
    "from kinematicBuilder import *\n",
    "\n",
    "# import sys\n",
    "# sys.set_int_max_str_digits(0)"
   ]
  },
  {
   "cell_type": "markdown",
   "metadata": {},
   "source": [
    "# Examples"
   ]
  },
  {
   "cell_type": "markdown",
   "metadata": {},
   "source": [
    "## 3 DOF Cartesian \n",
    "A 3 DOF Cartesian robot with 3 prismatic joints from [The Ultimate Guide to Jacobian Matrices for Robotics](https://automaticaddison.com/the-ultimate-guide-to-jacobian-matrices-for-robotics/)"
   ]
  },
  {
   "cell_type": "code",
   "execution_count": 46,
   "metadata": {},
   "outputs": [],
   "source": [
    "T1 = DenavitRow(pi/2,   0, 0, pi/2,  Joint(sympy.Symbol('q_1'),JointType.PRISMATIC))\n",
    "T2 = DenavitRow(pi/2,   0, 0, -pi/2, Joint(sympy.Symbol('q_2'),JointType.PRISMATIC))\n",
    "T3 = DenavitRow(0,      0, 0, 0,     Joint(sympy.Symbol('q_3'),JointType.PRISMATIC))\n",
    "\n",
    "T_cartesian = DenavitDK((T1,T2,T3),\"Cartesian\")"
   ]
  },
  {
   "cell_type": "code",
   "execution_count": 47,
   "metadata": {},
   "outputs": [
    {
     "name": "stdout",
     "output_type": "stream",
     "text": [
      "0.0\n"
     ]
    },
    {
     "data": {
      "text/plain": [
       "array([ 3.,  1., -2.])"
      ]
     },
     "execution_count": 47,
     "metadata": {},
     "output_type": "execute_result"
    }
   ],
   "source": [
    "T_cartesian.inversePositionEval([0,0,0],[1,2,3])"
   ]
  },
  {
   "cell_type": "code",
   "execution_count": 48,
   "metadata": {},
   "outputs": [],
   "source": [
    "# T_cartesian.genURDF()"
   ]
  },
  {
   "cell_type": "code",
   "execution_count": 49,
   "metadata": {},
   "outputs": [
    {
     "data": {
      "text/latex": [
       "$\\displaystyle \\left[\\begin{matrix}q_{2}\\\\- q_{3}\\\\q_{1}\\\\0\\\\0\\\\0\\end{matrix}\\right]$"
      ],
      "text/plain": [
       "Matrix([\n",
       "[ q_2],\n",
       "[-q_3],\n",
       "[ q_1],\n",
       "[   0],\n",
       "[   0],\n",
       "[   0]])"
      ]
     },
     "execution_count": 49,
     "metadata": {},
     "output_type": "execute_result"
    }
   ],
   "source": [
    "cartesian = T_cartesian.jacobian * T_cartesian.jointsSym\n",
    "cartesian"
   ]
  },
  {
   "cell_type": "code",
   "execution_count": 50,
   "metadata": {},
   "outputs": [
    {
     "data": {
      "text/plain": [
       "array([[ 0, -1,  0,  0],\n",
       "       [ 0,  0, -1,  0],\n",
       "       [ 1,  0,  0,  0],\n",
       "       [ 0,  0,  0,  1]])"
      ]
     },
     "execution_count": 50,
     "metadata": {},
     "output_type": "execute_result"
    }
   ],
   "source": [
    "joint_values = (0, 0, 0)\n",
    "T_cartesian.eval(joint_values)"
   ]
  },
  {
   "cell_type": "markdown",
   "metadata": {},
   "source": [
    "## 3 DOF Articulated Robot\n",
    "A 3 DOF Articulated robot with 3 rotational joints from [The Ultimate Guide to Jacobian Matrices for Robotics](https://automaticaddison.com/the-ultimate-guide-to-jacobian-matrices-for-robotics/)"
   ]
  },
  {
   "cell_type": "code",
   "execution_count": 51,
   "metadata": {},
   "outputs": [],
   "source": [
    "T1 = DenavitRow(0,  1.5, 0,   pi/2, Joint(sympy.Symbol('q_1'),JointType.ROTATIONAL))\n",
    "T2 = DenavitRow(0,  0,  1,  0,    Joint(sympy.Symbol('q_2'),JointType.ROTATIONAL))\n",
    "T3 = DenavitRow(0,  0,  0.5,  0,    Joint(sympy.Symbol('q_3'),JointType.ROTATIONAL))\n",
    "\n",
    "T_articular3 = DenavitDK((T1,T2,T3))"
   ]
  },
  {
   "cell_type": "code",
   "execution_count": 52,
   "metadata": {},
   "outputs": [
    {
     "data": {
      "text/plain": [
       "array([[ 1. , -0. ,  0. ,  1.5],\n",
       "       [ 0. , -0. , -1. ,  0. ],\n",
       "       [ 0. ,  1. ,  0. ,  1.5],\n",
       "       [ 0. ,  0. ,  0. ,  1. ]])"
      ]
     },
     "execution_count": 52,
     "metadata": {},
     "output_type": "execute_result"
    }
   ],
   "source": [
    "joint_values = (0, 0, 0)\n",
    "T_articular3.eval(joint_values)"
   ]
  },
  {
   "cell_type": "markdown",
   "metadata": {},
   "source": [
    "## 6 DOF articular\n",
    "A 6 DOF articular robot that follows the following scheme: \n",
    "<!-- ![axes](axes_diagram.png) -->\n",
    "<img src=\"axes_diagram.png\" alt=\"axes_diagram\" width=\"400\"/>"
   ]
  },
  {
   "cell_type": "code",
   "execution_count": 53,
   "metadata": {},
   "outputs": [
    {
     "data": {
      "text/latex": [
       "$\\displaystyle \\left[\\begin{matrix}\\left(\\left(\\left(- \\sin{\\left(q_{2} + \\frac{884279719003555}{562949953421312} \\right)} \\sin{\\left(q_{3} + \\frac{884279719003555}{281474976710656} \\right)} \\cos{\\left(q_{1} \\right)} + \\cos{\\left(q_{1} \\right)} \\cos{\\left(q_{2} + \\frac{884279719003555}{562949953421312} \\right)} \\cos{\\left(q_{3} + \\frac{884279719003555}{281474976710656} \\right)}\\right) \\cos{\\left(q_{4} + \\frac{884279719003555}{281474976710656} \\right)} + \\sin{\\left(q_{1} \\right)} \\sin{\\left(q_{4} + \\frac{884279719003555}{281474976710656} \\right)}\\right) \\cos{\\left(q_{5} + \\frac{884279719003555}{281474976710656} \\right)} + \\left(\\sin{\\left(q_{2} + \\frac{884279719003555}{562949953421312} \\right)} \\cos{\\left(q_{1} \\right)} \\cos{\\left(q_{3} + \\frac{884279719003555}{281474976710656} \\right)} + \\sin{\\left(q_{3} + \\frac{884279719003555}{281474976710656} \\right)} \\cos{\\left(q_{1} \\right)} \\cos{\\left(q_{2} + \\frac{884279719003555}{562949953421312} \\right)}\\right) \\sin{\\left(q_{5} + \\frac{884279719003555}{281474976710656} \\right)}\\right) \\cos{\\left(q_{6} \\right)} + \\left(\\left(- \\sin{\\left(q_{2} + \\frac{884279719003555}{562949953421312} \\right)} \\sin{\\left(q_{3} + \\frac{884279719003555}{281474976710656} \\right)} \\cos{\\left(q_{1} \\right)} + \\cos{\\left(q_{1} \\right)} \\cos{\\left(q_{2} + \\frac{884279719003555}{562949953421312} \\right)} \\cos{\\left(q_{3} + \\frac{884279719003555}{281474976710656} \\right)}\\right) \\sin{\\left(q_{4} + \\frac{884279719003555}{281474976710656} \\right)} - \\sin{\\left(q_{1} \\right)} \\cos{\\left(q_{4} + \\frac{884279719003555}{281474976710656} \\right)}\\right) \\sin{\\left(q_{6} \\right)} & - \\left(\\left(\\left(- \\sin{\\left(q_{2} + \\frac{884279719003555}{562949953421312} \\right)} \\sin{\\left(q_{3} + \\frac{884279719003555}{281474976710656} \\right)} \\cos{\\left(q_{1} \\right)} + \\cos{\\left(q_{1} \\right)} \\cos{\\left(q_{2} + \\frac{884279719003555}{562949953421312} \\right)} \\cos{\\left(q_{3} + \\frac{884279719003555}{281474976710656} \\right)}\\right) \\cos{\\left(q_{4} + \\frac{884279719003555}{281474976710656} \\right)} + \\sin{\\left(q_{1} \\right)} \\sin{\\left(q_{4} + \\frac{884279719003555}{281474976710656} \\right)}\\right) \\cos{\\left(q_{5} + \\frac{884279719003555}{281474976710656} \\right)} + \\left(\\sin{\\left(q_{2} + \\frac{884279719003555}{562949953421312} \\right)} \\cos{\\left(q_{1} \\right)} \\cos{\\left(q_{3} + \\frac{884279719003555}{281474976710656} \\right)} + \\sin{\\left(q_{3} + \\frac{884279719003555}{281474976710656} \\right)} \\cos{\\left(q_{1} \\right)} \\cos{\\left(q_{2} + \\frac{884279719003555}{562949953421312} \\right)}\\right) \\sin{\\left(q_{5} + \\frac{884279719003555}{281474976710656} \\right)}\\right) \\sin{\\left(q_{6} \\right)} + \\left(\\left(- \\sin{\\left(q_{2} + \\frac{884279719003555}{562949953421312} \\right)} \\sin{\\left(q_{3} + \\frac{884279719003555}{281474976710656} \\right)} \\cos{\\left(q_{1} \\right)} + \\cos{\\left(q_{1} \\right)} \\cos{\\left(q_{2} + \\frac{884279719003555}{562949953421312} \\right)} \\cos{\\left(q_{3} + \\frac{884279719003555}{281474976710656} \\right)}\\right) \\sin{\\left(q_{4} + \\frac{884279719003555}{281474976710656} \\right)} - \\sin{\\left(q_{1} \\right)} \\cos{\\left(q_{4} + \\frac{884279719003555}{281474976710656} \\right)}\\right) \\cos{\\left(q_{6} \\right)} & \\left(\\left(- \\sin{\\left(q_{2} + \\frac{884279719003555}{562949953421312} \\right)} \\sin{\\left(q_{3} + \\frac{884279719003555}{281474976710656} \\right)} \\cos{\\left(q_{1} \\right)} + \\cos{\\left(q_{1} \\right)} \\cos{\\left(q_{2} + \\frac{884279719003555}{562949953421312} \\right)} \\cos{\\left(q_{3} + \\frac{884279719003555}{281474976710656} \\right)}\\right) \\cos{\\left(q_{4} + \\frac{884279719003555}{281474976710656} \\right)} + \\sin{\\left(q_{1} \\right)} \\sin{\\left(q_{4} + \\frac{884279719003555}{281474976710656} \\right)}\\right) \\sin{\\left(q_{5} + \\frac{884279719003555}{281474976710656} \\right)} - \\left(\\sin{\\left(q_{2} + \\frac{884279719003555}{562949953421312} \\right)} \\cos{\\left(q_{1} \\right)} \\cos{\\left(q_{3} + \\frac{884279719003555}{281474976710656} \\right)} + \\sin{\\left(q_{3} + \\frac{884279719003555}{281474976710656} \\right)} \\cos{\\left(q_{1} \\right)} \\cos{\\left(q_{2} + \\frac{884279719003555}{562949953421312} \\right)}\\right) \\cos{\\left(q_{5} + \\frac{884279719003555}{281474976710656} \\right)} & \\frac{\\left(\\left(- \\sin{\\left(q_{2} + \\frac{884279719003555}{562949953421312} \\right)} \\sin{\\left(q_{3} + \\frac{884279719003555}{281474976710656} \\right)} \\cos{\\left(q_{1} \\right)} + \\cos{\\left(q_{1} \\right)} \\cos{\\left(q_{2} + \\frac{884279719003555}{562949953421312} \\right)} \\cos{\\left(q_{3} + \\frac{884279719003555}{281474976710656} \\right)}\\right) \\cos{\\left(q_{4} + \\frac{884279719003555}{281474976710656} \\right)} + \\sin{\\left(q_{1} \\right)} \\sin{\\left(q_{4} + \\frac{884279719003555}{281474976710656} \\right)}\\right) \\sin{\\left(q_{5} + \\frac{884279719003555}{281474976710656} \\right)}}{5} - \\frac{\\left(\\sin{\\left(q_{2} + \\frac{884279719003555}{562949953421312} \\right)} \\cos{\\left(q_{1} \\right)} \\cos{\\left(q_{3} + \\frac{884279719003555}{281474976710656} \\right)} + \\sin{\\left(q_{3} + \\frac{884279719003555}{281474976710656} \\right)} \\cos{\\left(q_{1} \\right)} \\cos{\\left(q_{2} + \\frac{884279719003555}{562949953421312} \\right)}\\right) \\cos{\\left(q_{5} + \\frac{884279719003555}{281474976710656} \\right)}}{5} + \\sin{\\left(q_{2} + \\frac{884279719003555}{562949953421312} \\right)} \\cos{\\left(q_{1} \\right)} \\cos{\\left(q_{3} + \\frac{884279719003555}{281474976710656} \\right)} + \\sin{\\left(q_{3} + \\frac{884279719003555}{281474976710656} \\right)} \\cos{\\left(q_{1} \\right)} \\cos{\\left(q_{2} + \\frac{884279719003555}{562949953421312} \\right)} + \\cos{\\left(q_{1} \\right)} \\cos{\\left(q_{2} + \\frac{884279719003555}{562949953421312} \\right)}\\\\\\left(\\left(\\left(- \\sin{\\left(q_{1} \\right)} \\sin{\\left(q_{2} + \\frac{884279719003555}{562949953421312} \\right)} \\sin{\\left(q_{3} + \\frac{884279719003555}{281474976710656} \\right)} + \\sin{\\left(q_{1} \\right)} \\cos{\\left(q_{2} + \\frac{884279719003555}{562949953421312} \\right)} \\cos{\\left(q_{3} + \\frac{884279719003555}{281474976710656} \\right)}\\right) \\cos{\\left(q_{4} + \\frac{884279719003555}{281474976710656} \\right)} - \\sin{\\left(q_{4} + \\frac{884279719003555}{281474976710656} \\right)} \\cos{\\left(q_{1} \\right)}\\right) \\cos{\\left(q_{5} + \\frac{884279719003555}{281474976710656} \\right)} + \\left(\\sin{\\left(q_{1} \\right)} \\sin{\\left(q_{2} + \\frac{884279719003555}{562949953421312} \\right)} \\cos{\\left(q_{3} + \\frac{884279719003555}{281474976710656} \\right)} + \\sin{\\left(q_{1} \\right)} \\sin{\\left(q_{3} + \\frac{884279719003555}{281474976710656} \\right)} \\cos{\\left(q_{2} + \\frac{884279719003555}{562949953421312} \\right)}\\right) \\sin{\\left(q_{5} + \\frac{884279719003555}{281474976710656} \\right)}\\right) \\cos{\\left(q_{6} \\right)} + \\left(\\left(- \\sin{\\left(q_{1} \\right)} \\sin{\\left(q_{2} + \\frac{884279719003555}{562949953421312} \\right)} \\sin{\\left(q_{3} + \\frac{884279719003555}{281474976710656} \\right)} + \\sin{\\left(q_{1} \\right)} \\cos{\\left(q_{2} + \\frac{884279719003555}{562949953421312} \\right)} \\cos{\\left(q_{3} + \\frac{884279719003555}{281474976710656} \\right)}\\right) \\sin{\\left(q_{4} + \\frac{884279719003555}{281474976710656} \\right)} + \\cos{\\left(q_{1} \\right)} \\cos{\\left(q_{4} + \\frac{884279719003555}{281474976710656} \\right)}\\right) \\sin{\\left(q_{6} \\right)} & - \\left(\\left(\\left(- \\sin{\\left(q_{1} \\right)} \\sin{\\left(q_{2} + \\frac{884279719003555}{562949953421312} \\right)} \\sin{\\left(q_{3} + \\frac{884279719003555}{281474976710656} \\right)} + \\sin{\\left(q_{1} \\right)} \\cos{\\left(q_{2} + \\frac{884279719003555}{562949953421312} \\right)} \\cos{\\left(q_{3} + \\frac{884279719003555}{281474976710656} \\right)}\\right) \\cos{\\left(q_{4} + \\frac{884279719003555}{281474976710656} \\right)} - \\sin{\\left(q_{4} + \\frac{884279719003555}{281474976710656} \\right)} \\cos{\\left(q_{1} \\right)}\\right) \\cos{\\left(q_{5} + \\frac{884279719003555}{281474976710656} \\right)} + \\left(\\sin{\\left(q_{1} \\right)} \\sin{\\left(q_{2} + \\frac{884279719003555}{562949953421312} \\right)} \\cos{\\left(q_{3} + \\frac{884279719003555}{281474976710656} \\right)} + \\sin{\\left(q_{1} \\right)} \\sin{\\left(q_{3} + \\frac{884279719003555}{281474976710656} \\right)} \\cos{\\left(q_{2} + \\frac{884279719003555}{562949953421312} \\right)}\\right) \\sin{\\left(q_{5} + \\frac{884279719003555}{281474976710656} \\right)}\\right) \\sin{\\left(q_{6} \\right)} + \\left(\\left(- \\sin{\\left(q_{1} \\right)} \\sin{\\left(q_{2} + \\frac{884279719003555}{562949953421312} \\right)} \\sin{\\left(q_{3} + \\frac{884279719003555}{281474976710656} \\right)} + \\sin{\\left(q_{1} \\right)} \\cos{\\left(q_{2} + \\frac{884279719003555}{562949953421312} \\right)} \\cos{\\left(q_{3} + \\frac{884279719003555}{281474976710656} \\right)}\\right) \\sin{\\left(q_{4} + \\frac{884279719003555}{281474976710656} \\right)} + \\cos{\\left(q_{1} \\right)} \\cos{\\left(q_{4} + \\frac{884279719003555}{281474976710656} \\right)}\\right) \\cos{\\left(q_{6} \\right)} & \\left(\\left(- \\sin{\\left(q_{1} \\right)} \\sin{\\left(q_{2} + \\frac{884279719003555}{562949953421312} \\right)} \\sin{\\left(q_{3} + \\frac{884279719003555}{281474976710656} \\right)} + \\sin{\\left(q_{1} \\right)} \\cos{\\left(q_{2} + \\frac{884279719003555}{562949953421312} \\right)} \\cos{\\left(q_{3} + \\frac{884279719003555}{281474976710656} \\right)}\\right) \\cos{\\left(q_{4} + \\frac{884279719003555}{281474976710656} \\right)} - \\sin{\\left(q_{4} + \\frac{884279719003555}{281474976710656} \\right)} \\cos{\\left(q_{1} \\right)}\\right) \\sin{\\left(q_{5} + \\frac{884279719003555}{281474976710656} \\right)} - \\left(\\sin{\\left(q_{1} \\right)} \\sin{\\left(q_{2} + \\frac{884279719003555}{562949953421312} \\right)} \\cos{\\left(q_{3} + \\frac{884279719003555}{281474976710656} \\right)} + \\sin{\\left(q_{1} \\right)} \\sin{\\left(q_{3} + \\frac{884279719003555}{281474976710656} \\right)} \\cos{\\left(q_{2} + \\frac{884279719003555}{562949953421312} \\right)}\\right) \\cos{\\left(q_{5} + \\frac{884279719003555}{281474976710656} \\right)} & \\frac{\\left(\\left(- \\sin{\\left(q_{1} \\right)} \\sin{\\left(q_{2} + \\frac{884279719003555}{562949953421312} \\right)} \\sin{\\left(q_{3} + \\frac{884279719003555}{281474976710656} \\right)} + \\sin{\\left(q_{1} \\right)} \\cos{\\left(q_{2} + \\frac{884279719003555}{562949953421312} \\right)} \\cos{\\left(q_{3} + \\frac{884279719003555}{281474976710656} \\right)}\\right) \\cos{\\left(q_{4} + \\frac{884279719003555}{281474976710656} \\right)} - \\sin{\\left(q_{4} + \\frac{884279719003555}{281474976710656} \\right)} \\cos{\\left(q_{1} \\right)}\\right) \\sin{\\left(q_{5} + \\frac{884279719003555}{281474976710656} \\right)}}{5} - \\frac{\\left(\\sin{\\left(q_{1} \\right)} \\sin{\\left(q_{2} + \\frac{884279719003555}{562949953421312} \\right)} \\cos{\\left(q_{3} + \\frac{884279719003555}{281474976710656} \\right)} + \\sin{\\left(q_{1} \\right)} \\sin{\\left(q_{3} + \\frac{884279719003555}{281474976710656} \\right)} \\cos{\\left(q_{2} + \\frac{884279719003555}{562949953421312} \\right)}\\right) \\cos{\\left(q_{5} + \\frac{884279719003555}{281474976710656} \\right)}}{5} + \\sin{\\left(q_{1} \\right)} \\sin{\\left(q_{2} + \\frac{884279719003555}{562949953421312} \\right)} \\cos{\\left(q_{3} + \\frac{884279719003555}{281474976710656} \\right)} + \\sin{\\left(q_{1} \\right)} \\sin{\\left(q_{3} + \\frac{884279719003555}{281474976710656} \\right)} \\cos{\\left(q_{2} + \\frac{884279719003555}{562949953421312} \\right)} + \\sin{\\left(q_{1} \\right)} \\cos{\\left(q_{2} + \\frac{884279719003555}{562949953421312} \\right)}\\\\\\left(\\left(\\sin{\\left(q_{2} + \\frac{884279719003555}{562949953421312} \\right)} \\sin{\\left(q_{3} + \\frac{884279719003555}{281474976710656} \\right)} - \\cos{\\left(q_{2} + \\frac{884279719003555}{562949953421312} \\right)} \\cos{\\left(q_{3} + \\frac{884279719003555}{281474976710656} \\right)}\\right) \\sin{\\left(q_{5} + \\frac{884279719003555}{281474976710656} \\right)} + \\left(\\sin{\\left(q_{2} + \\frac{884279719003555}{562949953421312} \\right)} \\cos{\\left(q_{3} + \\frac{884279719003555}{281474976710656} \\right)} + \\sin{\\left(q_{3} + \\frac{884279719003555}{281474976710656} \\right)} \\cos{\\left(q_{2} + \\frac{884279719003555}{562949953421312} \\right)}\\right) \\cos{\\left(q_{4} + \\frac{884279719003555}{281474976710656} \\right)} \\cos{\\left(q_{5} + \\frac{884279719003555}{281474976710656} \\right)}\\right) \\cos{\\left(q_{6} \\right)} + \\left(\\sin{\\left(q_{2} + \\frac{884279719003555}{562949953421312} \\right)} \\cos{\\left(q_{3} + \\frac{884279719003555}{281474976710656} \\right)} + \\sin{\\left(q_{3} + \\frac{884279719003555}{281474976710656} \\right)} \\cos{\\left(q_{2} + \\frac{884279719003555}{562949953421312} \\right)}\\right) \\sin{\\left(q_{6} \\right)} \\sin{\\left(q_{4} + \\frac{884279719003555}{281474976710656} \\right)} & - \\left(\\left(\\sin{\\left(q_{2} + \\frac{884279719003555}{562949953421312} \\right)} \\sin{\\left(q_{3} + \\frac{884279719003555}{281474976710656} \\right)} - \\cos{\\left(q_{2} + \\frac{884279719003555}{562949953421312} \\right)} \\cos{\\left(q_{3} + \\frac{884279719003555}{281474976710656} \\right)}\\right) \\sin{\\left(q_{5} + \\frac{884279719003555}{281474976710656} \\right)} + \\left(\\sin{\\left(q_{2} + \\frac{884279719003555}{562949953421312} \\right)} \\cos{\\left(q_{3} + \\frac{884279719003555}{281474976710656} \\right)} + \\sin{\\left(q_{3} + \\frac{884279719003555}{281474976710656} \\right)} \\cos{\\left(q_{2} + \\frac{884279719003555}{562949953421312} \\right)}\\right) \\cos{\\left(q_{4} + \\frac{884279719003555}{281474976710656} \\right)} \\cos{\\left(q_{5} + \\frac{884279719003555}{281474976710656} \\right)}\\right) \\sin{\\left(q_{6} \\right)} + \\left(\\sin{\\left(q_{2} + \\frac{884279719003555}{562949953421312} \\right)} \\cos{\\left(q_{3} + \\frac{884279719003555}{281474976710656} \\right)} + \\sin{\\left(q_{3} + \\frac{884279719003555}{281474976710656} \\right)} \\cos{\\left(q_{2} + \\frac{884279719003555}{562949953421312} \\right)}\\right) \\sin{\\left(q_{4} + \\frac{884279719003555}{281474976710656} \\right)} \\cos{\\left(q_{6} \\right)} & - \\left(\\sin{\\left(q_{2} + \\frac{884279719003555}{562949953421312} \\right)} \\sin{\\left(q_{3} + \\frac{884279719003555}{281474976710656} \\right)} - \\cos{\\left(q_{2} + \\frac{884279719003555}{562949953421312} \\right)} \\cos{\\left(q_{3} + \\frac{884279719003555}{281474976710656} \\right)}\\right) \\cos{\\left(q_{5} + \\frac{884279719003555}{281474976710656} \\right)} + \\left(\\sin{\\left(q_{2} + \\frac{884279719003555}{562949953421312} \\right)} \\cos{\\left(q_{3} + \\frac{884279719003555}{281474976710656} \\right)} + \\sin{\\left(q_{3} + \\frac{884279719003555}{281474976710656} \\right)} \\cos{\\left(q_{2} + \\frac{884279719003555}{562949953421312} \\right)}\\right) \\sin{\\left(q_{5} + \\frac{884279719003555}{281474976710656} \\right)} \\cos{\\left(q_{4} + \\frac{884279719003555}{281474976710656} \\right)} & - \\frac{\\left(\\sin{\\left(q_{2} + \\frac{884279719003555}{562949953421312} \\right)} \\sin{\\left(q_{3} + \\frac{884279719003555}{281474976710656} \\right)} - \\cos{\\left(q_{2} + \\frac{884279719003555}{562949953421312} \\right)} \\cos{\\left(q_{3} + \\frac{884279719003555}{281474976710656} \\right)}\\right) \\cos{\\left(q_{5} + \\frac{884279719003555}{281474976710656} \\right)}}{5} + \\frac{\\left(\\sin{\\left(q_{2} + \\frac{884279719003555}{562949953421312} \\right)} \\cos{\\left(q_{3} + \\frac{884279719003555}{281474976710656} \\right)} + \\sin{\\left(q_{3} + \\frac{884279719003555}{281474976710656} \\right)} \\cos{\\left(q_{2} + \\frac{884279719003555}{562949953421312} \\right)}\\right) \\sin{\\left(q_{5} + \\frac{884279719003555}{281474976710656} \\right)} \\cos{\\left(q_{4} + \\frac{884279719003555}{281474976710656} \\right)}}{5} + \\sin{\\left(q_{2} + \\frac{884279719003555}{562949953421312} \\right)} \\sin{\\left(q_{3} + \\frac{884279719003555}{281474976710656} \\right)} + \\sin{\\left(q_{2} + \\frac{884279719003555}{562949953421312} \\right)} - \\cos{\\left(q_{2} + \\frac{884279719003555}{562949953421312} \\right)} \\cos{\\left(q_{3} + \\frac{884279719003555}{281474976710656} \\right)} + \\frac{1}{5}\\\\0 & 0 & 0 & 1\\end{matrix}\\right]$"
      ],
      "text/plain": [
       "Matrix([\n",
       "[(((-sin(q_2 + 884279719003555/562949953421312)*sin(q_3 + 884279719003555/281474976710656)*cos(q_1) + cos(q_1)*cos(q_2 + 884279719003555/562949953421312)*cos(q_3 + 884279719003555/281474976710656))*cos(q_4 + 884279719003555/281474976710656) + sin(q_1)*sin(q_4 + 884279719003555/281474976710656))*cos(q_5 + 884279719003555/281474976710656) + (sin(q_2 + 884279719003555/562949953421312)*cos(q_1)*cos(q_3 + 884279719003555/281474976710656) + sin(q_3 + 884279719003555/281474976710656)*cos(q_1)*cos(q_2 + 884279719003555/562949953421312))*sin(q_5 + 884279719003555/281474976710656))*cos(q_6) + ((-sin(q_2 + 884279719003555/562949953421312)*sin(q_3 + 884279719003555/281474976710656)*cos(q_1) + cos(q_1)*cos(q_2 + 884279719003555/562949953421312)*cos(q_3 + 884279719003555/281474976710656))*sin(q_4 + 884279719003555/281474976710656) - sin(q_1)*cos(q_4 + 884279719003555/281474976710656))*sin(q_6), -(((-sin(q_2 + 884279719003555/562949953421312)*sin(q_3 + 884279719003555/281474976710656)*cos(q_1) + cos(q_1)*cos(q_2 + 884279719003555/562949953421312)*cos(q_3 + 884279719003555/281474976710656))*cos(q_4 + 884279719003555/281474976710656) + sin(q_1)*sin(q_4 + 884279719003555/281474976710656))*cos(q_5 + 884279719003555/281474976710656) + (sin(q_2 + 884279719003555/562949953421312)*cos(q_1)*cos(q_3 + 884279719003555/281474976710656) + sin(q_3 + 884279719003555/281474976710656)*cos(q_1)*cos(q_2 + 884279719003555/562949953421312))*sin(q_5 + 884279719003555/281474976710656))*sin(q_6) + ((-sin(q_2 + 884279719003555/562949953421312)*sin(q_3 + 884279719003555/281474976710656)*cos(q_1) + cos(q_1)*cos(q_2 + 884279719003555/562949953421312)*cos(q_3 + 884279719003555/281474976710656))*sin(q_4 + 884279719003555/281474976710656) - sin(q_1)*cos(q_4 + 884279719003555/281474976710656))*cos(q_6), ((-sin(q_2 + 884279719003555/562949953421312)*sin(q_3 + 884279719003555/281474976710656)*cos(q_1) + cos(q_1)*cos(q_2 + 884279719003555/562949953421312)*cos(q_3 + 884279719003555/281474976710656))*cos(q_4 + 884279719003555/281474976710656) + sin(q_1)*sin(q_4 + 884279719003555/281474976710656))*sin(q_5 + 884279719003555/281474976710656) - (sin(q_2 + 884279719003555/562949953421312)*cos(q_1)*cos(q_3 + 884279719003555/281474976710656) + sin(q_3 + 884279719003555/281474976710656)*cos(q_1)*cos(q_2 + 884279719003555/562949953421312))*cos(q_5 + 884279719003555/281474976710656), ((-sin(q_2 + 884279719003555/562949953421312)*sin(q_3 + 884279719003555/281474976710656)*cos(q_1) + cos(q_1)*cos(q_2 + 884279719003555/562949953421312)*cos(q_3 + 884279719003555/281474976710656))*cos(q_4 + 884279719003555/281474976710656) + sin(q_1)*sin(q_4 + 884279719003555/281474976710656))*sin(q_5 + 884279719003555/281474976710656)/5 - (sin(q_2 + 884279719003555/562949953421312)*cos(q_1)*cos(q_3 + 884279719003555/281474976710656) + sin(q_3 + 884279719003555/281474976710656)*cos(q_1)*cos(q_2 + 884279719003555/562949953421312))*cos(q_5 + 884279719003555/281474976710656)/5 + sin(q_2 + 884279719003555/562949953421312)*cos(q_1)*cos(q_3 + 884279719003555/281474976710656) + sin(q_3 + 884279719003555/281474976710656)*cos(q_1)*cos(q_2 + 884279719003555/562949953421312) + cos(q_1)*cos(q_2 + 884279719003555/562949953421312)],\n",
       "[(((-sin(q_1)*sin(q_2 + 884279719003555/562949953421312)*sin(q_3 + 884279719003555/281474976710656) + sin(q_1)*cos(q_2 + 884279719003555/562949953421312)*cos(q_3 + 884279719003555/281474976710656))*cos(q_4 + 884279719003555/281474976710656) - sin(q_4 + 884279719003555/281474976710656)*cos(q_1))*cos(q_5 + 884279719003555/281474976710656) + (sin(q_1)*sin(q_2 + 884279719003555/562949953421312)*cos(q_3 + 884279719003555/281474976710656) + sin(q_1)*sin(q_3 + 884279719003555/281474976710656)*cos(q_2 + 884279719003555/562949953421312))*sin(q_5 + 884279719003555/281474976710656))*cos(q_6) + ((-sin(q_1)*sin(q_2 + 884279719003555/562949953421312)*sin(q_3 + 884279719003555/281474976710656) + sin(q_1)*cos(q_2 + 884279719003555/562949953421312)*cos(q_3 + 884279719003555/281474976710656))*sin(q_4 + 884279719003555/281474976710656) + cos(q_1)*cos(q_4 + 884279719003555/281474976710656))*sin(q_6), -(((-sin(q_1)*sin(q_2 + 884279719003555/562949953421312)*sin(q_3 + 884279719003555/281474976710656) + sin(q_1)*cos(q_2 + 884279719003555/562949953421312)*cos(q_3 + 884279719003555/281474976710656))*cos(q_4 + 884279719003555/281474976710656) - sin(q_4 + 884279719003555/281474976710656)*cos(q_1))*cos(q_5 + 884279719003555/281474976710656) + (sin(q_1)*sin(q_2 + 884279719003555/562949953421312)*cos(q_3 + 884279719003555/281474976710656) + sin(q_1)*sin(q_3 + 884279719003555/281474976710656)*cos(q_2 + 884279719003555/562949953421312))*sin(q_5 + 884279719003555/281474976710656))*sin(q_6) + ((-sin(q_1)*sin(q_2 + 884279719003555/562949953421312)*sin(q_3 + 884279719003555/281474976710656) + sin(q_1)*cos(q_2 + 884279719003555/562949953421312)*cos(q_3 + 884279719003555/281474976710656))*sin(q_4 + 884279719003555/281474976710656) + cos(q_1)*cos(q_4 + 884279719003555/281474976710656))*cos(q_6), ((-sin(q_1)*sin(q_2 + 884279719003555/562949953421312)*sin(q_3 + 884279719003555/281474976710656) + sin(q_1)*cos(q_2 + 884279719003555/562949953421312)*cos(q_3 + 884279719003555/281474976710656))*cos(q_4 + 884279719003555/281474976710656) - sin(q_4 + 884279719003555/281474976710656)*cos(q_1))*sin(q_5 + 884279719003555/281474976710656) - (sin(q_1)*sin(q_2 + 884279719003555/562949953421312)*cos(q_3 + 884279719003555/281474976710656) + sin(q_1)*sin(q_3 + 884279719003555/281474976710656)*cos(q_2 + 884279719003555/562949953421312))*cos(q_5 + 884279719003555/281474976710656), ((-sin(q_1)*sin(q_2 + 884279719003555/562949953421312)*sin(q_3 + 884279719003555/281474976710656) + sin(q_1)*cos(q_2 + 884279719003555/562949953421312)*cos(q_3 + 884279719003555/281474976710656))*cos(q_4 + 884279719003555/281474976710656) - sin(q_4 + 884279719003555/281474976710656)*cos(q_1))*sin(q_5 + 884279719003555/281474976710656)/5 - (sin(q_1)*sin(q_2 + 884279719003555/562949953421312)*cos(q_3 + 884279719003555/281474976710656) + sin(q_1)*sin(q_3 + 884279719003555/281474976710656)*cos(q_2 + 884279719003555/562949953421312))*cos(q_5 + 884279719003555/281474976710656)/5 + sin(q_1)*sin(q_2 + 884279719003555/562949953421312)*cos(q_3 + 884279719003555/281474976710656) + sin(q_1)*sin(q_3 + 884279719003555/281474976710656)*cos(q_2 + 884279719003555/562949953421312) + sin(q_1)*cos(q_2 + 884279719003555/562949953421312)],\n",
       "[                                                                                                                                                                        ((sin(q_2 + 884279719003555/562949953421312)*sin(q_3 + 884279719003555/281474976710656) - cos(q_2 + 884279719003555/562949953421312)*cos(q_3 + 884279719003555/281474976710656))*sin(q_5 + 884279719003555/281474976710656) + (sin(q_2 + 884279719003555/562949953421312)*cos(q_3 + 884279719003555/281474976710656) + sin(q_3 + 884279719003555/281474976710656)*cos(q_2 + 884279719003555/562949953421312))*cos(q_4 + 884279719003555/281474976710656)*cos(q_5 + 884279719003555/281474976710656))*cos(q_6) + (sin(q_2 + 884279719003555/562949953421312)*cos(q_3 + 884279719003555/281474976710656) + sin(q_3 + 884279719003555/281474976710656)*cos(q_2 + 884279719003555/562949953421312))*sin(q_6)*sin(q_4 + 884279719003555/281474976710656),                                                                                                                                                                         -((sin(q_2 + 884279719003555/562949953421312)*sin(q_3 + 884279719003555/281474976710656) - cos(q_2 + 884279719003555/562949953421312)*cos(q_3 + 884279719003555/281474976710656))*sin(q_5 + 884279719003555/281474976710656) + (sin(q_2 + 884279719003555/562949953421312)*cos(q_3 + 884279719003555/281474976710656) + sin(q_3 + 884279719003555/281474976710656)*cos(q_2 + 884279719003555/562949953421312))*cos(q_4 + 884279719003555/281474976710656)*cos(q_5 + 884279719003555/281474976710656))*sin(q_6) + (sin(q_2 + 884279719003555/562949953421312)*cos(q_3 + 884279719003555/281474976710656) + sin(q_3 + 884279719003555/281474976710656)*cos(q_2 + 884279719003555/562949953421312))*sin(q_4 + 884279719003555/281474976710656)*cos(q_6),                                                                                             -(sin(q_2 + 884279719003555/562949953421312)*sin(q_3 + 884279719003555/281474976710656) - cos(q_2 + 884279719003555/562949953421312)*cos(q_3 + 884279719003555/281474976710656))*cos(q_5 + 884279719003555/281474976710656) + (sin(q_2 + 884279719003555/562949953421312)*cos(q_3 + 884279719003555/281474976710656) + sin(q_3 + 884279719003555/281474976710656)*cos(q_2 + 884279719003555/562949953421312))*sin(q_5 + 884279719003555/281474976710656)*cos(q_4 + 884279719003555/281474976710656),                                                                                                                  -(sin(q_2 + 884279719003555/562949953421312)*sin(q_3 + 884279719003555/281474976710656) - cos(q_2 + 884279719003555/562949953421312)*cos(q_3 + 884279719003555/281474976710656))*cos(q_5 + 884279719003555/281474976710656)/5 + (sin(q_2 + 884279719003555/562949953421312)*cos(q_3 + 884279719003555/281474976710656) + sin(q_3 + 884279719003555/281474976710656)*cos(q_2 + 884279719003555/562949953421312))*sin(q_5 + 884279719003555/281474976710656)*cos(q_4 + 884279719003555/281474976710656)/5 + sin(q_2 + 884279719003555/562949953421312)*sin(q_3 + 884279719003555/281474976710656) + sin(q_2 + 884279719003555/562949953421312) - cos(q_2 + 884279719003555/562949953421312)*cos(q_3 + 884279719003555/281474976710656) + 1/5],\n",
       "[                                                                                                                                                                                                                                                                                                                                                                                                                                                                                                                                                                                                                                                                                                                                                                                                                                                                                                                          0,                                                                                                                                                                                                                                                                                                                                                                                                                                                                                                                                                                                                                                                                                                                                                                                                                                                                                                                            0,                                                                                                                                                                                                                                                                                                                                                                                                                                                                                                                                                                                               0,                                                                                                                                                                                                                                                                                                                                                                                                                                                                                                                                                                                                                                                                                                                                                                                                                                                           1]])"
      ]
     },
     "execution_count": 53,
     "metadata": {},
     "output_type": "execute_result"
    }
   ],
   "source": [
    "L = [0.2, 1, 1, 0.2]\n",
    "T1 = DenavitRow(0,      L[0],   0,      pi/2,   Joint(sympy.Symbol('q_1'),JointType.ROTATIONAL))\n",
    "T2 = DenavitRow(pi/2,   0,      L[1],   0,      Joint(sympy.Symbol('q_2'),JointType.ROTATIONAL))\n",
    "T3 = DenavitRow(pi,     0,      0,      pi/2,   Joint(sympy.Symbol('q_3'),JointType.ROTATIONAL))\n",
    "# T_ = DenavitRow(pi/2,   0.02,       0,      pi/2)\n",
    "T4 = DenavitRow(pi,     L[2],   0,      pi/2,   Joint(sympy.Symbol('q_4'),JointType.ROTATIONAL))\n",
    "T5 = DenavitRow(pi,     0,      0,      pi/2,   Joint(sympy.Symbol('q_5'),JointType.ROTATIONAL))\n",
    "T6 = DenavitRow(0,      L[3],   0,      0,      Joint(sympy.Symbol('q_6'),JointType.ROTATIONAL))\n",
    "\n",
    "T_articular6 = DenavitDK((T1,T2,T3,T4,T5,T6))\n",
    "T_articular6.directTransformSym"
   ]
  },
  {
   "cell_type": "code",
   "execution_count": 54,
   "metadata": {},
   "outputs": [],
   "source": [
    "# T_articular6.genURDF()\n",
    "# T_articular6.genCCode()"
   ]
  },
  {
   "cell_type": "code",
   "execution_count": 55,
   "metadata": {},
   "outputs": [
    {
     "data": {
      "text/plain": [
       "array([[ 0.21667169, -0.26112258,  0.94067443, -0.04166873],\n",
       "       [-0.95867353, -0.23890322,  0.1545002 , -0.32699789],\n",
       "       [ 0.18438665, -0.93527549, -0.30209487, -0.2294141 ],\n",
       "       [ 0.        ,  0.        ,  0.        ,  1.        ]])"
      ]
     },
     "execution_count": 55,
     "metadata": {},
     "output_type": "execute_result"
    }
   ],
   "source": [
    "pose = T_articular6.eval((1,1,1,1,1,1))\n",
    "pose"
   ]
  },
  {
   "cell_type": "code",
   "execution_count": 56,
   "metadata": {},
   "outputs": [
    {
     "name": "stdout",
     "output_type": "stream",
     "text": [
      "0.5303672509456662\n",
      "0.133090897045223\n",
      "0.19805321952668054\n",
      "0.058096235857168416\n",
      "0.017616481038508602\n",
      "0.0009623456241789342\n",
      "1.7876297332903563e-06\n",
      "18.1211469665257\n",
      "2.144665599089547\n",
      "0.25126644087095346\n",
      "0.003841054137820905\n",
      "8.995987686442113e-07\n",
      "Solution with error 8.995987686442113e-07 with 995 iterations left\n"
     ]
    },
    {
     "data": {
      "text/plain": [
       "array([[4.14111614],\n",
       "       [5.28242959],\n",
       "       [2.14099392],\n",
       "       [4.14151468],\n",
       "       [0.99935058],\n",
       "       [0.99891701]])"
      ]
     },
     "execution_count": 56,
     "metadata": {},
     "output_type": "execute_result"
    }
   ],
   "source": [
    "T_articular6.inverseEval([0,0,0,0,0,0],pose)"
   ]
  },
  {
   "cell_type": "markdown",
   "metadata": {},
   "source": [
    "## 6 DOF robot with transformations in between"
   ]
  },
  {
   "cell_type": "code",
   "execution_count": 57,
   "metadata": {},
   "outputs": [],
   "source": [
    "Lv = 50\n",
    "T1 = DenavitRow(0,      0,          0,     -pi/2,   Joint(sympy.Symbol('q_1'),JointType.ROTATIONAL,upper_limit=pi/2,lower_limit=-pi/2))\n",
    "T2 = DenavitRow(0,      0,          Lv,     0,      Joint(sympy.Symbol('q_2'),JointType.ROTATIONAL))\n",
    "T3 = DenavitRow(0,      -0.0425,    Lv,     pi/2,   Joint(sympy.Symbol('q_3'),JointType.ROTATIONAL))\n",
    "T_ = DenavitRow(pi/2,   0.02,       0,      pi/2)\n",
    "T4 = DenavitRow(pi/2,   0,          0,      pi/2,   Joint(sympy.Symbol('q_4'),JointType.ROTATIONAL))\n",
    "T5 = DenavitRow(pi/2,   0,          0,      pi/2,   Joint(sympy.Symbol('q_5'),JointType.ROTATIONAL))\n",
    "T6 = DenavitRow(0,      0,          0,      0,      Joint(sympy.Symbol('q_6'),JointType.ROTATIONAL))\n",
    "TCP = DenavitRow(0,     0,          10,     0)\n",
    "\n",
    "T_walter = DenavitDK((T1,T2,T3,T_,T4,T5,T6,TCP),\"Walter\")"
   ]
  },
  {
   "cell_type": "code",
   "execution_count": 58,
   "metadata": {},
   "outputs": [],
   "source": [
    "# T_walter.genURDF()\n",
    "# T_walter.genCCode()"
   ]
  }
 ],
 "metadata": {
  "kernelspec": {
   "display_name": "Python 3.7.4 64-bit",
   "language": "python",
   "name": "python3"
  },
  "language_info": {
   "codemirror_mode": {
    "name": "ipython",
    "version": 3
   },
   "file_extension": ".py",
   "mimetype": "text/x-python",
   "name": "python",
   "nbconvert_exporter": "python",
   "pygments_lexer": "ipython3",
   "version": "3.7.4"
  },
  "orig_nbformat": 4,
  "vscode": {
   "interpreter": {
    "hash": "1fe14b4add03ae38573eb06091088804124a960722df5dd1669e7e782fa9e5a9"
   }
  }
 },
 "nbformat": 4,
 "nbformat_minor": 2
}
