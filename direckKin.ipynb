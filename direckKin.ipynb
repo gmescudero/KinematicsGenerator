{
 "cells": [
  {
   "cell_type": "markdown",
   "metadata": {},
   "source": [
    "# Kinematic generator\n",
    "This notebook converts a Denavit Hartenberg table to its kinematic symbolic calculation and its jacobian."
   ]
  },
  {
   "cell_type": "code",
   "execution_count": 1,
   "metadata": {},
   "outputs": [],
   "source": [
    "from cmath import pi\n",
    "import numpy as np\n",
    "import sympy\n",
    "# from sympy.abc import x,y,z,a,d\n",
    "from kinematicBuilder import *\n",
    "\n",
    "# import sys\n",
    "# sys.set_int_max_str_digits(0)"
   ]
  },
  {
   "cell_type": "markdown",
   "metadata": {},
   "source": [
    "# Examples"
   ]
  },
  {
   "cell_type": "markdown",
   "metadata": {},
   "source": [
    "## Human arm model"
   ]
  },
  {
   "cell_type": "markdown",
   "metadata": {},
   "source": [
    "### Human Arm (8 DOF)\n",
    "Human arm modeled as 3 rotational joints for the shoulder (abduction, flexion, rotation), 2 joints for the elbow (flexion, pronation), 2 joints for the wrist and one of the hand"
   ]
  },
  {
   "cell_type": "code",
   "execution_count": 2,
   "metadata": {},
   "outputs": [],
   "source": [
    "ar = 10\n",
    "fa = 5\n",
    "palm = 1\n",
    "fing = 1.2\n",
    "\n",
    "T_shz = DenavitRow(0    , 0  , 0    , -pi/2, Joint(sympy.Symbol('sh_z'),JointType.ROTATIONAL,upper_limit=165*pi/180, lower_limit=-pi/2))\n",
    "T_shy = DenavitRow(pi/2 , 0  , 0    , pi/2,  Joint(sympy.Symbol('sh_y'),JointType.ROTATIONAL,upper_limit=pi/2,       lower_limit=-pi/2))\n",
    "T_shx = DenavitRow(-pi/2, -ar, 0    , pi/2,  Joint(sympy.Symbol('sh_x'),JointType.ROTATIONAL,upper_limit=pi/2,       lower_limit=-pi/2))\n",
    "T_elz = DenavitRow(0    , 0  , 0    , -pi/2, Joint(sympy.Symbol('el_z'),JointType.ROTATIONAL,upper_limit=165*pi/180, lower_limit=0))\n",
    "T_elx = DenavitRow(0    , -fa, 0    , pi/2,  Joint(sympy.Symbol('el_x'),JointType.ROTATIONAL,upper_limit=pi/6,       lower_limit=-110*pi/180))\n",
    "T_wrz = DenavitRow(pi/2 , 0  , 0    , -pi/2, Joint(sympy.Symbol('wr_z'),JointType.ROTATIONAL,upper_limit=10*pi/180,  lower_limit=-pi/6))\n",
    "T_wry = DenavitRow(0    , 0  , -palm, 0,     Joint(sympy.Symbol('wr_y'),JointType.ROTATIONAL,upper_limit=pi/3,       lower_limit=-pi/2))\n",
    "T_hdy = DenavitRow(0    , 0  , -fing, 0,     Joint(sympy.Symbol('hd_y'),JointType.ROTATIONAL,upper_limit=5*pi/180,   lower_limit=-pi/2))"
   ]
  },
  {
   "cell_type": "code",
   "execution_count": 3,
   "metadata": {},
   "outputs": [],
   "source": [
    "T_arm8 = DenavitDK((T_shz,T_shy,T_shx,T_elz,T_elx,T_wrz,T_wry,T_hdy),\"humanArm8\")\n",
    "T_arm8.genURDF()"
   ]
  },
  {
   "cell_type": "markdown",
   "metadata": {},
   "source": [
    "### Human Arm (5 DOF)\n",
    "Human arm modeled as 3 rotational joints for the shoulder (abduction, flexion, rotation), 2 joints for the elbow (flexion, pronation) and a fixed thumb"
   ]
  },
  {
   "cell_type": "code",
   "execution_count": 4,
   "metadata": {},
   "outputs": [],
   "source": [
    "thumb = 0.8\n",
    "T_thb = DenavitRow(0, 0, thumb, 0)\n",
    "\n",
    "T_arm5 = DenavitDK((T_shz,T_shy,T_shx,T_elz,T_elx,T_thb),\"humanArm5\")\n",
    "T_arm5.genURDF()"
   ]
  },
  {
   "cell_type": "markdown",
   "metadata": {},
   "source": [
    "## 3 DOF Cartesian \n",
    "A 3 DOF Cartesian robot with 3 prismatic joints from [The Ultimate Guide to Jacobian Matrices for Robotics](https://automaticaddison.com/the-ultimate-guide-to-jacobian-matrices-for-robotics/)"
   ]
  },
  {
   "cell_type": "code",
   "execution_count": 5,
   "metadata": {},
   "outputs": [],
   "source": [
    "T1 = DenavitRow(pi/2,   0, 0, pi/2,  Joint(sympy.Symbol('q_1'),JointType.PRISMATIC))\n",
    "T2 = DenavitRow(pi/2,   0, 0, -pi/2, Joint(sympy.Symbol('q_2'),JointType.PRISMATIC))\n",
    "T3 = DenavitRow(0,      0, 0, 0,     Joint(sympy.Symbol('q_3'),JointType.PRISMATIC))\n",
    "\n",
    "T_cartesian = DenavitDK((T1,T2,T3),\"Cartesian\")"
   ]
  },
  {
   "cell_type": "code",
   "execution_count": 6,
   "metadata": {},
   "outputs": [
    {
     "name": "stdout",
     "output_type": "stream",
     "text": [
      "0.0\n",
      "Solution with error 0.0 in 1 iterations\n"
     ]
    },
    {
     "data": {
      "text/plain": [
       "array([ 3.,  1., -2.])"
      ]
     },
     "execution_count": 6,
     "metadata": {},
     "output_type": "execute_result"
    }
   ],
   "source": [
    "T_cartesian.inversePositionEval([0,0,0],[1,2,3])"
   ]
  },
  {
   "cell_type": "code",
   "execution_count": 7,
   "metadata": {},
   "outputs": [],
   "source": [
    "# T_cartesian.genURDF()"
   ]
  },
  {
   "cell_type": "code",
   "execution_count": 8,
   "metadata": {},
   "outputs": [
    {
     "data": {
      "text/latex": [
       "$\\displaystyle \\left[\\begin{matrix}q_{2}\\\\- q_{3}\\\\q_{1}\\\\0\\\\0\\\\0\\end{matrix}\\right]$"
      ],
      "text/plain": [
       "Matrix([\n",
       "[ q_2],\n",
       "[-q_3],\n",
       "[ q_1],\n",
       "[   0],\n",
       "[   0],\n",
       "[   0]])"
      ]
     },
     "execution_count": 8,
     "metadata": {},
     "output_type": "execute_result"
    }
   ],
   "source": [
    "cartesian = T_cartesian.jacobian * T_cartesian.jointsSym\n",
    "cartesian"
   ]
  },
  {
   "cell_type": "code",
   "execution_count": 9,
   "metadata": {},
   "outputs": [
    {
     "data": {
      "text/plain": [
       "array([[ 0, -1,  0,  0],\n",
       "       [ 0,  0, -1,  0],\n",
       "       [ 1,  0,  0,  0],\n",
       "       [ 0,  0,  0,  1]])"
      ]
     },
     "execution_count": 9,
     "metadata": {},
     "output_type": "execute_result"
    }
   ],
   "source": [
    "joint_values = (0, 0, 0)\n",
    "T_cartesian.eval(joint_values)"
   ]
  },
  {
   "cell_type": "markdown",
   "metadata": {},
   "source": [
    "## 3 DOF Articulated Robot\n",
    "A 3 DOF Articulated robot with 3 rotational joints from [The Ultimate Guide to Jacobian Matrices for Robotics](https://automaticaddison.com/the-ultimate-guide-to-jacobian-matrices-for-robotics/)"
   ]
  },
  {
   "cell_type": "code",
   "execution_count": 10,
   "metadata": {},
   "outputs": [],
   "source": [
    "T1 = DenavitRow(0,  1.5, 0,   pi/2, Joint(sympy.Symbol('q_1'),JointType.ROTATIONAL))\n",
    "T2 = DenavitRow(0,  0,  1,  0,    Joint(sympy.Symbol('q_2'),JointType.ROTATIONAL))\n",
    "T3 = DenavitRow(0,  0,  0.5,  0,    Joint(sympy.Symbol('q_3'),JointType.ROTATIONAL))\n",
    "\n",
    "T_articular3 = DenavitDK((T1,T2,T3))"
   ]
  },
  {
   "cell_type": "code",
   "execution_count": 11,
   "metadata": {},
   "outputs": [],
   "source": [
    "# A=T_articular3.directTransformSym\n",
    "# U,S,V = A.singular_value_decomposition() # Memory error"
   ]
  },
  {
   "cell_type": "code",
   "execution_count": 12,
   "metadata": {},
   "outputs": [
    {
     "data": {
      "text/plain": [
       "array([[ 1. , -0. ,  0. ,  1.5],\n",
       "       [ 0. , -0. , -1. ,  0. ],\n",
       "       [ 0. ,  1. ,  0. ,  1.5],\n",
       "       [ 0. ,  0. ,  0. ,  1. ]])"
      ]
     },
     "execution_count": 12,
     "metadata": {},
     "output_type": "execute_result"
    }
   ],
   "source": [
    "joint_values = (0, 0, 0)\n",
    "T_articular3.eval(joint_values)"
   ]
  },
  {
   "cell_type": "markdown",
   "metadata": {},
   "source": [
    "## 6 DOF articular\n",
    "A 6 DOF articular robot that follows the following scheme: \n",
    "<!-- ![axes](axes_diagram.png) -->\n",
    "<img src=\"axes_diagram.png\" alt=\"axes_diagram\" width=\"400\"/>"
   ]
  },
  {
   "cell_type": "code",
   "execution_count": 13,
   "metadata": {},
   "outputs": [
    {
     "data": {
      "text/latex": [
       "$\\displaystyle \\left[\\begin{matrix}\\left(\\left(\\left(- \\sin{\\left(q_{2} + \\frac{884279719003555}{562949953421312} \\right)} \\sin{\\left(q_{3} + \\frac{884279719003555}{281474976710656} \\right)} \\cos{\\left(q_{1} \\right)} + \\cos{\\left(q_{1} \\right)} \\cos{\\left(q_{2} + \\frac{884279719003555}{562949953421312} \\right)} \\cos{\\left(q_{3} + \\frac{884279719003555}{281474976710656} \\right)}\\right) \\cos{\\left(q_{4} + \\frac{884279719003555}{281474976710656} \\right)} + \\sin{\\left(q_{1} \\right)} \\sin{\\left(q_{4} + \\frac{884279719003555}{281474976710656} \\right)}\\right) \\cos{\\left(q_{5} + \\frac{884279719003555}{281474976710656} \\right)} + \\left(\\sin{\\left(q_{2} + \\frac{884279719003555}{562949953421312} \\right)} \\cos{\\left(q_{1} \\right)} \\cos{\\left(q_{3} + \\frac{884279719003555}{281474976710656} \\right)} + \\sin{\\left(q_{3} + \\frac{884279719003555}{281474976710656} \\right)} \\cos{\\left(q_{1} \\right)} \\cos{\\left(q_{2} + \\frac{884279719003555}{562949953421312} \\right)}\\right) \\sin{\\left(q_{5} + \\frac{884279719003555}{281474976710656} \\right)}\\right) \\cos{\\left(q_{6} \\right)} + \\left(\\left(- \\sin{\\left(q_{2} + \\frac{884279719003555}{562949953421312} \\right)} \\sin{\\left(q_{3} + \\frac{884279719003555}{281474976710656} \\right)} \\cos{\\left(q_{1} \\right)} + \\cos{\\left(q_{1} \\right)} \\cos{\\left(q_{2} + \\frac{884279719003555}{562949953421312} \\right)} \\cos{\\left(q_{3} + \\frac{884279719003555}{281474976710656} \\right)}\\right) \\sin{\\left(q_{4} + \\frac{884279719003555}{281474976710656} \\right)} - \\sin{\\left(q_{1} \\right)} \\cos{\\left(q_{4} + \\frac{884279719003555}{281474976710656} \\right)}\\right) \\sin{\\left(q_{6} \\right)} & - \\left(\\left(\\left(- \\sin{\\left(q_{2} + \\frac{884279719003555}{562949953421312} \\right)} \\sin{\\left(q_{3} + \\frac{884279719003555}{281474976710656} \\right)} \\cos{\\left(q_{1} \\right)} + \\cos{\\left(q_{1} \\right)} \\cos{\\left(q_{2} + \\frac{884279719003555}{562949953421312} \\right)} \\cos{\\left(q_{3} + \\frac{884279719003555}{281474976710656} \\right)}\\right) \\cos{\\left(q_{4} + \\frac{884279719003555}{281474976710656} \\right)} + \\sin{\\left(q_{1} \\right)} \\sin{\\left(q_{4} + \\frac{884279719003555}{281474976710656} \\right)}\\right) \\cos{\\left(q_{5} + \\frac{884279719003555}{281474976710656} \\right)} + \\left(\\sin{\\left(q_{2} + \\frac{884279719003555}{562949953421312} \\right)} \\cos{\\left(q_{1} \\right)} \\cos{\\left(q_{3} + \\frac{884279719003555}{281474976710656} \\right)} + \\sin{\\left(q_{3} + \\frac{884279719003555}{281474976710656} \\right)} \\cos{\\left(q_{1} \\right)} \\cos{\\left(q_{2} + \\frac{884279719003555}{562949953421312} \\right)}\\right) \\sin{\\left(q_{5} + \\frac{884279719003555}{281474976710656} \\right)}\\right) \\sin{\\left(q_{6} \\right)} + \\left(\\left(- \\sin{\\left(q_{2} + \\frac{884279719003555}{562949953421312} \\right)} \\sin{\\left(q_{3} + \\frac{884279719003555}{281474976710656} \\right)} \\cos{\\left(q_{1} \\right)} + \\cos{\\left(q_{1} \\right)} \\cos{\\left(q_{2} + \\frac{884279719003555}{562949953421312} \\right)} \\cos{\\left(q_{3} + \\frac{884279719003555}{281474976710656} \\right)}\\right) \\sin{\\left(q_{4} + \\frac{884279719003555}{281474976710656} \\right)} - \\sin{\\left(q_{1} \\right)} \\cos{\\left(q_{4} + \\frac{884279719003555}{281474976710656} \\right)}\\right) \\cos{\\left(q_{6} \\right)} & \\left(\\left(- \\sin{\\left(q_{2} + \\frac{884279719003555}{562949953421312} \\right)} \\sin{\\left(q_{3} + \\frac{884279719003555}{281474976710656} \\right)} \\cos{\\left(q_{1} \\right)} + \\cos{\\left(q_{1} \\right)} \\cos{\\left(q_{2} + \\frac{884279719003555}{562949953421312} \\right)} \\cos{\\left(q_{3} + \\frac{884279719003555}{281474976710656} \\right)}\\right) \\cos{\\left(q_{4} + \\frac{884279719003555}{281474976710656} \\right)} + \\sin{\\left(q_{1} \\right)} \\sin{\\left(q_{4} + \\frac{884279719003555}{281474976710656} \\right)}\\right) \\sin{\\left(q_{5} + \\frac{884279719003555}{281474976710656} \\right)} - \\left(\\sin{\\left(q_{2} + \\frac{884279719003555}{562949953421312} \\right)} \\cos{\\left(q_{1} \\right)} \\cos{\\left(q_{3} + \\frac{884279719003555}{281474976710656} \\right)} + \\sin{\\left(q_{3} + \\frac{884279719003555}{281474976710656} \\right)} \\cos{\\left(q_{1} \\right)} \\cos{\\left(q_{2} + \\frac{884279719003555}{562949953421312} \\right)}\\right) \\cos{\\left(q_{5} + \\frac{884279719003555}{281474976710656} \\right)} & \\frac{\\left(\\left(- \\sin{\\left(q_{2} + \\frac{884279719003555}{562949953421312} \\right)} \\sin{\\left(q_{3} + \\frac{884279719003555}{281474976710656} \\right)} \\cos{\\left(q_{1} \\right)} + \\cos{\\left(q_{1} \\right)} \\cos{\\left(q_{2} + \\frac{884279719003555}{562949953421312} \\right)} \\cos{\\left(q_{3} + \\frac{884279719003555}{281474976710656} \\right)}\\right) \\cos{\\left(q_{4} + \\frac{884279719003555}{281474976710656} \\right)} + \\sin{\\left(q_{1} \\right)} \\sin{\\left(q_{4} + \\frac{884279719003555}{281474976710656} \\right)}\\right) \\sin{\\left(q_{5} + \\frac{884279719003555}{281474976710656} \\right)}}{5} - \\frac{\\left(\\sin{\\left(q_{2} + \\frac{884279719003555}{562949953421312} \\right)} \\cos{\\left(q_{1} \\right)} \\cos{\\left(q_{3} + \\frac{884279719003555}{281474976710656} \\right)} + \\sin{\\left(q_{3} + \\frac{884279719003555}{281474976710656} \\right)} \\cos{\\left(q_{1} \\right)} \\cos{\\left(q_{2} + \\frac{884279719003555}{562949953421312} \\right)}\\right) \\cos{\\left(q_{5} + \\frac{884279719003555}{281474976710656} \\right)}}{5} + \\sin{\\left(q_{2} + \\frac{884279719003555}{562949953421312} \\right)} \\cos{\\left(q_{1} \\right)} \\cos{\\left(q_{3} + \\frac{884279719003555}{281474976710656} \\right)} + \\sin{\\left(q_{3} + \\frac{884279719003555}{281474976710656} \\right)} \\cos{\\left(q_{1} \\right)} \\cos{\\left(q_{2} + \\frac{884279719003555}{562949953421312} \\right)} + \\cos{\\left(q_{1} \\right)} \\cos{\\left(q_{2} + \\frac{884279719003555}{562949953421312} \\right)}\\\\\\left(\\left(\\left(- \\sin{\\left(q_{1} \\right)} \\sin{\\left(q_{2} + \\frac{884279719003555}{562949953421312} \\right)} \\sin{\\left(q_{3} + \\frac{884279719003555}{281474976710656} \\right)} + \\sin{\\left(q_{1} \\right)} \\cos{\\left(q_{2} + \\frac{884279719003555}{562949953421312} \\right)} \\cos{\\left(q_{3} + \\frac{884279719003555}{281474976710656} \\right)}\\right) \\cos{\\left(q_{4} + \\frac{884279719003555}{281474976710656} \\right)} - \\sin{\\left(q_{4} + \\frac{884279719003555}{281474976710656} \\right)} \\cos{\\left(q_{1} \\right)}\\right) \\cos{\\left(q_{5} + \\frac{884279719003555}{281474976710656} \\right)} + \\left(\\sin{\\left(q_{1} \\right)} \\sin{\\left(q_{2} + \\frac{884279719003555}{562949953421312} \\right)} \\cos{\\left(q_{3} + \\frac{884279719003555}{281474976710656} \\right)} + \\sin{\\left(q_{1} \\right)} \\sin{\\left(q_{3} + \\frac{884279719003555}{281474976710656} \\right)} \\cos{\\left(q_{2} + \\frac{884279719003555}{562949953421312} \\right)}\\right) \\sin{\\left(q_{5} + \\frac{884279719003555}{281474976710656} \\right)}\\right) \\cos{\\left(q_{6} \\right)} + \\left(\\left(- \\sin{\\left(q_{1} \\right)} \\sin{\\left(q_{2} + \\frac{884279719003555}{562949953421312} \\right)} \\sin{\\left(q_{3} + \\frac{884279719003555}{281474976710656} \\right)} + \\sin{\\left(q_{1} \\right)} \\cos{\\left(q_{2} + \\frac{884279719003555}{562949953421312} \\right)} \\cos{\\left(q_{3} + \\frac{884279719003555}{281474976710656} \\right)}\\right) \\sin{\\left(q_{4} + \\frac{884279719003555}{281474976710656} \\right)} + \\cos{\\left(q_{1} \\right)} \\cos{\\left(q_{4} + \\frac{884279719003555}{281474976710656} \\right)}\\right) \\sin{\\left(q_{6} \\right)} & - \\left(\\left(\\left(- \\sin{\\left(q_{1} \\right)} \\sin{\\left(q_{2} + \\frac{884279719003555}{562949953421312} \\right)} \\sin{\\left(q_{3} + \\frac{884279719003555}{281474976710656} \\right)} + \\sin{\\left(q_{1} \\right)} \\cos{\\left(q_{2} + \\frac{884279719003555}{562949953421312} \\right)} \\cos{\\left(q_{3} + \\frac{884279719003555}{281474976710656} \\right)}\\right) \\cos{\\left(q_{4} + \\frac{884279719003555}{281474976710656} \\right)} - \\sin{\\left(q_{4} + \\frac{884279719003555}{281474976710656} \\right)} \\cos{\\left(q_{1} \\right)}\\right) \\cos{\\left(q_{5} + \\frac{884279719003555}{281474976710656} \\right)} + \\left(\\sin{\\left(q_{1} \\right)} \\sin{\\left(q_{2} + \\frac{884279719003555}{562949953421312} \\right)} \\cos{\\left(q_{3} + \\frac{884279719003555}{281474976710656} \\right)} + \\sin{\\left(q_{1} \\right)} \\sin{\\left(q_{3} + \\frac{884279719003555}{281474976710656} \\right)} \\cos{\\left(q_{2} + \\frac{884279719003555}{562949953421312} \\right)}\\right) \\sin{\\left(q_{5} + \\frac{884279719003555}{281474976710656} \\right)}\\right) \\sin{\\left(q_{6} \\right)} + \\left(\\left(- \\sin{\\left(q_{1} \\right)} \\sin{\\left(q_{2} + \\frac{884279719003555}{562949953421312} \\right)} \\sin{\\left(q_{3} + \\frac{884279719003555}{281474976710656} \\right)} + \\sin{\\left(q_{1} \\right)} \\cos{\\left(q_{2} + \\frac{884279719003555}{562949953421312} \\right)} \\cos{\\left(q_{3} + \\frac{884279719003555}{281474976710656} \\right)}\\right) \\sin{\\left(q_{4} + \\frac{884279719003555}{281474976710656} \\right)} + \\cos{\\left(q_{1} \\right)} \\cos{\\left(q_{4} + \\frac{884279719003555}{281474976710656} \\right)}\\right) \\cos{\\left(q_{6} \\right)} & \\left(\\left(- \\sin{\\left(q_{1} \\right)} \\sin{\\left(q_{2} + \\frac{884279719003555}{562949953421312} \\right)} \\sin{\\left(q_{3} + \\frac{884279719003555}{281474976710656} \\right)} + \\sin{\\left(q_{1} \\right)} \\cos{\\left(q_{2} + \\frac{884279719003555}{562949953421312} \\right)} \\cos{\\left(q_{3} + \\frac{884279719003555}{281474976710656} \\right)}\\right) \\cos{\\left(q_{4} + \\frac{884279719003555}{281474976710656} \\right)} - \\sin{\\left(q_{4} + \\frac{884279719003555}{281474976710656} \\right)} \\cos{\\left(q_{1} \\right)}\\right) \\sin{\\left(q_{5} + \\frac{884279719003555}{281474976710656} \\right)} - \\left(\\sin{\\left(q_{1} \\right)} \\sin{\\left(q_{2} + \\frac{884279719003555}{562949953421312} \\right)} \\cos{\\left(q_{3} + \\frac{884279719003555}{281474976710656} \\right)} + \\sin{\\left(q_{1} \\right)} \\sin{\\left(q_{3} + \\frac{884279719003555}{281474976710656} \\right)} \\cos{\\left(q_{2} + \\frac{884279719003555}{562949953421312} \\right)}\\right) \\cos{\\left(q_{5} + \\frac{884279719003555}{281474976710656} \\right)} & \\frac{\\left(\\left(- \\sin{\\left(q_{1} \\right)} \\sin{\\left(q_{2} + \\frac{884279719003555}{562949953421312} \\right)} \\sin{\\left(q_{3} + \\frac{884279719003555}{281474976710656} \\right)} + \\sin{\\left(q_{1} \\right)} \\cos{\\left(q_{2} + \\frac{884279719003555}{562949953421312} \\right)} \\cos{\\left(q_{3} + \\frac{884279719003555}{281474976710656} \\right)}\\right) \\cos{\\left(q_{4} + \\frac{884279719003555}{281474976710656} \\right)} - \\sin{\\left(q_{4} + \\frac{884279719003555}{281474976710656} \\right)} \\cos{\\left(q_{1} \\right)}\\right) \\sin{\\left(q_{5} + \\frac{884279719003555}{281474976710656} \\right)}}{5} - \\frac{\\left(\\sin{\\left(q_{1} \\right)} \\sin{\\left(q_{2} + \\frac{884279719003555}{562949953421312} \\right)} \\cos{\\left(q_{3} + \\frac{884279719003555}{281474976710656} \\right)} + \\sin{\\left(q_{1} \\right)} \\sin{\\left(q_{3} + \\frac{884279719003555}{281474976710656} \\right)} \\cos{\\left(q_{2} + \\frac{884279719003555}{562949953421312} \\right)}\\right) \\cos{\\left(q_{5} + \\frac{884279719003555}{281474976710656} \\right)}}{5} + \\sin{\\left(q_{1} \\right)} \\sin{\\left(q_{2} + \\frac{884279719003555}{562949953421312} \\right)} \\cos{\\left(q_{3} + \\frac{884279719003555}{281474976710656} \\right)} + \\sin{\\left(q_{1} \\right)} \\sin{\\left(q_{3} + \\frac{884279719003555}{281474976710656} \\right)} \\cos{\\left(q_{2} + \\frac{884279719003555}{562949953421312} \\right)} + \\sin{\\left(q_{1} \\right)} \\cos{\\left(q_{2} + \\frac{884279719003555}{562949953421312} \\right)}\\\\\\left(\\left(\\sin{\\left(q_{2} + \\frac{884279719003555}{562949953421312} \\right)} \\sin{\\left(q_{3} + \\frac{884279719003555}{281474976710656} \\right)} - \\cos{\\left(q_{2} + \\frac{884279719003555}{562949953421312} \\right)} \\cos{\\left(q_{3} + \\frac{884279719003555}{281474976710656} \\right)}\\right) \\sin{\\left(q_{5} + \\frac{884279719003555}{281474976710656} \\right)} + \\left(\\sin{\\left(q_{2} + \\frac{884279719003555}{562949953421312} \\right)} \\cos{\\left(q_{3} + \\frac{884279719003555}{281474976710656} \\right)} + \\sin{\\left(q_{3} + \\frac{884279719003555}{281474976710656} \\right)} \\cos{\\left(q_{2} + \\frac{884279719003555}{562949953421312} \\right)}\\right) \\cos{\\left(q_{4} + \\frac{884279719003555}{281474976710656} \\right)} \\cos{\\left(q_{5} + \\frac{884279719003555}{281474976710656} \\right)}\\right) \\cos{\\left(q_{6} \\right)} + \\left(\\sin{\\left(q_{2} + \\frac{884279719003555}{562949953421312} \\right)} \\cos{\\left(q_{3} + \\frac{884279719003555}{281474976710656} \\right)} + \\sin{\\left(q_{3} + \\frac{884279719003555}{281474976710656} \\right)} \\cos{\\left(q_{2} + \\frac{884279719003555}{562949953421312} \\right)}\\right) \\sin{\\left(q_{6} \\right)} \\sin{\\left(q_{4} + \\frac{884279719003555}{281474976710656} \\right)} & - \\left(\\left(\\sin{\\left(q_{2} + \\frac{884279719003555}{562949953421312} \\right)} \\sin{\\left(q_{3} + \\frac{884279719003555}{281474976710656} \\right)} - \\cos{\\left(q_{2} + \\frac{884279719003555}{562949953421312} \\right)} \\cos{\\left(q_{3} + \\frac{884279719003555}{281474976710656} \\right)}\\right) \\sin{\\left(q_{5} + \\frac{884279719003555}{281474976710656} \\right)} + \\left(\\sin{\\left(q_{2} + \\frac{884279719003555}{562949953421312} \\right)} \\cos{\\left(q_{3} + \\frac{884279719003555}{281474976710656} \\right)} + \\sin{\\left(q_{3} + \\frac{884279719003555}{281474976710656} \\right)} \\cos{\\left(q_{2} + \\frac{884279719003555}{562949953421312} \\right)}\\right) \\cos{\\left(q_{4} + \\frac{884279719003555}{281474976710656} \\right)} \\cos{\\left(q_{5} + \\frac{884279719003555}{281474976710656} \\right)}\\right) \\sin{\\left(q_{6} \\right)} + \\left(\\sin{\\left(q_{2} + \\frac{884279719003555}{562949953421312} \\right)} \\cos{\\left(q_{3} + \\frac{884279719003555}{281474976710656} \\right)} + \\sin{\\left(q_{3} + \\frac{884279719003555}{281474976710656} \\right)} \\cos{\\left(q_{2} + \\frac{884279719003555}{562949953421312} \\right)}\\right) \\sin{\\left(q_{4} + \\frac{884279719003555}{281474976710656} \\right)} \\cos{\\left(q_{6} \\right)} & - \\left(\\sin{\\left(q_{2} + \\frac{884279719003555}{562949953421312} \\right)} \\sin{\\left(q_{3} + \\frac{884279719003555}{281474976710656} \\right)} - \\cos{\\left(q_{2} + \\frac{884279719003555}{562949953421312} \\right)} \\cos{\\left(q_{3} + \\frac{884279719003555}{281474976710656} \\right)}\\right) \\cos{\\left(q_{5} + \\frac{884279719003555}{281474976710656} \\right)} + \\left(\\sin{\\left(q_{2} + \\frac{884279719003555}{562949953421312} \\right)} \\cos{\\left(q_{3} + \\frac{884279719003555}{281474976710656} \\right)} + \\sin{\\left(q_{3} + \\frac{884279719003555}{281474976710656} \\right)} \\cos{\\left(q_{2} + \\frac{884279719003555}{562949953421312} \\right)}\\right) \\sin{\\left(q_{5} + \\frac{884279719003555}{281474976710656} \\right)} \\cos{\\left(q_{4} + \\frac{884279719003555}{281474976710656} \\right)} & - \\frac{\\left(\\sin{\\left(q_{2} + \\frac{884279719003555}{562949953421312} \\right)} \\sin{\\left(q_{3} + \\frac{884279719003555}{281474976710656} \\right)} - \\cos{\\left(q_{2} + \\frac{884279719003555}{562949953421312} \\right)} \\cos{\\left(q_{3} + \\frac{884279719003555}{281474976710656} \\right)}\\right) \\cos{\\left(q_{5} + \\frac{884279719003555}{281474976710656} \\right)}}{5} + \\frac{\\left(\\sin{\\left(q_{2} + \\frac{884279719003555}{562949953421312} \\right)} \\cos{\\left(q_{3} + \\frac{884279719003555}{281474976710656} \\right)} + \\sin{\\left(q_{3} + \\frac{884279719003555}{281474976710656} \\right)} \\cos{\\left(q_{2} + \\frac{884279719003555}{562949953421312} \\right)}\\right) \\sin{\\left(q_{5} + \\frac{884279719003555}{281474976710656} \\right)} \\cos{\\left(q_{4} + \\frac{884279719003555}{281474976710656} \\right)}}{5} + \\sin{\\left(q_{2} + \\frac{884279719003555}{562949953421312} \\right)} \\sin{\\left(q_{3} + \\frac{884279719003555}{281474976710656} \\right)} + \\sin{\\left(q_{2} + \\frac{884279719003555}{562949953421312} \\right)} - \\cos{\\left(q_{2} + \\frac{884279719003555}{562949953421312} \\right)} \\cos{\\left(q_{3} + \\frac{884279719003555}{281474976710656} \\right)} + \\frac{1}{5}\\\\0 & 0 & 0 & 1\\end{matrix}\\right]$"
      ],
      "text/plain": [
       "Matrix([\n",
       "[(((-sin(q_2 + 884279719003555/562949953421312)*sin(q_3 + 884279719003555/281474976710656)*cos(q_1) + cos(q_1)*cos(q_2 + 884279719003555/562949953421312)*cos(q_3 + 884279719003555/281474976710656))*cos(q_4 + 884279719003555/281474976710656) + sin(q_1)*sin(q_4 + 884279719003555/281474976710656))*cos(q_5 + 884279719003555/281474976710656) + (sin(q_2 + 884279719003555/562949953421312)*cos(q_1)*cos(q_3 + 884279719003555/281474976710656) + sin(q_3 + 884279719003555/281474976710656)*cos(q_1)*cos(q_2 + 884279719003555/562949953421312))*sin(q_5 + 884279719003555/281474976710656))*cos(q_6) + ((-sin(q_2 + 884279719003555/562949953421312)*sin(q_3 + 884279719003555/281474976710656)*cos(q_1) + cos(q_1)*cos(q_2 + 884279719003555/562949953421312)*cos(q_3 + 884279719003555/281474976710656))*sin(q_4 + 884279719003555/281474976710656) - sin(q_1)*cos(q_4 + 884279719003555/281474976710656))*sin(q_6), -(((-sin(q_2 + 884279719003555/562949953421312)*sin(q_3 + 884279719003555/281474976710656)*cos(q_1) + cos(q_1)*cos(q_2 + 884279719003555/562949953421312)*cos(q_3 + 884279719003555/281474976710656))*cos(q_4 + 884279719003555/281474976710656) + sin(q_1)*sin(q_4 + 884279719003555/281474976710656))*cos(q_5 + 884279719003555/281474976710656) + (sin(q_2 + 884279719003555/562949953421312)*cos(q_1)*cos(q_3 + 884279719003555/281474976710656) + sin(q_3 + 884279719003555/281474976710656)*cos(q_1)*cos(q_2 + 884279719003555/562949953421312))*sin(q_5 + 884279719003555/281474976710656))*sin(q_6) + ((-sin(q_2 + 884279719003555/562949953421312)*sin(q_3 + 884279719003555/281474976710656)*cos(q_1) + cos(q_1)*cos(q_2 + 884279719003555/562949953421312)*cos(q_3 + 884279719003555/281474976710656))*sin(q_4 + 884279719003555/281474976710656) - sin(q_1)*cos(q_4 + 884279719003555/281474976710656))*cos(q_6), ((-sin(q_2 + 884279719003555/562949953421312)*sin(q_3 + 884279719003555/281474976710656)*cos(q_1) + cos(q_1)*cos(q_2 + 884279719003555/562949953421312)*cos(q_3 + 884279719003555/281474976710656))*cos(q_4 + 884279719003555/281474976710656) + sin(q_1)*sin(q_4 + 884279719003555/281474976710656))*sin(q_5 + 884279719003555/281474976710656) - (sin(q_2 + 884279719003555/562949953421312)*cos(q_1)*cos(q_3 + 884279719003555/281474976710656) + sin(q_3 + 884279719003555/281474976710656)*cos(q_1)*cos(q_2 + 884279719003555/562949953421312))*cos(q_5 + 884279719003555/281474976710656), ((-sin(q_2 + 884279719003555/562949953421312)*sin(q_3 + 884279719003555/281474976710656)*cos(q_1) + cos(q_1)*cos(q_2 + 884279719003555/562949953421312)*cos(q_3 + 884279719003555/281474976710656))*cos(q_4 + 884279719003555/281474976710656) + sin(q_1)*sin(q_4 + 884279719003555/281474976710656))*sin(q_5 + 884279719003555/281474976710656)/5 - (sin(q_2 + 884279719003555/562949953421312)*cos(q_1)*cos(q_3 + 884279719003555/281474976710656) + sin(q_3 + 884279719003555/281474976710656)*cos(q_1)*cos(q_2 + 884279719003555/562949953421312))*cos(q_5 + 884279719003555/281474976710656)/5 + sin(q_2 + 884279719003555/562949953421312)*cos(q_1)*cos(q_3 + 884279719003555/281474976710656) + sin(q_3 + 884279719003555/281474976710656)*cos(q_1)*cos(q_2 + 884279719003555/562949953421312) + cos(q_1)*cos(q_2 + 884279719003555/562949953421312)],\n",
       "[(((-sin(q_1)*sin(q_2 + 884279719003555/562949953421312)*sin(q_3 + 884279719003555/281474976710656) + sin(q_1)*cos(q_2 + 884279719003555/562949953421312)*cos(q_3 + 884279719003555/281474976710656))*cos(q_4 + 884279719003555/281474976710656) - sin(q_4 + 884279719003555/281474976710656)*cos(q_1))*cos(q_5 + 884279719003555/281474976710656) + (sin(q_1)*sin(q_2 + 884279719003555/562949953421312)*cos(q_3 + 884279719003555/281474976710656) + sin(q_1)*sin(q_3 + 884279719003555/281474976710656)*cos(q_2 + 884279719003555/562949953421312))*sin(q_5 + 884279719003555/281474976710656))*cos(q_6) + ((-sin(q_1)*sin(q_2 + 884279719003555/562949953421312)*sin(q_3 + 884279719003555/281474976710656) + sin(q_1)*cos(q_2 + 884279719003555/562949953421312)*cos(q_3 + 884279719003555/281474976710656))*sin(q_4 + 884279719003555/281474976710656) + cos(q_1)*cos(q_4 + 884279719003555/281474976710656))*sin(q_6), -(((-sin(q_1)*sin(q_2 + 884279719003555/562949953421312)*sin(q_3 + 884279719003555/281474976710656) + sin(q_1)*cos(q_2 + 884279719003555/562949953421312)*cos(q_3 + 884279719003555/281474976710656))*cos(q_4 + 884279719003555/281474976710656) - sin(q_4 + 884279719003555/281474976710656)*cos(q_1))*cos(q_5 + 884279719003555/281474976710656) + (sin(q_1)*sin(q_2 + 884279719003555/562949953421312)*cos(q_3 + 884279719003555/281474976710656) + sin(q_1)*sin(q_3 + 884279719003555/281474976710656)*cos(q_2 + 884279719003555/562949953421312))*sin(q_5 + 884279719003555/281474976710656))*sin(q_6) + ((-sin(q_1)*sin(q_2 + 884279719003555/562949953421312)*sin(q_3 + 884279719003555/281474976710656) + sin(q_1)*cos(q_2 + 884279719003555/562949953421312)*cos(q_3 + 884279719003555/281474976710656))*sin(q_4 + 884279719003555/281474976710656) + cos(q_1)*cos(q_4 + 884279719003555/281474976710656))*cos(q_6), ((-sin(q_1)*sin(q_2 + 884279719003555/562949953421312)*sin(q_3 + 884279719003555/281474976710656) + sin(q_1)*cos(q_2 + 884279719003555/562949953421312)*cos(q_3 + 884279719003555/281474976710656))*cos(q_4 + 884279719003555/281474976710656) - sin(q_4 + 884279719003555/281474976710656)*cos(q_1))*sin(q_5 + 884279719003555/281474976710656) - (sin(q_1)*sin(q_2 + 884279719003555/562949953421312)*cos(q_3 + 884279719003555/281474976710656) + sin(q_1)*sin(q_3 + 884279719003555/281474976710656)*cos(q_2 + 884279719003555/562949953421312))*cos(q_5 + 884279719003555/281474976710656), ((-sin(q_1)*sin(q_2 + 884279719003555/562949953421312)*sin(q_3 + 884279719003555/281474976710656) + sin(q_1)*cos(q_2 + 884279719003555/562949953421312)*cos(q_3 + 884279719003555/281474976710656))*cos(q_4 + 884279719003555/281474976710656) - sin(q_4 + 884279719003555/281474976710656)*cos(q_1))*sin(q_5 + 884279719003555/281474976710656)/5 - (sin(q_1)*sin(q_2 + 884279719003555/562949953421312)*cos(q_3 + 884279719003555/281474976710656) + sin(q_1)*sin(q_3 + 884279719003555/281474976710656)*cos(q_2 + 884279719003555/562949953421312))*cos(q_5 + 884279719003555/281474976710656)/5 + sin(q_1)*sin(q_2 + 884279719003555/562949953421312)*cos(q_3 + 884279719003555/281474976710656) + sin(q_1)*sin(q_3 + 884279719003555/281474976710656)*cos(q_2 + 884279719003555/562949953421312) + sin(q_1)*cos(q_2 + 884279719003555/562949953421312)],\n",
       "[                                                                                                                                                                        ((sin(q_2 + 884279719003555/562949953421312)*sin(q_3 + 884279719003555/281474976710656) - cos(q_2 + 884279719003555/562949953421312)*cos(q_3 + 884279719003555/281474976710656))*sin(q_5 + 884279719003555/281474976710656) + (sin(q_2 + 884279719003555/562949953421312)*cos(q_3 + 884279719003555/281474976710656) + sin(q_3 + 884279719003555/281474976710656)*cos(q_2 + 884279719003555/562949953421312))*cos(q_4 + 884279719003555/281474976710656)*cos(q_5 + 884279719003555/281474976710656))*cos(q_6) + (sin(q_2 + 884279719003555/562949953421312)*cos(q_3 + 884279719003555/281474976710656) + sin(q_3 + 884279719003555/281474976710656)*cos(q_2 + 884279719003555/562949953421312))*sin(q_6)*sin(q_4 + 884279719003555/281474976710656),                                                                                                                                                                         -((sin(q_2 + 884279719003555/562949953421312)*sin(q_3 + 884279719003555/281474976710656) - cos(q_2 + 884279719003555/562949953421312)*cos(q_3 + 884279719003555/281474976710656))*sin(q_5 + 884279719003555/281474976710656) + (sin(q_2 + 884279719003555/562949953421312)*cos(q_3 + 884279719003555/281474976710656) + sin(q_3 + 884279719003555/281474976710656)*cos(q_2 + 884279719003555/562949953421312))*cos(q_4 + 884279719003555/281474976710656)*cos(q_5 + 884279719003555/281474976710656))*sin(q_6) + (sin(q_2 + 884279719003555/562949953421312)*cos(q_3 + 884279719003555/281474976710656) + sin(q_3 + 884279719003555/281474976710656)*cos(q_2 + 884279719003555/562949953421312))*sin(q_4 + 884279719003555/281474976710656)*cos(q_6),                                                                                             -(sin(q_2 + 884279719003555/562949953421312)*sin(q_3 + 884279719003555/281474976710656) - cos(q_2 + 884279719003555/562949953421312)*cos(q_3 + 884279719003555/281474976710656))*cos(q_5 + 884279719003555/281474976710656) + (sin(q_2 + 884279719003555/562949953421312)*cos(q_3 + 884279719003555/281474976710656) + sin(q_3 + 884279719003555/281474976710656)*cos(q_2 + 884279719003555/562949953421312))*sin(q_5 + 884279719003555/281474976710656)*cos(q_4 + 884279719003555/281474976710656),                                                                                                                  -(sin(q_2 + 884279719003555/562949953421312)*sin(q_3 + 884279719003555/281474976710656) - cos(q_2 + 884279719003555/562949953421312)*cos(q_3 + 884279719003555/281474976710656))*cos(q_5 + 884279719003555/281474976710656)/5 + (sin(q_2 + 884279719003555/562949953421312)*cos(q_3 + 884279719003555/281474976710656) + sin(q_3 + 884279719003555/281474976710656)*cos(q_2 + 884279719003555/562949953421312))*sin(q_5 + 884279719003555/281474976710656)*cos(q_4 + 884279719003555/281474976710656)/5 + sin(q_2 + 884279719003555/562949953421312)*sin(q_3 + 884279719003555/281474976710656) + sin(q_2 + 884279719003555/562949953421312) - cos(q_2 + 884279719003555/562949953421312)*cos(q_3 + 884279719003555/281474976710656) + 1/5],\n",
       "[                                                                                                                                                                                                                                                                                                                                                                                                                                                                                                                                                                                                                                                                                                                                                                                                                                                                                                                          0,                                                                                                                                                                                                                                                                                                                                                                                                                                                                                                                                                                                                                                                                                                                                                                                                                                                                                                                            0,                                                                                                                                                                                                                                                                                                                                                                                                                                                                                                                                                                                               0,                                                                                                                                                                                                                                                                                                                                                                                                                                                                                                                                                                                                                                                                                                                                                                                                                                                           1]])"
      ]
     },
     "execution_count": 13,
     "metadata": {},
     "output_type": "execute_result"
    }
   ],
   "source": [
    "L = [0.2, 1, 1, 0.2]\n",
    "T1 = DenavitRow(0,      L[0],   0,      pi/2,   Joint(sympy.Symbol('q_1'),JointType.ROTATIONAL,upper_limit=pi/2,lower_limit=-pi/2))\n",
    "T2 = DenavitRow(pi/2,   0,      L[1],   0,      Joint(sympy.Symbol('q_2'),JointType.ROTATIONAL))\n",
    "T3 = DenavitRow(pi,     0,      0,      pi/2,   Joint(sympy.Symbol('q_3'),JointType.ROTATIONAL))\n",
    "# T_ = DenavitRow(pi/2,   0.02,       0,      pi/2)\n",
    "T4 = DenavitRow(pi,     L[2],   0,      pi/2,   Joint(sympy.Symbol('q_4'),JointType.ROTATIONAL))\n",
    "T5 = DenavitRow(pi,     0,      0,      pi/2,   Joint(sympy.Symbol('q_5'),JointType.ROTATIONAL))\n",
    "T6 = DenavitRow(0,      L[3],   0,      0,      Joint(sympy.Symbol('q_6'),JointType.ROTATIONAL))\n",
    "\n",
    "T_articular6 = DenavitDK((T1,T2,T3,T4,T5,T6))\n",
    "T_articular6.directTransformSym"
   ]
  },
  {
   "cell_type": "code",
   "execution_count": 14,
   "metadata": {},
   "outputs": [],
   "source": [
    "# T_articular6.genURDF()\n",
    "# T_articular6.genCCode()"
   ]
  },
  {
   "cell_type": "code",
   "execution_count": 15,
   "metadata": {},
   "outputs": [
    {
     "data": {
      "text/plain": [
       "array([[ 0.21667169, -0.26112258,  0.94067443, -0.04166873],\n",
       "       [-0.95867353, -0.23890322,  0.1545002 , -0.32699789],\n",
       "       [ 0.18438665, -0.93527549, -0.30209487, -0.2294141 ],\n",
       "       [ 0.        ,  0.        ,  0.        ,  1.        ]])"
      ]
     },
     "execution_count": 15,
     "metadata": {},
     "output_type": "execute_result"
    }
   ],
   "source": [
    "pose = T_articular6.eval((1,1,1,1,1,1))\n",
    "pose"
   ]
  },
  {
   "cell_type": "code",
   "execution_count": 16,
   "metadata": {},
   "outputs": [
    {
     "name": "stdout",
     "output_type": "stream",
     "text": [
      "0.5303672509456662\n",
      "0.13309089704522306\n",
      "0.19805321952667992\n",
      "0.05809623585716697\n",
      "0.017616481038507496\n",
      "0.0009623456241788129\n",
      "1.787629733289395e-06\n",
      "Solution with error 1.787629733289395e-06 in 7 iterations\n",
      "18.121146966473756\n",
      "2.144665595977677\n",
      "0.2512664394157346\n",
      "0.0038410540557825236\n",
      "8.995987982353852e-07\n",
      "Solution with error 8.995987982353852e-07 in 5 iterations\n"
     ]
    },
    {
     "data": {
      "text/plain": [
       "[4.141116140768799,\n",
       " 5.282429591444287,\n",
       " 2.1409939196888277,\n",
       " 4.1415146764314565,\n",
       " 0.9993505753336114,\n",
       " 0.9989170096848352]"
      ]
     },
     "execution_count": 16,
     "metadata": {},
     "output_type": "execute_result"
    }
   ],
   "source": [
    "T_articular6.inverseEval([0,0,0,0,0,0],pose)"
   ]
  },
  {
   "cell_type": "markdown",
   "metadata": {},
   "source": [
    "## 6 DOF robot with transformations in between"
   ]
  },
  {
   "cell_type": "code",
   "execution_count": 17,
   "metadata": {},
   "outputs": [],
   "source": [
    "Lv = 50\n",
    "T1 = DenavitRow(0,      0,          0,     -pi/2,   Joint(sympy.Symbol('q_1'),JointType.ROTATIONAL))\n",
    "T2 = DenavitRow(0,      0,          Lv,     0,      Joint(sympy.Symbol('q_2'),JointType.ROTATIONAL))\n",
    "T3 = DenavitRow(0,      -0.0425,    Lv,     pi/2,   Joint(sympy.Symbol('q_3'),JointType.ROTATIONAL))\n",
    "T_ = DenavitRow(pi/2,   0.02,       0,      pi/2)\n",
    "T4 = DenavitRow(pi/2,   0,          0,      pi/2,   Joint(sympy.Symbol('q_4'),JointType.ROTATIONAL))\n",
    "T5 = DenavitRow(pi/2,   0,          0,      pi/2,   Joint(sympy.Symbol('q_5'),JointType.ROTATIONAL))\n",
    "T6 = DenavitRow(0,      0,          0,      0,      Joint(sympy.Symbol('q_6'),JointType.ROTATIONAL))\n",
    "TCP = DenavitRow(0,     0,          10,     0)\n",
    "\n",
    "T_walter = DenavitDK((T1,T2,T3,T_,T4,T5,T6,TCP),\"Walter\")"
   ]
  },
  {
   "cell_type": "code",
   "execution_count": 18,
   "metadata": {},
   "outputs": [],
   "source": [
    "T_walter.genURDF()\n",
    "# T_walter.genCCode()"
   ]
  },
  {
   "cell_type": "code",
   "execution_count": 19,
   "metadata": {},
   "outputs": [],
   "source": [
    "# A=T_walter.directTransformSym\n",
    "# U,S,V = A.singular_value_decomposition()"
   ]
  },
  {
   "cell_type": "code",
   "execution_count": 20,
   "metadata": {},
   "outputs": [
    {
     "name": "stdout",
     "output_type": "stream",
     "text": [
      "833.7461155046242\n",
      "214.28174711164618\n",
      "59.02379479132681\n",
      "9.988013375618783\n",
      "0.258650977688607\n",
      "4.803857948268533e-05\n",
      "Solution with error 4.803857948268533e-05 in 6 iterations\n",
      "31501.757214589757\n",
      "8698.474095096368\n",
      "6547.043251137708\n",
      "24126.787542586535\n",
      "15316.6375162577\n",
      "28168.49069049724\n",
      "13308.87168781936\n",
      "121.0291465474434\n",
      "530.5850591692912\n",
      "88.84164580036354\n",
      "13.644308563211178\n",
      "45.53630372198886\n",
      "229.12007607764096\n",
      "693.9994757039447\n",
      "51.83113027817151\n",
      "2068.815339089401\n",
      "2805.8213219679333\n",
      "576.2993425924069\n",
      "29.70832250028074\n",
      "377.25613575221416\n",
      "463.65001563100014\n",
      "410.0970440129237\n",
      "186.80734745042597\n",
      "124.62741038257941\n",
      "12.264742250141406\n",
      "0.9821619404475482\n",
      "0.010295812821268442\n",
      "3.285188435835655e-07\n",
      "Solution with error 3.285188435835655e-07 in 28 iterations\n"
     ]
    },
    {
     "data": {
      "text/plain": [
       "[4.127886933503795,\n",
       " 2.1415903629941035,\n",
       " 5.283975563317476,\n",
       " 0.9932963611964022,\n",
       " 2.145970535460075,\n",
       " 4.134760618003171]"
      ]
     },
     "execution_count": 20,
     "metadata": {},
     "output_type": "execute_result"
    }
   ],
   "source": [
    "pose = T_walter.eval((1,1,1,1,1,1))\n",
    "joints = T_walter.inverseEval([0,0,0,0,0,0],pose)\n",
    "joints"
   ]
  },
  {
   "cell_type": "code",
   "execution_count": 21,
   "metadata": {},
   "outputs": [
    {
     "data": {
      "text/plain": [
       "array([[-5.42919436e-01,  7.69282144e-01,  3.36813701e-01,\n",
       "        -2.02960813e+00],\n",
       "       [ 7.03985744e-01,  6.35588473e-01, -3.16909080e-01,\n",
       "         1.22551404e+01],\n",
       "       [-4.57867402e-01,  6.50559449e-02, -8.86636998e-01,\n",
       "        -9.21252292e+01],\n",
       "       [ 0.00000000e+00,  0.00000000e+00,  0.00000000e+00,\n",
       "         1.00000000e+00]])"
      ]
     },
     "execution_count": 21,
     "metadata": {},
     "output_type": "execute_result"
    }
   ],
   "source": [
    "T_walter.eval(joints)"
   ]
  },
  {
   "cell_type": "code",
   "execution_count": 22,
   "metadata": {},
   "outputs": [
    {
     "data": {
      "text/plain": [
       "array([[-5.42948980e-01,  7.69269352e-01,  3.36795292e-01,\n",
       "        -2.02982706e+00],\n",
       "       [ 7.03951467e-01,  6.35609326e-01, -3.16943396e-01,\n",
       "         1.22555160e+01],\n",
       "       [-4.57885069e-01,  6.50034461e-02, -8.86631725e-01,\n",
       "        -9.21255942e+01],\n",
       "       [ 0.00000000e+00,  0.00000000e+00,  0.00000000e+00,\n",
       "         1.00000000e+00]])"
      ]
     },
     "execution_count": 22,
     "metadata": {},
     "output_type": "execute_result"
    }
   ],
   "source": [
    "pose"
   ]
  },
  {
   "cell_type": "code",
   "execution_count": 23,
   "metadata": {},
   "outputs": [
    {
     "data": {
      "text/plain": [
       "array([[-0.2248451 , -0.84147098, -0.4912955 ,  3.35407432],\n",
       "       [-0.35017549,  0.54030231, -0.7651474 ,  5.22366125],\n",
       "       [ 0.90929743,  0.        , -0.41614684, 87.53842058],\n",
       "       [ 0.        ,  0.        ,  0.        ,  1.        ]])"
      ]
     },
     "execution_count": 23,
     "metadata": {},
     "output_type": "execute_result"
    }
   ],
   "source": [
    "position_walter = TwoLinkAndBase(Lv,Lv)\n",
    "position_walter.directKinHomoTSymbols()\n",
    "position_walter.directLambda(1,1,1)"
   ]
  },
  {
   "cell_type": "code",
   "execution_count": 24,
   "metadata": {},
   "outputs": [
    {
     "data": {
      "text/plain": [
       "array([[ -0.2248451 ,  -0.84147098,   0.4912955 ,   3.38983683],\n",
       "       [ -0.35017549,   0.54030231,   0.7651474 ,   5.2006984 ],\n",
       "       [ -0.90929743,   0.        ,  -0.41614684, -87.53842058],\n",
       "       [  0.        ,   0.        ,   0.        ,   1.        ]])"
      ]
     },
     "execution_count": 24,
     "metadata": {},
     "output_type": "execute_result"
    }
   ],
   "source": [
    "aux = DenavitDK((T1,T2,T3),\"Walter\")\n",
    "aux.directLambdaTransform(1,1,1)"
   ]
  }
 ],
 "metadata": {
  "kernelspec": {
   "display_name": "Python 3.6.9 64-bit",
   "language": "python",
   "name": "python3"
  },
  "language_info": {
   "codemirror_mode": {
    "name": "ipython",
    "version": 3
   },
   "file_extension": ".py",
   "mimetype": "text/x-python",
   "name": "python",
   "nbconvert_exporter": "python",
   "pygments_lexer": "ipython3",
   "version": "3.8.10"
  },
  "orig_nbformat": 4,
  "vscode": {
   "interpreter": {
    "hash": "31f2aee4e71d21fbe5cf8b01ff0e069b9275f58929596ceb00d14d90e3e16cd6"
   }
  }
 },
 "nbformat": 4,
 "nbformat_minor": 2
}
